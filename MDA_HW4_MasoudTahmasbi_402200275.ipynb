{
  "cells": [
    {
      "cell_type": "markdown",
      "source": [
        "***\n",
        "<center><img src='https://github.com/HesamAsad/HesamAsad.github.io/blob/main/images/LOGO_EN_blue.png?raw=true' width=250/></center>\n",
        "\n",
        "# <center>\n",
        "## <center><span style='font-family:\"Times New Roman\"'><span style='background:dark'>  <font color='#1966ab'>$\\LARGE{\\text{Sharif University of Technology}}$</font>  <br>  <br>  <font color='#FFFFCC'>$\\Large{\\text{Masoud Tahmasbi}}$ </font> <br> <font color='#FFFFCC'>$\\normalsize {\\text{Student ID: } 402200275}$ </font>  <br>  <br> <font color='#33FFCC'>$\\large{\\text{EE577: Massive Data Analytics}}$</font> <br>  <font color='#FFFF00'>$\\normalsize{\\text{Assignment #4 - Random Walks based Recommender System}}$ </font>\n",
        "<br>\n",
        "\n",
        "***"
      ],
      "metadata": {
        "id": "9GkWZdCRT4MD"
      },
      "id": "9GkWZdCRT4MD"
    },
    {
      "cell_type": "markdown",
      "source": [
        "# $\\text{Data Preparation}$"
      ],
      "metadata": {
        "id": "D-KH48GgrPp4"
      },
      "id": "D-KH48GgrPp4"
    },
    {
      "cell_type": "code",
      "execution_count": null,
      "metadata": {
        "id": "237c3551"
      },
      "outputs": [],
      "source": [
        "! pip install pyspark"
      ],
      "id": "237c3551"
    },
    {
      "cell_type": "code",
      "execution_count": null,
      "metadata": {
        "id": "Xmb3CBId6UCQ"
      },
      "outputs": [],
      "source": [
        "from google.colab import drive\n",
        "drive.mount('/content/gdrive')\n",
        "\n",
        "!cp '/content/gdrive/My Drive/twitter_data_v2.tar.gz' twitter_data\n",
        "!tar -xzvf \"/content/twitter_data\""
      ],
      "id": "Xmb3CBId6UCQ"
    },
    {
      "cell_type": "code",
      "execution_count": null,
      "metadata": {
        "id": "3706a8d1"
      },
      "outputs": [],
      "source": [
        "from pyspark.sql import SparkSession\n",
        "spark = SparkSession \\\n",
        "    .builder \\\n",
        "    .appName(\"HW4\") \\\n",
        "    .master(\"local[*]\") \\\n",
        "    .getOrCreate()\n",
        "\n",
        "sc=spark.sparkContext"
      ],
      "id": "3706a8d1"
    },
    {
      "cell_type": "code",
      "execution_count": null,
      "id": "759c397d-f2f3-446e-aaa6-f92cee9304c2",
      "metadata": {
        "id": "759c397d-f2f3-446e-aaa6-f92cee9304c2"
      },
      "outputs": [],
      "source": [
        "twitter_rdd = sc.textFile(\"twitter_data_v2.jsonl\")"
      ]
    },
    {
      "cell_type": "code",
      "execution_count": null,
      "id": "64309a7d-84e8-4ee4-bbcf-7a38517c4112",
      "metadata": {
        "id": "64309a7d-84e8-4ee4-bbcf-7a38517c4112",
        "outputId": "249079a7-6b65-4324-e13d-4ccb7bc73f96"
      },
      "outputs": [
        {
          "name": "stderr",
          "output_type": "stream",
          "text": [
            "                                                                                \r"
          ]
        },
        {
          "data": {
            "text/plain": [
              "4175860"
            ]
          },
          "execution_count": 6,
          "metadata": {},
          "output_type": "execute_result"
        }
      ],
      "source": [
        "import json\n",
        "parsed_rdd = twitter_rdd.map(lambda x: json.loads(x))\n",
        "parsed_rdd.count()"
      ]
    },
    {
      "cell_type": "code",
      "execution_count": null,
      "id": "892c71c3-160f-43a8-b912-9433fcc734bc",
      "metadata": {
        "id": "892c71c3-160f-43a8-b912-9433fcc734bc",
        "outputId": "f424d30f-5abf-488a-9638-dd1dcd773b75"
      },
      "outputs": [
        {
          "name": "stderr",
          "output_type": "stream",
          "text": [
            "                                                                                \r"
          ]
        },
        {
          "data": {
            "text/plain": [
              "[{'in_reply_to_status_id_str': None,\n",
              "  'in_reply_to_user_id_str': None,\n",
              "  'in_reply_to_status_id': None,\n",
              "  'in_reply_to_user_id': None,\n",
              "  'in_reply_to_screen_name': None,\n",
              "  'truncated': False,\n",
              "  'is_quote_status': False,\n",
              "  'retweet_count': 20,\n",
              "  'reply_count': 0,\n",
              "  'quote_count': 0,\n",
              "  'favorite_count': 0,\n",
              "  'favorited': False,\n",
              "  'retweeted': True,\n",
              "  'possibly_sensitive': None,\n",
              "  'lang': 'fa',\n",
              "  'geo': None,\n",
              "  'view_count': 0,\n",
              "  'tweet_type': 'retweeted',\n",
              "  'emojis': None,\n",
              "  'text': 'فک کن بچه رو کشتن، بچه ۲۰ ساله، حالام میخوان مادرش رو ۵ سال ببرن زندان.\\nواقعا آخوند چه کثافتی هست که این بی پدرا انداختن تو زندگی ما.\\n#محمدجواد_زاهدی\\n#مهسا_یزدانی',\n",
              "  'user': {'id': '1565039849287172096',\n",
              "   'id_str': '1565039849287172096',\n",
              "   'created_at': 1661969566,\n",
              "   'name': 'Negin',\n",
              "   'screen_name': 'Negin88419550',\n",
              "   'location': '',\n",
              "   'description': '',\n",
              "   'verified': False,\n",
              "   'followers_count': 20,\n",
              "   'friends_count': 4,\n",
              "   'listed_count': 0,\n",
              "   'favourites_count': 15093,\n",
              "   'statuses_count': 4389,\n",
              "   'profile_image_url': 'https://abs.twimg.com/sticky/default_profile_images/default_profile_normal.png',\n",
              "   'geo_enabled': False,\n",
              "   'profile_image_url_https': 'https://abs.twimg.com/sticky/default_profile_images/default_profile_normal.png',\n",
              "   'default_profile': True,\n",
              "   'default_profile_image': True},\n",
              "  'entities': {'urls': [],\n",
              "   'hashtags': [],\n",
              "   'symbols': [],\n",
              "   'user_mentions': [{'screen_name': 'DarkSheepRise',\n",
              "     'name': 'ببعی تنهای شب(اوباشگر)'}]},\n",
              "  'retweeted_status': {'id': '1735327845876936896',\n",
              "   'created_at': 1702569373,\n",
              "   'user': {'id': '714591154138914816',\n",
              "    'id_str': '714591154138914816',\n",
              "    'created_at': 1459206782,\n",
              "    'name': 'ببعی تنهای شب(اوباشگر)',\n",
              "    'screen_name': 'DarkSheepRise',\n",
              "    'location': 'Spain',\n",
              "    'description': 'نماینده منتخب مردم در شورای ائتلافی گذار از جمهوری اسلامی',\n",
              "    'verified': False,\n",
              "    'followers_count': 3576,\n",
              "    'friends_count': 1103,\n",
              "    'listed_count': 10,\n",
              "    'favourites_count': 88717,\n",
              "    'statuses_count': 73511,\n",
              "    'profile_image_url': 'https://pbs.twimg.com/profile_images/1724321146613473280/L8DCW0RL_normal.jpg',\n",
              "    'geo_enabled': True,\n",
              "    'profile_image_url_https': 'https://pbs.twimg.com/profile_images/1724321146613473280/L8DCW0RL_normal.jpg',\n",
              "    'profile_banner_url': 'https://pbs.twimg.com/profile_banners/714591154138914816/1599918940',\n",
              "    'default_profile': True,\n",
              "    'default_profile_image': False}},\n",
              "  'engagement': 20,\n",
              "  'impression': 0,\n",
              "  'possible_reach': 0.0,\n",
              "  'influence': 1.0,\n",
              "  'impression_rate': 0.0,\n",
              "  'engagement_rate': 0.0046,\n",
              "  'twitter_engagement_rate': 0,\n",
              "  'timestamp': 1705533561,\n",
              "  'index_version': 1,\n",
              "  'created_at': 1702591796,\n",
              "  'id': '1735421893681795425',\n",
              "  'tweet_source_type': None}]"
            ]
          },
          "execution_count": 7,
          "metadata": {},
          "output_type": "execute_result"
        }
      ],
      "source": [
        "parsed_rdd.takeSample(False,1,112)"
      ]
    },
    {
      "cell_type": "markdown",
      "source": [
        "***\n",
        "# $\\text{Creating Users' Graph}$"
      ],
      "metadata": {
        "id": "8nGj6fPLUIzI"
      },
      "id": "8nGj6fPLUIzI"
    },
    {
      "cell_type": "code",
      "execution_count": null,
      "id": "08eb7b26-62cc-46a7-969b-866b470ea699",
      "metadata": {
        "id": "08eb7b26-62cc-46a7-969b-866b470ea699"
      },
      "outputs": [],
      "source": [
        "def users_tweets_extractor(tweet):\n",
        "    if tweet.get('tweet_type') == 'generated':\n",
        "        try:\n",
        "            generator_uid = tweet.get('user').get('id')\n",
        "        except: return []\n",
        "        try:\n",
        "            generated_tweet_id = tweet.get('id')\n",
        "        except: return []\n",
        "\n",
        "        return [(generator_uid,[generated_tweet_id])]\n",
        "\n",
        "    if tweet.get('tweet_type') == 'quoted':\n",
        "        try:\n",
        "            quoting_uid = tweet.get('user').get('id')\n",
        "        except: return []\n",
        "        try:\n",
        "            quoted_uid = tweet.get('quoted_status').get('user').get('id')\n",
        "        except: return []\n",
        "        try:\n",
        "            quoted_tweet_id = tweet.get('quoted_status').get('id')\n",
        "        except: return []\n",
        "\n",
        "        return [(quoted_uid,[quoted_tweet_id]) , (quoting_uid,[quoted_tweet_id])]\n",
        "\n",
        "\n",
        "    if tweet.get('tweet_type') == 'replied':\n",
        "        try:\n",
        "            replying_uid = tweet.get('user').get('id')\n",
        "        except: return []\n",
        "        try:\n",
        "            replied_uid = tweet.get('in_reply_to_user_id_str')\n",
        "        except: return []\n",
        "        try:\n",
        "            replied_tweet_id = tweet.get('in_reply_to_status_id_str')\n",
        "        except: return []\n",
        "\n",
        "        return [(replied_uid,[replied_tweet_id]) , (replying_uid,[replied_tweet_id])]\n",
        "\n",
        "\n",
        "    if tweet.get('tweet_type') == 'retweeted':\n",
        "        try:\n",
        "            retweeting_uid = tweet.get('user').get('id')\n",
        "        except: return []\n",
        "        try:\n",
        "            retweeted_uid = tweet.get('retweeted_status').get('user').get('id')\n",
        "        except: return []\n",
        "        try:\n",
        "            retweeted_tweet_id = tweet.get('retweeted_status').get('id')\n",
        "        except: return []\n",
        "\n",
        "        return [(retweeted_uid,[retweeted_tweet_id]) , (retweeting_uid,[retweeted_tweet_id])]\n",
        ""
      ]
    },
    {
      "cell_type": "code",
      "execution_count": null,
      "id": "31efc27f-12f0-45eb-bd6d-04ec40cbc6ca",
      "metadata": {
        "id": "31efc27f-12f0-45eb-bd6d-04ec40cbc6ca",
        "outputId": "949cd2ca-5ad4-40e6-de3f-996436b61dc4"
      },
      "outputs": [
        {
          "name": "stderr",
          "output_type": "stream",
          "text": [
            "                                                                                \r"
          ]
        },
        {
          "data": {
            "text/plain": [
              "7355551"
            ]
          },
          "execution_count": 8,
          "metadata": {},
          "output_type": "execute_result"
        }
      ],
      "source": [
        "users_rdd_flat = parsed_rdd.flatMap(lambda x:users_tweets_extractor(x))\n",
        "users_rdd_flat.count()"
      ]
    },
    {
      "cell_type": "code",
      "execution_count": null,
      "id": "c842ffff-5d0e-422b-ba74-06827adc1947",
      "metadata": {
        "id": "c842ffff-5d0e-422b-ba74-06827adc1947",
        "outputId": "c178de09-33f0-4774-c2d3-318799942097"
      },
      "outputs": [
        {
          "name": "stderr",
          "output_type": "stream",
          "text": [
            "                                                                                \r"
          ]
        },
        {
          "data": {
            "text/plain": [
              "330500"
            ]
          },
          "execution_count": 9,
          "metadata": {},
          "output_type": "execute_result"
        }
      ],
      "source": [
        "users_rdd = users_rdd_flat.reduceByKey(lambda a,b: a+b)\n",
        "users_rdd.count()"
      ]
    },
    {
      "cell_type": "code",
      "execution_count": null,
      "id": "5f4c641d-ca16-4854-bacb-f36e46ff5cbf",
      "metadata": {
        "id": "5f4c641d-ca16-4854-bacb-f36e46ff5cbf"
      },
      "outputs": [],
      "source": [
        "# users_rdd.first()"
      ]
    },
    {
      "cell_type": "code",
      "execution_count": null,
      "id": "f5b7c737-3d3a-45e9-982b-4efcec635b69",
      "metadata": {
        "id": "f5b7c737-3d3a-45e9-982b-4efcec635b69"
      },
      "outputs": [],
      "source": [
        "def tweets_related_users(tweet):\n",
        "    if tweet.get('tweet_type') == 'generated':\n",
        "        try:\n",
        "            generator_uid = tweet.get('user').get('id')\n",
        "        except: return []\n",
        "        try:\n",
        "            generated_tweet_id = tweet.get('id')\n",
        "        except: return []\n",
        "\n",
        "        return [(generated_tweet_id,[generator_uid])]\n",
        "\n",
        "    if tweet.get('tweet_type') == 'quoted':\n",
        "        try:\n",
        "            quoting_uid = tweet.get('user').get('id')\n",
        "        except: return []\n",
        "        try:\n",
        "            quoted_uid = tweet.get('quoted_status').get('user').get('id')\n",
        "        except: return []\n",
        "        try:\n",
        "            quoted_tweet_id = tweet.get('quoted_status').get('id')\n",
        "        except: return []\n",
        "\n",
        "        return [(quoted_tweet_id,[quoted_uid]) , (quoted_tweet_id,[quoting_uid])]\n",
        "\n",
        "\n",
        "    if tweet.get('tweet_type') == 'replied':\n",
        "        try:\n",
        "            replying_uid = tweet.get('user').get('id')\n",
        "        except: return []\n",
        "        try:\n",
        "            replied_uid = tweet.get('in_reply_to_user_id_str')\n",
        "        except: return []\n",
        "        try:\n",
        "            replied_tweet_id = tweet.get('in_reply_to_status_id_str')\n",
        "        except: return []\n",
        "\n",
        "        return [(replied_tweet_id,[replied_uid]) , (replied_tweet_id,[replying_uid])]\n",
        "\n",
        "\n",
        "\n",
        "    if tweet.get('tweet_type') == 'retweeted':\n",
        "        try:\n",
        "            retweeting_uid = tweet.get('user').get('id')\n",
        "        except: return []\n",
        "        try:\n",
        "            retweeted_uid = tweet.get('retweeted_status').get('user').get('id')\n",
        "        except: return []\n",
        "        try:\n",
        "            retweeted_tweet_id = tweet.get('retweeted_status').get('id')\n",
        "        except: return []\n",
        "\n",
        "        return [(retweeted_tweet_id,[retweeted_uid]) , (retweeted_tweet_id,[retweeting_uid])]\n",
        ""
      ]
    },
    {
      "cell_type": "code",
      "execution_count": null,
      "id": "86c7855e-8e90-460b-b60d-eae1c4a2625d",
      "metadata": {
        "id": "86c7855e-8e90-460b-b60d-eae1c4a2625d",
        "outputId": "19f24a86-d10b-4334-f569-c7d793dd9bab"
      },
      "outputs": [
        {
          "name": "stderr",
          "output_type": "stream",
          "text": [
            "                                                                                \r"
          ]
        },
        {
          "data": {
            "text/plain": [
              "7355551"
            ]
          },
          "execution_count": 11,
          "metadata": {},
          "output_type": "execute_result"
        }
      ],
      "source": [
        "tweets_rdd_flat = parsed_rdd.flatMap(lambda x:tweets_related_users(x))\n",
        "tweets_rdd_flat.count()"
      ]
    },
    {
      "cell_type": "code",
      "execution_count": null,
      "id": "136e68f7-f1df-4e37-b933-7c2291fb55ac",
      "metadata": {
        "id": "136e68f7-f1df-4e37-b933-7c2291fb55ac",
        "outputId": "b868f9a8-ff73-47eb-f858-27859ade6991"
      },
      "outputs": [
        {
          "name": "stderr",
          "output_type": "stream",
          "text": [
            "                                                                                \r"
          ]
        },
        {
          "data": {
            "text/plain": [
              "1475790"
            ]
          },
          "execution_count": 12,
          "metadata": {},
          "output_type": "execute_result"
        }
      ],
      "source": [
        "tweets_rdd = tweets_rdd_flat.reduceByKey(lambda a,b: a+b)\n",
        "tweets_rdd.count()"
      ]
    },
    {
      "cell_type": "code",
      "execution_count": null,
      "id": "070507e0-c9ce-42d5-9c41-8478ab90598d",
      "metadata": {
        "id": "070507e0-c9ce-42d5-9c41-8478ab90598d"
      },
      "outputs": [],
      "source": [
        "# tweets_rdd.first()"
      ]
    },
    {
      "cell_type": "markdown",
      "id": "deb50f7c-2e48-4d46-8e3c-a807bda882f8",
      "metadata": {
        "jp-MarkdownHeadingCollapsed": true,
        "tags": [],
        "id": "deb50f7c-2e48-4d46-8e3c-a807bda882f8"
      },
      "source": [
        "***\n",
        "# $\\text{User #1}$"
      ]
    },
    {
      "cell_type": "code",
      "execution_count": null,
      "id": "8661e333-1745-44ec-8033-449bc55a7f4f",
      "metadata": {
        "id": "8661e333-1745-44ec-8033-449bc55a7f4f"
      },
      "outputs": [],
      "source": [
        "target_user = ('1697206791715635200',\n",
        "               ['1736250426230493213','1736250178363883872','1736249928018764235',\n",
        "                '1735951927584682444','1736108738921033809','1736287140860829901',\n",
        "                '1736622445505741159','1734655981412573264','1734657820010991962',\n",
        "                '1734661707908120774','1734661220601352349','1734659777710498122',\n",
        "                '1734658201302577473','1734656185226424457','1734799518305034308',\n",
        "                '1734798971577536976','1734798971577536976','1734798173476950425',\n",
        "                '1734826498190717030','1734531657623859526','1734526333823176854',\n",
        "                '1734555309257982198','1734830893259239623','1736287052885336178',\n",
        "                '1734613998107086944','1734568158986375391','1734545449514582130',\n",
        "                '1734591710326370694','1734591032791060488','1734876907928264981',\n",
        "                '1734589323377352980','1734887227686047878','1734588341004181625',\n",
        "                '1734589532039741549','1734589532039741549','1734830893259239623',\n",
        "                '1734813269620048114','1734590919716765976','1734541649462649082',\n",
        "                '1734588709524136318','1734613510997397685','1734613510997397685',\n",
        "                '1734549000622051631','1734579905252209035','1734536728877154500',\n",
        "                '1734540761868202400','1734540640837419434','1734562848087388436',\n",
        "                '1736345546997088650','1733927496456794435','1733927496456794435',\n",
        "                '1734918783771250916','1734998874064912711','1735000541858504730',\n",
        "                '1735003971243192520','1736076770128851061','1736046266474262648',\n",
        "                '1735995782283555029','1736079804095517131','1733027686677717325',\n",
        "                '1736023600539328584','1736068818160533903','1736068403750695299',\n",
        "                '1735262181023695354','1735731570865000582'])"
      ]
    },
    {
      "cell_type": "code",
      "execution_count": null,
      "id": "e1797f1e-a7c1-4fad-83d4-2a3b5312aaf7",
      "metadata": {
        "id": "e1797f1e-a7c1-4fad-83d4-2a3b5312aaf7",
        "outputId": "3ed1e13c-e2a6-448a-9954-240a5a8a0e67"
      },
      "outputs": [
        {
          "data": {
            "text/plain": [
              "['1734613510997397685',\n",
              " '1734590919716765976',\n",
              " '1734555309257982198',\n",
              " '1734655981412573264',\n",
              " '1735731570865000582',\n",
              " '1736287140860829901',\n",
              " '1734549000622051631',\n",
              " '1734799518305034308',\n",
              " '1734661220601352349',\n",
              " '1736250178363883872',\n",
              " '1734589323377352980',\n",
              " '1735003971243192520',\n",
              " '1736076770128851061',\n",
              " '1733027686677717325',\n",
              " '1734656185226424457',\n",
              " '1734661707908120774',\n",
              " '1734562848087388436',\n",
              " '1735951927584682444',\n",
              " '1734813269620048114',\n",
              " '1734830893259239623',\n",
              " '1734588341004181625',\n",
              " '1734588709524136318',\n",
              " '1734531657623859526',\n",
              " '1734568158986375391',\n",
              " '1734658201302577473',\n",
              " '1734826498190717030',\n",
              " '1736068818160533903',\n",
              " '1735262181023695354',\n",
              " '1735995782283555029',\n",
              " '1736108738921033809',\n",
              " '1734887227686047878',\n",
              " '1734545449514582130',\n",
              " '1734541649462649082',\n",
              " '1734540761868202400',\n",
              " '1734657820010991962',\n",
              " '1734591032791060488',\n",
              " '1734589532039741549',\n",
              " '1734798971577536976',\n",
              " '1734536728877154500',\n",
              " '1736249928018764235',\n",
              " '1734659777710498122',\n",
              " '1734540640837419434',\n",
              " '1734591710326370694',\n",
              " '1734798173476950425',\n",
              " '1736622445505741159',\n",
              " '1734998874064912711',\n",
              " '1734579905252209035',\n",
              " '1734613998107086944',\n",
              " '1733927496456794435',\n",
              " '1736046266474262648',\n",
              " '1736023600539328584',\n",
              " '1736287052885336178',\n",
              " '1734876907928264981',\n",
              " '1736079804095517131',\n",
              " '1736068403750695299',\n",
              " '1734526333823176854',\n",
              " '1736345546997088650',\n",
              " '1736250426230493213',\n",
              " '1735000541858504730',\n",
              " '1734918783771250916']"
            ]
          },
          "execution_count": 15,
          "metadata": {},
          "output_type": "execute_result"
        }
      ],
      "source": [
        "target_user_tweets_ids = list(set([x for x in target_user[1]]))\n",
        "target_user_tweets_ids"
      ]
    },
    {
      "cell_type": "code",
      "execution_count": null,
      "id": "8911f18b-0e55-48d5-8797-623f07576c93",
      "metadata": {
        "id": "8911f18b-0e55-48d5-8797-623f07576c93"
      },
      "outputs": [],
      "source": [
        "def users_from_tweets(user_tweets_ids, tweets_rdd):\n",
        "    if tweets_rdd[0] in user_tweets_ids:\n",
        "        return list(set(tweets_rdd[1])) # Unique\n",
        "    else:\n",
        "        return []"
      ]
    },
    {
      "cell_type": "code",
      "execution_count": null,
      "id": "cbc30d88-b37a-4e3f-baff-ec952ad3e132",
      "metadata": {
        "id": "cbc30d88-b37a-4e3f-baff-ec952ad3e132"
      },
      "outputs": [],
      "source": [
        "def tweets_from_users(user_ids, users_rdd):\n",
        "    if users_rdd[0] in user_ids:\n",
        "        return list(set(users_rdd[1])) # Unique\n",
        "    else:\n",
        "        return []"
      ]
    },
    {
      "cell_type": "code",
      "execution_count": null,
      "id": "495573ea-3c30-4812-936c-42973cd29567",
      "metadata": {
        "id": "495573ea-3c30-4812-936c-42973cd29567",
        "outputId": "4a72fcc2-a584-4e2b-abe8-45adeb261b44"
      },
      "outputs": [
        {
          "name": "stderr",
          "output_type": "stream",
          "text": [
            "                                                                                \r"
          ]
        }
      ],
      "source": [
        "_xhop_users = tweets_rdd.flatMap(lambda x: users_from_tweets(target_user_tweets_ids,x))\n",
        "_1hop_users = _xhop_users.collect()\n",
        "# _1hop_users"
      ]
    },
    {
      "cell_type": "code",
      "execution_count": null,
      "id": "a421f854-d774-412b-9514-5967131be7bd",
      "metadata": {
        "id": "a421f854-d774-412b-9514-5967131be7bd",
        "outputId": "b2e59c50-7844-4614-9090-16bd543eb034"
      },
      "outputs": [
        {
          "name": "stderr",
          "output_type": "stream",
          "text": [
            "                                                                                \r"
          ]
        }
      ],
      "source": [
        "_xhop_tweets = users_rdd.flatMap(lambda x: tweets_from_users(_1hop_users,x))\n",
        "_2hop_tweets = _xhop_tweets.collect()\n",
        "# _2hop_tweets"
      ]
    },
    {
      "cell_type": "code",
      "execution_count": null,
      "id": "f5342fe1-1bb9-4a9b-9ccd-48d428aa4987",
      "metadata": {
        "id": "f5342fe1-1bb9-4a9b-9ccd-48d428aa4987",
        "outputId": "182c3644-42a3-41f9-b989-ab9dbb437811"
      },
      "outputs": [
        {
          "name": "stderr",
          "output_type": "stream",
          "text": [
            "                                                                                \r"
          ]
        }
      ],
      "source": [
        "_xhop_users = tweets_rdd.flatMap(lambda x: users_from_tweets(_2hop_tweets,x))\n",
        "_3hop_users = _xhop_users.collect()\n",
        "# _3hop_users"
      ]
    },
    {
      "cell_type": "code",
      "execution_count": null,
      "id": "b9b3c0fe-cc4c-48c0-9db7-85e8b8c457f1",
      "metadata": {
        "id": "b9b3c0fe-cc4c-48c0-9db7-85e8b8c457f1",
        "outputId": "79fa791b-ed53-4cea-afa9-99ce6b032a23"
      },
      "outputs": [
        {
          "name": "stderr",
          "output_type": "stream",
          "text": [
            "                                                                                \r"
          ]
        }
      ],
      "source": [
        "_xhop_tweets = users_rdd.flatMap(lambda x: tweets_from_users(_3hop_users,x))\n",
        "_4hop_tweets = _xhop_tweets.collect()\n",
        "# _4hop_tweets"
      ]
    },
    {
      "cell_type": "code",
      "execution_count": null,
      "id": "cb8fb0eb-6c98-49bf-bb1d-a40939335227",
      "metadata": {
        "id": "cb8fb0eb-6c98-49bf-bb1d-a40939335227",
        "outputId": "aba06ce0-3f08-4d3b-aff9-fbefaf79d7b5"
      },
      "outputs": [
        {
          "data": {
            "text/plain": [
              "2277"
            ]
          },
          "execution_count": 20,
          "metadata": {},
          "output_type": "execute_result"
        }
      ],
      "source": [
        "all_related_users = _1hop_users\n",
        "# all_related_users = _1hop_users + _3hop_users\n",
        "len(all_related_users)"
      ]
    },
    {
      "cell_type": "code",
      "execution_count": null,
      "id": "7697f96a-07fb-4236-8542-02b749180602",
      "metadata": {
        "id": "7697f96a-07fb-4236-8542-02b749180602",
        "outputId": "a87d7671-31ee-4a37-de55-df14fdcec810"
      },
      "outputs": [
        {
          "data": {
            "text/plain": [
              "109440"
            ]
          },
          "execution_count": 21,
          "metadata": {},
          "output_type": "execute_result"
        }
      ],
      "source": [
        "all_related_tweets = _2hop_tweets\n",
        "# all_related_tweets = _2hop_tweets + _4hop_tweets\n",
        "len(all_related_tweets)"
      ]
    },
    {
      "cell_type": "code",
      "execution_count": null,
      "id": "292c8620-b5df-427d-b3fb-beed9166351c",
      "metadata": {
        "id": "292c8620-b5df-427d-b3fb-beed9166351c"
      },
      "outputs": [],
      "source": [
        "def users_with_tweets_generator(all_related_users,user):\n",
        "    if user[0] in all_related_users:\n",
        "        return [(user[0],user[1])]\n",
        "    else:\n",
        "        return []"
      ]
    },
    {
      "cell_type": "code",
      "execution_count": null,
      "id": "0317d661-025a-4565-a32a-982e9da780c5",
      "metadata": {
        "id": "0317d661-025a-4565-a32a-982e9da780c5"
      },
      "outputs": [],
      "source": [
        "def tweets_with_users_generator(all_related_tweets,tweet):\n",
        "    if tweet[0] in all_related_tweets:\n",
        "        return [(tweet[0],tweet[1])]\n",
        "    else:\n",
        "        return []"
      ]
    },
    {
      "cell_type": "code",
      "execution_count": null,
      "id": "7eb018ba-83ab-4a00-895c-07fa42b4e518",
      "metadata": {
        "id": "7eb018ba-83ab-4a00-895c-07fa42b4e518",
        "outputId": "9018b099-79de-4673-d16f-2d817f4eff60"
      },
      "outputs": [
        {
          "name": "stderr",
          "output_type": "stream",
          "text": [
            "                                                                                \r"
          ]
        }
      ],
      "source": [
        "users_for_graph_rdd = users_rdd.flatMap(lambda x: users_with_tweets_generator(all_related_users,x))\n",
        "users_for_graph = users_for_graph_rdd.collect()"
      ]
    },
    {
      "cell_type": "code",
      "execution_count": null,
      "id": "2c7212a5-3b92-4b65-81f1-337f2c39bf39",
      "metadata": {
        "id": "2c7212a5-3b92-4b65-81f1-337f2c39bf39",
        "outputId": "339575a9-00dc-4c53-f3ed-30c6ea1e7cef"
      },
      "outputs": [
        {
          "name": "stderr",
          "output_type": "stream",
          "text": [
            "                                                                                \r"
          ]
        }
      ],
      "source": [
        "tweets_for_graph_rdd = tweets_rdd.flatMap(lambda x:tweets_with_users_generator(all_related_tweets,x))\n",
        "tweets_for_graph = tweets_for_graph_rdd.collect()"
      ]
    },
    {
      "cell_type": "code",
      "execution_count": null,
      "id": "11ef97a9-f4ce-4b90-97a0-5270cae3306b",
      "metadata": {
        "id": "11ef97a9-f4ce-4b90-97a0-5270cae3306b",
        "outputId": "6f567dd8-f4da-4445-ea16-c0df003ea828"
      },
      "outputs": [
        {
          "data": {
            "text/plain": [
              "1891"
            ]
          },
          "execution_count": 26,
          "metadata": {},
          "output_type": "execute_result"
        }
      ],
      "source": [
        "len(users_for_graph)"
      ]
    },
    {
      "cell_type": "code",
      "execution_count": null,
      "id": "99cb8d6e-2eda-4a76-af21-8a72944c46e7",
      "metadata": {
        "id": "99cb8d6e-2eda-4a76-af21-8a72944c46e7",
        "outputId": "3a12903c-84c1-41ce-e9aa-c95c83a11815"
      },
      "outputs": [
        {
          "data": {
            "text/plain": [
              "46024"
            ]
          },
          "execution_count": 27,
          "metadata": {},
          "output_type": "execute_result"
        }
      ],
      "source": [
        "len(tweets_for_graph)"
      ]
    },
    {
      "cell_type": "code",
      "execution_count": null,
      "id": "77adc4f1-d3e9-4b28-a654-cea7c0729593",
      "metadata": {
        "id": "77adc4f1-d3e9-4b28-a654-cea7c0729593"
      },
      "outputs": [],
      "source": [
        "import random\n",
        "def random_walk(target_user,users_for_graph,tweets_for_graph,return_prob = 0.8,teleport = False):\n",
        "    seen_users = []\n",
        "    current_user_tweets = target_user[1]\n",
        "    for i in range(1,10000):\n",
        "        if len(current_user_tweets) == 0:\n",
        "            current_user_tweets = target_user[1]\n",
        "            continue\n",
        "\n",
        "        current_tweet_id = random.choice(current_user_tweets)\n",
        "        idx = next((i for i, v in enumerate(tweets_for_graph) if v[0] == current_tweet_id), None)\n",
        "        if idx == None:\n",
        "            current_user_tweets = target_user[1]\n",
        "            continue\n",
        "\n",
        "        current_user_id = random.choice(tweets_for_graph[idx][1])\n",
        "        seen_users.append((current_user_id,1))\n",
        "        idx = next((i for i, v in enumerate(users_for_graph) if v[0] == current_user_id), None)\n",
        "        if idx == None:\n",
        "            current_user_tweets = target_user[1]\n",
        "            continue\n",
        "        current_user_tweets = random.choice(users_for_graph[idx][1])\n",
        "\n",
        "        if teleport and random.random() < return_prob:\n",
        "            current_user_tweets = target_user[1]\n",
        "\n",
        "    return seen_users"
      ]
    },
    {
      "cell_type": "code",
      "execution_count": null,
      "id": "cca03ba5-05ba-4512-a312-63458e048461",
      "metadata": {
        "id": "cca03ba5-05ba-4512-a312-63458e048461"
      },
      "outputs": [],
      "source": [
        "seen_users_all = random_walk(target_user,users_for_graph,tweets_for_graph,return_prob = 0.8)"
      ]
    },
    {
      "cell_type": "code",
      "execution_count": null,
      "id": "54df1847-bdab-4a3b-b505-0c5f29cab780",
      "metadata": {
        "id": "54df1847-bdab-4a3b-b505-0c5f29cab780"
      },
      "outputs": [],
      "source": [
        "from itertools import groupby\n",
        "from operator import itemgetter\n",
        "\n",
        "first = itemgetter(0)\n",
        "seen_users_cnt = [(k, sum(item[1] for item in tups_to_sum))\n",
        "        for k, tups_to_sum in groupby(sorted(seen_users_all, key=first), key=first)]"
      ]
    },
    {
      "cell_type": "code",
      "execution_count": null,
      "id": "0a6b43da-a5ca-4c6e-8112-4d8b83fa0ecf",
      "metadata": {
        "id": "0a6b43da-a5ca-4c6e-8112-4d8b83fa0ecf",
        "outputId": "056ef68c-d471-4163-d831-7cbddec331aa"
      },
      "outputs": [
        {
          "data": {
            "text/plain": [
              "[('1654179648761102337', 420),\n",
              " ('1710302619371982848', 308),\n",
              " ('1487097029990002688', 205),\n",
              " ('1648401324608827392', 166),\n",
              " ('1593669637102866432', 124),\n",
              " ('1226113547542773762', 122),\n",
              " ('1696453872074539008', 87),\n",
              " ('1253707166919397377', 85),\n",
              " ('1724483603600486400', 81),\n",
              " ('1632351425383522312', 80),\n",
              " ('1714031594598490113', 78),\n",
              " ('1398658879827886085', 73),\n",
              " ('1710903076574359552', 71),\n",
              " ('1221434210927464448', 70),\n",
              " ('1305617097339400192', 68),\n",
              " ('1654409094076268546', 61),\n",
              " ('1549397580869664775', 56),\n",
              " ('1643233712916578309', 54),\n",
              " ('1698191107786518528', 53)]"
            ]
          },
          "execution_count": 36,
          "metadata": {},
          "output_type": "execute_result"
        }
      ],
      "source": [
        "seen_users_sorted = sorted(seen_users_cnt, key=lambda x: x[1], reverse=True)\n",
        "top_users = seen_users_sorted[1:20]\n",
        "top_users"
      ]
    },
    {
      "cell_type": "code",
      "execution_count": null,
      "id": "2584620c-6b58-4063-b3ae-b86651515669",
      "metadata": {
        "id": "2584620c-6b58-4063-b3ae-b86651515669"
      },
      "outputs": [],
      "source": [
        "idx = next((i for i, v in enumerate(users_for_graph) if v[0] == top_users[1][0]), None)\n",
        "sample_tweets = users_for_graph[idx][1]"
      ]
    },
    {
      "cell_type": "code",
      "execution_count": null,
      "id": "7f6469bd-8621-4ea7-b63a-f4c35d85995d",
      "metadata": {
        "id": "7f6469bd-8621-4ea7-b63a-f4c35d85995d"
      },
      "outputs": [],
      "source": [
        "def tweet_parser(tweet_ids,tweet):\n",
        "    if tweet.get('id') in tweet_ids:\n",
        "        return [(tweet.get('text'),)]\n",
        "    else:\n",
        "        return []"
      ]
    },
    {
      "cell_type": "code",
      "execution_count": null,
      "id": "ea468f63-ac3e-4e38-92c8-4826716c1767",
      "metadata": {
        "id": "ea468f63-ac3e-4e38-92c8-4826716c1767",
        "outputId": "dc7f444e-a995-49f0-c5a0-c9771cf8e700"
      },
      "outputs": [
        {
          "name": "stderr",
          "output_type": "stream",
          "text": [
            "                                                                                \r"
          ]
        },
        {
          "data": {
            "text/plain": [
              "[('نام : حمید نوری\\nوضعیت : ساکن سلول انفرادی\\nجرم : نامعلوم\\nشاکی : سازمان تروریستی و ضد بشر منافقین\\nقاضی : مدعیان دفاع از حقوق بشر\\nمحل صدور حکم : کشور حامی سوزاندن قرآن\\nحکم : حبس ابد\\n\\n#freehamidnouri https://t.co/VQFx0msvzs',),\n",
              " ('و چقدر بوی عطر شهیدان ، \\n\\nهمه جا پیچیده  ...\\n\\n#گمنام_مثل_مادر \\n#لشکر_علویان',),\n",
              " ('@s_isatahmasbi تا ابد مدیون قهرمانان واقعی وطن هستیم💔\\n#گمنام_مثل_مادر\\n#لشکر_علویان',),\n",
              " ('شهدا میراث دار  غیرت علوی و نجابت فاطمی هستند\\n#گمنام_مثل_مادر\\n#لشکر_علویان https://t.co/obFOLyICtP',),\n",
              " ('وصیت نامه یکی از  شهدای بزرگوار :  خدایا نشود که در زندگی دو دستی به درخت زندگی بچسبم و همچون میوه ایی پوسیده بیافتم خدایا تا ایمانی هست مرا برای خود قربانی کن\\n#گمنام_مثل_مادر\\n#لشکر_علویان https://t.co/CzBw8KoKmM',),\n",
              " ('زندگی پر از انتخاب هایی است که مسیر ها رو عوض می\\u200cکنند، اینکه قهرمان زندگی چه شخصی باشه در عاقبت بخیری خیلی مهمه\\n#گمنام_مثل_مادر\\n#لشکر_علویان https://t.co/QGEkchpZl4',),\n",
              " ('چراغ راه\\n#گمنام_مثل_مادر\\n#لشکر_علویان https://t.co/XNvjz1TJ01',),\n",
              " ('روضه بی بی دو عالم\\n#وداع_با_لاله_ها\\n#گمنام_مثل_مادر https://t.co/u0o3qawMtF',),\n",
              " ('لاله های زهرایی\\n#وداع_با_لاله\\u200cها\\n#گمنام_مثل_مادر https://t.co/MVVre3iDnY',),\n",
              " ('حضور مردم قدر شناس دیار علویان در مراسم وداع با لاله\\u200cها\\n#وداع_با_لاله\\u200cها\\n#گمنام_مثل_مادر https://t.co/JWvgiokZzn',),\n",
              " ('دیار علویان و مردم همیشه در صحنه\\n#وداع_با_لاله\\u200cها\\n#گمنام_مثل_مادر https://t.co/1NNoFp1AGe',),\n",
              " ('در پی اسم و...\\n#گمنام_مثل_مادر\\n#وداع_با_لاله\\u200cها https://t.co/QgF5gIXki9',),\n",
              " ('روضه بی بی دو عالم در مراسم #وداع_با_لاله\\u200cها و #گمنام_مثل_مادر https://t.co/dGqFEGpGAo',),\n",
              " ('مرزبانان غیور وطن شهادت آن هم در این ایام گوارایتان\\n#وداع_با_لاله\\u200cها\\n#گمنام_مثل_مادر https://t.co/z1PXJR00QS',),\n",
              " ('نامت این روزا شده آوازه و شهرتِ #لشکر_علویان\\nچه در سر دارید شدید #گمنام_مثل_مادر https://t.co/mutnzb7cKM',),\n",
              " ('آقای رئیسی مگه به شما نگفتن مستعمره پیش اربابش این شکلی و جلوتر راه نمیره؟ https://t.co/RNnqxdNybR',),\n",
              " ('با خودتون فکر کردید چرا باید اتاق فکر رژیم جعلی ارتش اسرییل رو وسط بزرگ\\u200cترین جنگ سال\\u200cهای اخیرش به خط کنه تا با آهنگ صادق بوقی از ایران دلقک بازی درارن؟\\n\\nدلایلی رو اشاره میکنم، با دقت بخونید؛\\n\\n۱. اهمیت جایگاه رسانه برای اسراییل این قدر زیاد و روشنه که وسط جنگ گسترده در شمال و جنوب، سربازای نظامیش رو در لباس سرباز رسانه\\u200cای به خط میکنه تا براش برقصن و تولید محتوا کنن.\\n\\n۲. هرچند ارتش اسراییل رسانه رو در همه دنیا و به همه زبان\\u200cها جدی میگیره اما برای بزرگترین دشمن و ترس خودش به گفته\\u200cی نتانیاهو، یعنی ایران، حساب ویژه\\u200cای باز کرده و بیشترین محتوا رو تولید میکنه.\\n\\n۳. بخش بزرگی از این ارتش کثیف همزمان با سلاح، یه گوشی به دست دارن و با اسامی ژینا و لیلا و کوروش کبیر و رضا و آرتین ایرانی و غیره، فعالیت دائم براشون تعریف شده. خیلی از جو سازی\\u200cهای رسانه\\u200cای درون ایران از اسراییل رهبری میشه.\\n\\n۴. در حالی که آبروی اسراییل و ارتشش به خاطر نسل کشی و کودک کشی در همه جهان ریخته شده، اسراییل ملتمسانه به دنبال بازسازی چهره خودش با سو استفاده ابزاری از زنان ارتش خودشه. رقصیدن شادانه با آهنگ صادق بوقی برای پاک کردن تصویر خون ۸ هزار کودک روی دستای سربازای این رژیمه.\\n\\n۵. اسراییل دهه\\u200cهاست در حال سرمایه گذاری روی رسانه برای #مغزشویی مردم ایرانه و رسانه\\u200cهایی مثل اینترنشنال و منوتو تو همین دسته جا میگیرن اما کار چنان بحرانی شده که اخیرا مستقیم از وسط جنگ تولید محتوا میکنن!\\n\\nدلایل بیشتری برای دلقک بازیای این ارتش کثیف و جنایتکار وجود داره؛ بقیه\\u200cاش رو شما بنویسید.',),\n",
              " ('قتل عام وحشیانه ۱۷ هزار انسان بی\\u200cگناه کارنامه گروهی است که می خواستند مردم را با ایدیولوژی خود همراه کنند. امروز هم دادگاه شون بود\\n#PMOISIS https://t.co/Y5sctCNtWK',),\n",
              " ('چرا تر.ور.یستها یه بار به جای حمله به نیروهای امنیتی به عبدالحمید حمله نمیکنن ؟\\n\\n+چون از خودشونه\\n\\n#راسک https://t.co/vc3HEPJcmd',),\n",
              " ('سردار یا سرتیپ ؛ شیعه مثل مولاش علی (ع) ساده\\u200cست :) https://t.co/TS2Hh6LhrD',)]"
            ]
          },
          "execution_count": 48,
          "metadata": {},
          "output_type": "execute_result"
        }
      ],
      "source": [
        "recommended_tweets = parsed_rdd.flatMap(lambda x: tweet_parser(sample_tweets,x))\n",
        "recommended_tweets.collect()"
      ]
    },
    {
      "cell_type": "code",
      "execution_count": null,
      "id": "18018f34-06f5-4691-8e1a-c3fa0494eb30",
      "metadata": {
        "id": "18018f34-06f5-4691-8e1a-c3fa0494eb30"
      },
      "outputs": [],
      "source": [
        "idx = next((i for i, v in enumerate(users_for_graph) if v[0] == top_users[2][0]), None)\n",
        "sample_tweets = users_for_graph[idx][1]"
      ]
    },
    {
      "cell_type": "code",
      "execution_count": null,
      "id": "d2d66c1d-d661-44c1-9a9f-a87ff17bf774",
      "metadata": {
        "id": "d2d66c1d-d661-44c1-9a9f-a87ff17bf774",
        "outputId": "7ba8d18e-baf1-4118-ef99-2a4e2e880654"
      },
      "outputs": [
        {
          "name": "stderr",
          "output_type": "stream",
          "text": [
            "                                                                                \r"
          ]
        },
        {
          "data": {
            "text/plain": [
              "[('و چقدر بوی عطر شهیدان ، \\n\\nهمه جا پیچیده  ...\\n\\n#گمنام_مثل_مادر \\n#لشکر_علویان',),\n",
              " ('@s_isatahmasbi تا ابد مدیون قهرمانان واقعی وطن هستیم💔\\n#گمنام_مثل_مادر\\n#لشکر_علویان',),\n",
              " ('وصیت نامه یکی از  شهدای بزرگوار :  خدایا نشود که در زندگی دو دستی به درخت زندگی بچسبم و همچون میوه ایی پوسیده بیافتم خدایا تا ایمانی هست مرا برای خود قربانی کن\\n#گمنام_مثل_مادر\\n#لشکر_علویان https://t.co/CzBw8KoKmM',),\n",
              " ('زندگی پر از انتخاب هایی است که مسیر ها رو عوض می\\u200cکنند، اینکه قهرمان زندگی چه شخصی باشه در عاقبت بخیری خیلی مهمه\\n#گمنام_مثل_مادر\\n#لشکر_علویان https://t.co/QGEkchpZl4',),\n",
              " ('لاله های زهرایی\\n#وداع_با_لاله\\u200cها\\n#گمنام_مثل_مادر https://t.co/MVVre3iDnY',),\n",
              " ('حضور مردم قدر شناس دیار علویان در مراسم وداع با لاله\\u200cها\\n#وداع_با_لاله\\u200cها\\n#گمنام_مثل_مادر https://t.co/JWvgiokZzn',),\n",
              " ('دیار علویان و مردم همیشه در صحنه\\n#وداع_با_لاله\\u200cها\\n#گمنام_مثل_مادر https://t.co/1NNoFp1AGe',),\n",
              " ('در پی اسم و...\\n#گمنام_مثل_مادر\\n#وداع_با_لاله\\u200cها https://t.co/QgF5gIXki9',),\n",
              " ('روضه بی بی دو عالم در مراسم #وداع_با_لاله\\u200cها و #گمنام_مثل_مادر https://t.co/dGqFEGpGAo',),\n",
              " ('قسمتی از وصیت نامه شهیدخوشنام:\\nبر روی سنگ قبرم نامم را ننویسید . می خواهم همچون ده ها هزار شهید دیگر گمنام باقی بمانم\\n#گمنام_مثل_مادر \\n#لشکر_علویان https://t.co/9i2eTzlgNO',),\n",
              " ('نبوت تمام شد آخرین پیغمبر از دنیا رفت\\nباید ولایت ادامه پیدا میکرد\\nمادر این کار را کرد....💔\\nدُخت رسول اولین حامی و امدادگر ولایت بود\\nصدیقه کبری حافظ ولایت بود\\n\\n#گمنام_مثل_مادر #وداع_با_لاله\\u200cها https://t.co/0vrUcGF1JK',),\n",
              " ('اللهم العن الجبت والطاغوت \\nعرش خدا به لرزه آمد با این\\u200cلگد😭\\n#وداع_با_لاله\\u200cها\\n#گمنام_مثل_مادر https://t.co/XTWoOWGJRr',),\n",
              " ('عشق شهادت را از مادرمان آموخته ایم💔🥀\\n#گمنام_مثل_مادر\\n#وداع_با_لاله\\u200cها https://t.co/rhJmPXi0qC',),\n",
              " ('بگذارید گمنام باشم …\\nبه خدا قسم گمنام بودن بهتر است\\nاز اینکه فردا افرادی وصایایم را شعار قرار دهند\\nو عمل را فراموش کنند \\n#گمنام_مثل_مادر\\n#لشکر_علویان',),\n",
              " ('به مادر قول داده بود بر می گردد …\\nچشم مادر که به استخوان های بی جمجمه افتاد\\nلبخند تلخی زد و گفت :\\nبچه م سرش می رفت ولی قولش نمی رفت …\\n#گمنام_مثل_مادر\\n#لشکر_علویان',),\n",
              " ('به روی سنگ قبرم اسمم را ننویسید …\\nمی خواهم هم چون دهها شهید دیگر گمنام باقی بمانم .\\nاگر خواستید فقط این جمله را بنویسید …\\nپر کاهی تقدیم به آستانه کبریایی الله\\n#گمنام_مثل_مادر\\n#لشکر_علویان',),\n",
              " ('پیشونی بندها رو با وسواس زیر و رو میکرد …\\nپرسیدم : دنبال چی میگردی ؟\\nگفت : سربند یا زهرا !\\nگفتم : یکیش رو بردار ببند دیگه ، چه فرقی داره ؟\\nگفت : نه ! آخه من مادر ندارم …\\n#گمنام_مثل_مادر\\n#لشکر_علویان',),\n",
              " ('پلاک خانه آن یار مهربان چند است\\nمادر! بیا و نگه کن کدام فرزند است\\nوصیتی که کمی سوخته به جیبش بود\\nنوشته: عرض سلام ای مادر! دلم بند است\\n#گمنام_مثل_مادر\\n#لشکر_علویان',),\n",
              " ('#شهدای_راسک مظلوم مقتدر مثل شهدای غزه \\n#گمنام_مثل_مادر  در ایام شهادت حضرت فاطمه زهرا(س) به شهادت رسیدند. https://t.co/zC19OKA1Oe',),\n",
              " ('چشم پاک دختری از جمله\\u200cای تر مانده است\\n\\nچشم\\u200cهای پاکش اما خیره بر در مانده است\\n\\nروی دیوار اتاق کوچک تنهایی\\u200cاش\\n\\nعکس بابایش کنار شعر مادر مانده است\\n#گمنام_مثل_مادر\\n#لشکر_علویان',),\n",
              " ('کاش می شد درتمام روستاهای ایران یک مرقد شهیدگمنام باشد تاهمه ی مردم لذت لحظه ای  درکنارقبرشهیدگمنام بودن رابچشند\\n#وداع_با_لاله_ها \\n#گمنام_مثل_مادر https://t.co/NHUz76gDj2',),\n",
              " ('گمنامی تنها برای شهرت پرستان درد آور است\\nوگرنه همه اجر\\u200cها در گمنامیست\\n#لشکر_علویان #گمنام_مثل_مادر',),\n",
              " ('قسمتی از وصیت نامه شهیدخوشنام:\\nبر روی سنگ قبرم نامم را ننویسید . می خواهم همچون ده ها هزار شهید دیگر گمنام باقی بمانم. اگر خواستید فقط این جمله را بنویسید : پر کاهی تقدیم به آستان کبریای الله.\\n#لشکر_علویان #گمنام_مثل_مادر',),\n",
              " ('یه فاطر به حق فاطمه عجل لولیک الفرج🤲🏻😔\\n#لشکر_علویان #گمنام_مثل_مادر https://t.co/k39DYWYR7z',),\n",
              " ('ای تاج سر عالم و آدم زهرا / از کودکی ام دل به تو دادم زهرا\\nآن روز که من هستم و تاریکی قبر / جان حسنت برس به دادم زهرا . . .\\n#وداع_با_لاله\\u200cها\\n#گمنام_مثل_مادر',),\n",
              " ('+\\u200cدختری داد میزد ، گریه میکرد ؛\\nمیگفت: میخوام صورتِ پدرمو ببوسم .\\nاما اجازه نمیدادند ،\\nیکی گفت: دخترش است مگر چه اشکالی دارد؟\\nبگذارید پدرش را ببوسد ..\\nگفتند شما اصرار نکنید نمیشود\\nاین شهید سر ندارد . . 💔(:\\xa0 \\n#وداع_با_لاله\\u200cها\\n#گمنام_مثل_مادر',),\n",
              " ('دنبال شُهرتیم و پِی اسم و رسم و نام \\nغافل از این که فاطمه«س» گمنام میخرد \\n#لشکر_علویان\\n#گمنام_مثل_مادر',),\n",
              " ('خدا مرگ ما را به شهادت ختم کن \\nالهی آمین ...\\n#وداع_با_لاله\\u200cها\\n#گمنام_مثل_مادر https://t.co/pyALhTzEjd',)]"
            ]
          },
          "execution_count": 58,
          "metadata": {},
          "output_type": "execute_result"
        }
      ],
      "source": [
        "recommended_tweets = parsed_rdd.flatMap(lambda x: tweet_parser(sample_tweets,x))\n",
        "recommended_tweets.collect()"
      ]
    },
    {
      "cell_type": "markdown",
      "id": "c33a9585-d479-477a-a845-ee4622ad6491",
      "metadata": {
        "jp-MarkdownHeadingCollapsed": true,
        "tags": [],
        "id": "c33a9585-d479-477a-a845-ee4622ad6491"
      },
      "source": [
        "***\n",
        "# $\\text{User #2}$"
      ]
    },
    {
      "cell_type": "code",
      "execution_count": null,
      "id": "ce57af0d-97c2-4bc7-8931-edfa389d5c33",
      "metadata": {
        "id": "ce57af0d-97c2-4bc7-8931-edfa389d5c33"
      },
      "outputs": [],
      "source": [
        "target_user = ('4702453171',\n",
        " [('4702453171', '1734001719539810691', 3),\n",
        "  ('4702453171', '1734471154646049090', 3),\n",
        "  ('4702453171', '1734471452450005121', 3),\n",
        "  ('1653467502972682270', '1734079495177461916', 2),\n",
        "  ('25710094', '1734490763394798040', 2),\n",
        "  ('60171166', '1736513161631588535', 2),\n",
        "  ('17532913', '1734073641908981882', 2),\n",
        "  ('4702453171', '1733813004280459569', 2),\n",
        "  ('4702453171', '1734086631366311958', 3),\n",
        "  ('4702453171', '1734086631366311958', 2),\n",
        "  ('17532913', '1734087759646871761', 2),\n",
        "  ('4702453171', '1734096096526291087', 3),\n",
        "  ('4702453171', '1734099408688488815', 3),\n",
        "  ('4702453171', '1734099878626705917', 3),\n",
        "  ('4702453171', '1734100866527817896', 3),\n",
        "  ('4702453171', '1735916939380212209', 3),\n",
        "  ('4702453171', '1734103110279102546', 3),\n",
        "  ('4702453171', '1726253167547924649', 2),\n",
        "  ('15090494', '1734104725874713032', 2),\n",
        "  ('360461731', '1734106135055958309', 2),\n",
        "  ('1271067471760568322', '1734105477301117383', 2),\n",
        "  ('4702453171', '1734108334402228647', 3),\n",
        "  ('767126934', '1734108466426380588', 2),\n",
        "  ('302678816', '1736273645201182727', 2),\n",
        "  ('4702453171', '1736290273133490433', 3),\n",
        "  ('302678816', '1736289193905594796', 2),\n",
        "  ('767126934', '1734118849220374966', 2),\n",
        "  ('712752292194357249', '1735382946834518426', 2),\n",
        "  ('767126934', '1734119784206172308', 2),\n",
        "  ('701771232', '1735211967982272607', 2),\n",
        "  ('1321668098076954624', '1735938271702564881', 2),\n",
        "  ('824950806411624448', '1735580501056819243', 2),\n",
        "  ('824950806411624448', '1735580764895334548', 2),\n",
        "  ('4702453171', '1736308051324387667', 3),\n",
        "  ('1734473657940946944', '1735583061285179397', 2),\n",
        "  ('4702453171', '1734134990097518886', 3),\n",
        "  ('1676645415758733333', '1734136964343898342', 2),\n",
        "  ('4702453171', '1735580419205091753', 2),\n",
        "  ('4702453171', '1735951311202316406', 3),\n",
        "  ('1271067471760568322', '1736310685238268342', 2),\n",
        "  ('4702453171', '1735951311202316406', 2),\n",
        "  ('1141720339', '1735953233720246476', 2),\n",
        "  ('4702453171', '1734142887552549260', 3),\n",
        "  ('1676645415758733333', '1734139635738009661', 2),\n",
        "  ('4702453171', '1736315796605817179', 3),\n",
        "  ('60171166', '1736686396276891799', 2),\n",
        "  ('4702453171', '1735956104247484746', 3),\n",
        "  ('4702453171', '1735960050726842606', 3),\n",
        "  ('4702453171', '1734151214852444359', 3),\n",
        "  ('4702453171', '1735968721225605288', 3),\n",
        "  ('3140575865', '1735974424472432879', 2),\n",
        "  ('597673178', '1734950125850833149', 2),\n",
        "  ('4702453171', '1734164069148492141', 3),\n",
        "  ('1322110382455087106', '1735979725829419189', 2),\n",
        "  ('4702453171', '1734638728558362920', 3),\n",
        "  ('4702453171', '1735235674977034592', 2),\n",
        "  ('840241125499777024', '1734645197139497160', 2),\n",
        "  ('4702453171', '1734179665147805779', 3),\n",
        "  ('1639263584407416839', '1734179803899555964', 2),\n",
        "  ('1639263584407416839', '1734180929269023060', 2),\n",
        "  ('60171166', '1734180970050310521', 2),\n",
        "  ('1387366298099798025', '1735263247018651678', 2),\n",
        "  ('855095592', '1736351208460194151', 2),\n",
        "  ('4702453171', '1734931036251869266', 3),\n",
        "  ('1062546499', '1736309770812793130', 1),\n",
        "  ('855095592', '1736353904416198814', 2),\n",
        "  ('4702453171', '1735268263754354725', 3),\n",
        "  ('1010561817997922308', '1735268155583267124', 2),\n",
        "  ('1062546499', '1736309770812793130', 2),\n",
        "  ('4702453171', '1735255090083078151', 2),\n",
        "  ('4702453171', '1736363003379884521', 3),\n",
        "  ('4702453171', '1736009369383243808', 3),\n",
        "  ('855095592', '1736363383593578831', 2),\n",
        "  ('4702453171', '1735968721225605288', 2),\n",
        "  ('302678816', '1736366887057887492', 2),\n",
        "  ('4702453171', '1736013977610592680', 3),\n",
        "  ('4702453171', '1736014753456177493', 3),\n",
        "  ('1231450050389315585', '1736016324734714299', 2),\n",
        "  ('824950806411624448', '1736016158841532843', 2),\n",
        "  ('824950806411624448', '1736018543064367317', 2),\n",
        "  ('1567482915600142339', '1735285273020203467', 2),\n",
        "  ('1206642366830002179', '1734220953184268661', 2),\n",
        "  ('46853901', '1734226095593976099', 2),\n",
        "  ('1152293110212263937', '1734212837583507605', 1),\n",
        "  ('4702453171', '1735668040014979319', 3),\n",
        "  ('1576644054699642880', '1736778687595336173', 2),\n",
        "  ('4702453171', '1734230963670986760', 3),\n",
        "  ('4702453171', '1734694077206254058', 2),\n",
        "  ('1576644054699642880', '1736783279682998688', 2),\n",
        "  ('1562505373285658631', '1735327273933267052', 2),\n",
        "  ('1562505373285658631', '1735327920371958034', 2),\n",
        "  ('1677469467637342209', '1736415934116507919', 2),\n",
        "  ('4702453171', '1735002509410762777', 3),\n",
        "  ('4702453171', '1735002509410762777', 2),\n",
        "  ('1562505373285658631', '1735336112640442651', 2),\n",
        "  ('732854166', '1735699878984982796', 2),\n",
        "  ('2685820495', '1734262222023545230', 2),\n",
        "  ('4702453171', '1735013203237617714', 3),\n",
        "  ('240631009', '1736041432056578393', 2),\n",
        "  ('4702453171', '1736086585462903227', 3),\n",
        "  ('4702453171', '1736087319415787587', 3),\n",
        "  ('302678816', '1735022147720859827', 2),\n",
        "  ('3304332625', '1735022541943587001', 2),\n",
        "  ('4702453171', '1734289632567689542', 3),\n",
        "  ('1556954568797392897', '1735336832911438191', 2),\n",
        "  ('4702453171', '1735360865161904553', 3),\n",
        "  ('1556954568797392897', '1735363164877869514', 2),\n",
        "  ('4702453171', '1736487283690233926', 3),\n",
        "  ('4702453171', '1736491571539775817', 3),\n",
        "  ('824950806411624448', '1736493528803315964', 2)])"
      ]
    },
    {
      "cell_type": "code",
      "execution_count": null,
      "id": "25d4a105-def5-46ba-b173-a68f4b8ebb5f",
      "metadata": {
        "id": "25d4a105-def5-46ba-b173-a68f4b8ebb5f"
      },
      "outputs": [],
      "source": [
        "target_user = (target_user[0],list(set([x[1] for x in target_user[1]])))\n",
        "target_user"
      ]
    },
    {
      "cell_type": "code",
      "execution_count": null,
      "id": "b1f84bb9-1d9c-4f97-b89d-129804dc7060",
      "metadata": {
        "id": "b1f84bb9-1d9c-4f97-b89d-129804dc7060"
      },
      "outputs": [],
      "source": [
        "target_user_tweets_ids = target_user[1]\n",
        "target_user_tweets_ids"
      ]
    },
    {
      "cell_type": "code",
      "execution_count": null,
      "id": "0f12a3fb-5d58-496c-9539-7bd69f8d5e02",
      "metadata": {
        "id": "0f12a3fb-5d58-496c-9539-7bd69f8d5e02",
        "outputId": "c2b6003d-2688-4c86-f450-44db2ee40964"
      },
      "outputs": [
        {
          "name": "stderr",
          "output_type": "stream",
          "text": [
            "                                                                                \r"
          ]
        }
      ],
      "source": [
        "_xhop_users = tweets_rdd.flatMap(lambda x: users_from_tweets(target_user_tweets_ids,x))\n",
        "_1hop_users = _xhop_users.collect()\n",
        "# _1hop_users"
      ]
    },
    {
      "cell_type": "code",
      "execution_count": null,
      "id": "5f0ffb99-d746-4486-b396-0ce092c64717",
      "metadata": {
        "id": "5f0ffb99-d746-4486-b396-0ce092c64717",
        "outputId": "1301bb7c-e330-4ad7-e003-1ee7fc940fff"
      },
      "outputs": [
        {
          "name": "stderr",
          "output_type": "stream",
          "text": [
            "                                                                                \r"
          ]
        }
      ],
      "source": [
        "_xhop_tweets = users_rdd.flatMap(lambda x: tweets_from_users(_1hop_users,x))\n",
        "_2hop_tweets = _xhop_tweets.collect()\n",
        "# _2hop_tweets"
      ]
    },
    {
      "cell_type": "code",
      "execution_count": null,
      "id": "7a20b571-8980-42dc-9798-84c99c367c91",
      "metadata": {
        "id": "7a20b571-8980-42dc-9798-84c99c367c91"
      },
      "outputs": [],
      "source": [
        "_xhop_users = tweets_rdd.flatMap(lambda x: users_from_tweets(_2hop_tweets,x))\n",
        "_3hop_users = _xhop_users.collect()\n",
        "# _3hop_users"
      ]
    },
    {
      "cell_type": "code",
      "execution_count": null,
      "id": "3223db1a-4cc0-4c19-82e6-323f2fd0785b",
      "metadata": {
        "id": "3223db1a-4cc0-4c19-82e6-323f2fd0785b"
      },
      "outputs": [],
      "source": [
        "_xhop_tweets = users_rdd.flatMap(lambda x: tweets_from_users(_3hop_users,x))\n",
        "_4hop_tweets = _xhop_tweets.collect()\n",
        "# _4hop_tweets"
      ]
    },
    {
      "cell_type": "code",
      "execution_count": null,
      "id": "63f7bff9-c0f2-45a6-93dc-9f4d058c2dca",
      "metadata": {
        "id": "63f7bff9-c0f2-45a6-93dc-9f4d058c2dca",
        "outputId": "1866ec04-9160-4a5e-8132-57f8fbf2a7f4"
      },
      "outputs": [
        {
          "data": {
            "text/plain": [
              "274"
            ]
          },
          "execution_count": 19,
          "metadata": {},
          "output_type": "execute_result"
        }
      ],
      "source": [
        "all_related_users = _1hop_users\n",
        "# all_related_users = _1hop_users + _3hop_users\n",
        "len(all_related_users)"
      ]
    },
    {
      "cell_type": "code",
      "execution_count": null,
      "id": "2eead4e0-146d-4f6a-8ecc-311b006e2d7b",
      "metadata": {
        "id": "2eead4e0-146d-4f6a-8ecc-311b006e2d7b",
        "outputId": "a47efc1b-68e5-4973-f9c3-a1ff93e42b04"
      },
      "outputs": [
        {
          "data": {
            "text/plain": [
              "5482"
            ]
          },
          "execution_count": 20,
          "metadata": {},
          "output_type": "execute_result"
        }
      ],
      "source": [
        "all_related_tweets = _2hop_tweets\n",
        "# all_related_tweets = _2hop_tweets + _4hop_tweets\n",
        "len(all_related_tweets)"
      ]
    },
    {
      "cell_type": "code",
      "execution_count": null,
      "id": "3141bb87-4c0e-4563-a2a5-36ac8069bdda",
      "metadata": {
        "id": "3141bb87-4c0e-4563-a2a5-36ac8069bdda"
      },
      "outputs": [],
      "source": [
        "users_for_graph_rdd = users_rdd.flatMap(lambda x: users_with_tweets_generator(all_related_users,x))\n",
        "users_for_graph = users_for_graph_rdd.collect()\n",
        "# users_for_graph"
      ]
    },
    {
      "cell_type": "code",
      "execution_count": null,
      "id": "e3ba4416-7fb5-471d-b658-4ae78d3b3c6b",
      "metadata": {
        "id": "e3ba4416-7fb5-471d-b658-4ae78d3b3c6b",
        "outputId": "443ca2ce-252e-4752-d08f-2670b960fc4c"
      },
      "outputs": [
        {
          "name": "stderr",
          "output_type": "stream",
          "text": [
            "                                                                                \r"
          ]
        }
      ],
      "source": [
        "tweets_for_graph_rdd = tweets_rdd.flatMap(lambda x:tweets_with_users_generator(all_related_tweets,x))\n",
        "tweets_for_graph = tweets_for_graph_rdd.collect()"
      ]
    },
    {
      "cell_type": "code",
      "execution_count": null,
      "id": "ca4d828d-01b5-4a69-b6bd-fbc92dade3b4",
      "metadata": {
        "id": "ca4d828d-01b5-4a69-b6bd-fbc92dade3b4",
        "outputId": "9bf13973-e741-4881-cb5b-1641dd96b7e6"
      },
      "outputs": [
        {
          "data": {
            "text/plain": [
              "128"
            ]
          },
          "execution_count": 25,
          "metadata": {},
          "output_type": "execute_result"
        }
      ],
      "source": [
        "len(users_for_graph)"
      ]
    },
    {
      "cell_type": "code",
      "execution_count": null,
      "id": "8367b92d-ef4e-4e9f-b853-e3669dd50f88",
      "metadata": {
        "id": "8367b92d-ef4e-4e9f-b853-e3669dd50f88",
        "outputId": "4fd46c4a-4c9a-46c0-8312-53e154d398ab"
      },
      "outputs": [
        {
          "data": {
            "text/plain": [
              "5038"
            ]
          },
          "execution_count": 26,
          "metadata": {},
          "output_type": "execute_result"
        }
      ],
      "source": [
        "len(tweets_for_graph)"
      ]
    },
    {
      "cell_type": "code",
      "execution_count": null,
      "id": "34fd7f68-02e2-43d3-8ebd-0731ca6e42e2",
      "metadata": {
        "id": "34fd7f68-02e2-43d3-8ebd-0731ca6e42e2"
      },
      "outputs": [],
      "source": [
        "seen_users_all = random_walk(target_user,users_for_graph,tweets_for_graph,return_prob = 0.8)"
      ]
    },
    {
      "cell_type": "code",
      "execution_count": null,
      "id": "6c535d89-aa03-4389-b275-806864023fcf",
      "metadata": {
        "id": "6c535d89-aa03-4389-b275-806864023fcf"
      },
      "outputs": [],
      "source": [
        "from itertools import groupby\n",
        "from operator import itemgetter\n",
        "\n",
        "first = itemgetter(0)\n",
        "seen_users_cnt = [(k, sum(item[1] for item in tups_to_sum))\n",
        "        for k, tups_to_sum in groupby(sorted(seen_users_all, key=first), key=first)]"
      ]
    },
    {
      "cell_type": "code",
      "execution_count": null,
      "id": "ab5d800f-1965-463f-b34d-dec2b49fd998",
      "metadata": {
        "id": "ab5d800f-1965-463f-b34d-dec2b49fd998",
        "outputId": "9e0bfd88-2d71-40f7-9549-468d72e0c48b"
      },
      "outputs": [
        {
          "data": {
            "text/plain": [
              "[('824950806411624448', 127),\n",
              " ('302678816', 116),\n",
              " ('1562505373285658631', 77),\n",
              " ('855095592', 68),\n",
              " ('60171166', 67),\n",
              " ('767126934', 67),\n",
              " ('1271067471760568322', 60),\n",
              " ('1556954568797392897', 57),\n",
              " ('1576644054699642880', 52),\n",
              " ('1639263584407416839', 49),\n",
              " ('17532913', 44),\n",
              " ('1676645415758733333', 38),\n",
              " ('597673178', 38),\n",
              " ('1010561817997922308', 37),\n",
              " ('840241125499777024', 37),\n",
              " ('1321668098076954624', 36),\n",
              " ('46853901', 36),\n",
              " ('1231450050389315585', 34),\n",
              " ('1567482915600142339', 34)]"
            ]
          },
          "execution_count": 41,
          "metadata": {},
          "output_type": "execute_result"
        }
      ],
      "source": [
        "seen_users_sorted = sorted(seen_users_cnt, key=lambda x: x[1], reverse=True)\n",
        "top_users = seen_users_sorted[1:20]\n",
        "top_users"
      ]
    },
    {
      "cell_type": "code",
      "execution_count": null,
      "id": "2fe6c6f3-0de7-4933-9bf6-0a954011291d",
      "metadata": {
        "id": "2fe6c6f3-0de7-4933-9bf6-0a954011291d"
      },
      "outputs": [],
      "source": [
        "idx = next((i for i, v in enumerate(users_for_graph) if v[0] == top_users[1][0]), None)\n",
        "sample_tweets = users_for_graph[idx][1]"
      ]
    },
    {
      "cell_type": "code",
      "execution_count": null,
      "id": "ee4a3db5-7b81-46e5-8749-c31b5f47f5df",
      "metadata": {
        "id": "ee4a3db5-7b81-46e5-8749-c31b5f47f5df",
        "outputId": "f88a9860-bf2a-4f59-cacb-8fa5304cd238"
      },
      "outputs": [
        {
          "name": "stderr",
          "output_type": "stream",
          "text": [
            "                                                                                \r"
          ]
        },
        {
          "data": {
            "text/plain": [
              "[('دانشگاه MIT هم جای عجیبیه\\u200c\\n\\nتو پیج اعترافات MIT، یه نفر اومده اعتراف کرده یه دختر (احتمالا کراش طرف بوده) اونو آنفالو کرده بعد از اینکه فهمیده مقالش ریجکت شده 😂\\nحقیقتا این یکی خیلی دارک بود. مثلا طرف کات کنه با دوست پسرش بهش بگه مقالت ریجکت شده من دیگه نمیتونم باهات باشم\\n\\n#فقر_فساد_گرونی',),\n",
              " ('عالیه:)) https://t.co/747xf8YIx9',),\n",
              " ('این کیف پول هم چقدر کارمزد میگیره. هر کاری میکنی یه درصد میگیره. \\nالان میگه کارت رو بخوای شارژ کنی باید تتر بگیری. هر تتر بگیری 8 % بر میدارم کارمزد.\\nهر تتر هم 23 لیر زده.\\nیعنی شما 100 تتر بگیری. \\n92 تتر میده بهت \\nمیشه 2116 لیر',),\n",
              " ('@hkazazi اخه حتی قبولم نمیکنه لیر رو از جای دیگه بگیری بزنی بهش :/\\nمن حواله میزدم اصلا خیلی ارزون تر',),\n",
              " ('یکی از این پراپا تقسیم سود صد درصدی گذاشته:) بابا اینقدر بلند اعلام اسکم نکن.',),\n",
              " ('پراگ اسکان زیباست\\nهر سری میام اینجا لذت میبرم https://t.co/VVVEl8NYGo',),\n",
              " ('@SeyedAllyn فکر نکنم اسکم باشه ها . فقط 100 ساعت و فقط برای اولین خرید گذاشته . \\nبیشتر یاد تخفیف های سنگین ریحون میوفتم که جذب مخاطب کنه',),\n",
              " ('@hkazazi اره سید بیشتر اکانتای خریداری شده خود این پروموشنو میگم نه کلی',),\n",
              " ('وضعیت: https://t.co/5O26C5fBy7',),\n",
              " ('وای پسر این مدل کپچاها منو سرویس کردنااا https://t.co/FZ4Q8O9zYS',),\n",
              " ('یک شرکتی که آیفون ۱۳ رو می\\u200cفروخته ۲۴ میلیون. با تحویل یک ماهه/۳۵ روزه و تقریبا هیچ تحویل سر موعدی نداشته و کلی تحویل عقب افتاده داره، در اقدامی جالب قیمت رو کاهش داده و آیفون رو پیش\\u200cفروش می\\u200cکنه ۲۰میلیون تومان.\\nجالب هم اینه برای هیچ نهاد نظارتی، مسئولی سوال پیش نمیاد چطوری طرف آیفون رو ارزون تر از خود اپل می\\u200cفروشه.\\nیا چرا بعد از این همه تحویل عقب افتاده، با کاهش قیمت و افزایش تبلیغات، ثبت\\u200cنام رو بیشتر و بیشتر می\\u200cکنن.\\nیک شعبه\\u200cشون هم پلمپ شد البته. نه به خاطر این فعالیت مشکوک. بلکه به خاطر حجاب (طبق گفته خودشون).',),\n",
              " ('@Nikolaona برو خدا رو شکر کن. ما هی راه پله و چراغ راهنمایی و موتور تشخیص میدیم',),\n",
              " ('@hkazazi @Nikolaona شوخی و جدیشو نفهمیدم ولی راحت میتونی تغییر ریجن بدی کل گوگلتو، البته خودت استادی :)',),\n",
              " ('امروز چقدر تست گرفتیم',),\n",
              " ('شب بخیر',),\n",
              " ('اندر احوالات آیفون های ۲۰ میلیون تومنی و رویا فروشی به مردمی که به سخت ترین شکل ممکن پول در میارن اما به راحت ترین شکل ممکن سرشون رو واسه کلاه های گشاد اما پنهان آماده میکنن ...\\nبازتشر این ویدیو، حتی بدون تگ، آزاده https://t.co/99k4fKIZNX',),\n",
              " ('هزینه ساخت برج خلیفه بلندترین آسمان\\u200cخراش ساختهٔ شده به دست انسان = ۱.۵ میلیارد دلار\\n#اختلاس چای دبش که حاصل اقدام چند وزارتخانه و گمرک و بانک مرکزی است = ۳.۴ میلیارد دلار https://t.co/wF7ohsZwG0',),\n",
              " ('👈تکمیلی: بزرگترین فساد کشف شده مربوط به پدیده شاندیز به ارزش روز، ۳۴ میلیارد دلار است!          \\n  🔥34 Billion of dollars! 🔥\\n\\n*ابتدا ارزش دلاری همان سال محاسبه و سپس با توجه به کاهش ارزش خود دلار، با کمک ماشین\\u200c حساب نرخ تورم دلار (سایت فدرال رزرو) ارزش روز محاسبه شد. https://t.co/LmfPm59Vki',),\n",
              " ('رسانه/مطالبه گر/میتونی از معاون محترم بانک مرکزی @mahramian پس از ۸۱۳روز بپرسی سایت #قمار #ساسی_مانکن چطور سه درگاه پرداخت کارت به کارت بانک مرکزی داره و جواب هم بگیری؟\\nدو روز پیش:\\n❌همراه کارت\\n❌هف\\u200cهشتاد\\n❌پی\\u200cپاد\\n\\nتمام سایتهای #قمار این خدمات رو داره و \"حتی یک روز\" قطع نشده!\\n۲/۳ https://t.co/7K9DlalN3Q',),\n",
              " ('یه سئو کار قابل اعتماد بهم معرفی می\\u200cکنید که واقعا کار کنه؟ \\nزیاد پول هم نگیره ولی آپشنال باشه 😂🤣',),\n",
              " ('میخواستم فارگو ببینم \\nنشستم نشست فدرال رزرو میبینم \\nاز طرفی یه دوره جدید ثبت نام کردم بالای 100 ساعته',),\n",
              " ('@_______Arash دو سال پیش به\\u200cمنم گفتن هزینش اونموقع ۱ تومن میشد \\nمنم گفتم بیخیال\\n رفتم TD-LTE گرفتم',),\n",
              " ('مبلغ بزرگترین فساد های مالی «کشف شده» به دلار 💲💵💸\\n(🟨باکس\\u200c\\u200cهای زرد🟨)\\n\\nاینطوری حس دقیق\\u200cتری نسبت به این مبالغ در مقایسه با طلب ۷ میلیارد دلاری💲 از کره جنوبی 🇰🇷خواهیم داشت! https://t.co/GVWyorYIv0',),\n",
              " ('دوستان، \\n\\nمتخصص گوش، حلق و بینی کاربلد و باتجربه تهران میشناسین معرفی کنین؟\\nبرای درمان سینوزیت مزمن\\n\\nممنون میشم اگه نمیشناسین با #ریتوییت به پیدا کردنش کمک کنین.🙏',),\n",
              " ('@hkazazi شما دقیقا کجای این فیلم رو مطابق واقعیت فرنگ ایران دیدید به\\u200cجز زبان فارسی و صدای گوگوش؟!',)]"
            ]
          },
          "execution_count": 44,
          "metadata": {},
          "output_type": "execute_result"
        }
      ],
      "source": [
        "recommended_tweets = parsed_rdd.flatMap(lambda x: tweet_parser(sample_tweets,x))\n",
        "recommended_tweets.collect()"
      ]
    },
    {
      "cell_type": "code",
      "execution_count": null,
      "id": "afe392a7-e8f0-4f7b-8924-02dd5d064278",
      "metadata": {
        "id": "afe392a7-e8f0-4f7b-8924-02dd5d064278"
      },
      "outputs": [],
      "source": [
        "idx = next((i for i, v in enumerate(users_for_graph) if v[0] == top_users[2][0]), None)\n",
        "sample_tweets = users_for_graph[idx][1]"
      ]
    },
    {
      "cell_type": "code",
      "execution_count": null,
      "id": "c4586f2a-2759-4e2d-b28e-132fcf656e4a",
      "metadata": {
        "id": "c4586f2a-2759-4e2d-b28e-132fcf656e4a",
        "outputId": "7c987c04-a66f-4242-d9c6-43ed9cdf0e0a"
      },
      "outputs": [
        {
          "name": "stderr",
          "output_type": "stream",
          "text": [
            "                                                                                \r"
          ]
        },
        {
          "data": {
            "text/plain": [
              "[('دوستان پلاس پلی استیشن از کجا بگیرم قیمتش خوب باشه؟',),\n",
              " ('دوستان من بدنبال کار بصورت پروژه ای هستم(پایتون)\\nممنون میشم ریتوییت کنید🙏\\n#ریتوییت',),\n",
              " ('البته الان اسپاتیفای پلن ۳ ماهه پرمیوم رایگان هم داره.\\nمیتونید کارت فیک هم بزنید و اگه قبول شد استفادش کنید.\\n\\nهمین الان برای دوستم با کارت فیک گرفتم :)))) https://t.co/QEw09pML8u',),\n",
              " ('به نظرتون جواب همچین متنی چیه؟ https://t.co/Hy74QC5m9G',),\n",
              " ('@nimbit__ من ازشون زیاد خرید داشتم و برای من کاملا اوکی بوده تا الان. قیمت هاشونم کم بوده به نسبت بقیه جاها.\\nولییییی\\nاین دلیل خوبی نیست. من هیچی تضمین نمیکنم 😬',),\n",
              " ('@Nikolaona نه فقط میخواستم بدونم تا حالا ازشون خرید داشتی یا نه:)\\nبازم ممنون\\nفقط با مستر کارت ترکیه باید vpn ترکیه هم بزنیم دیگه؟\\nچون ریجن اسپاتیفای هم باید عوض بشه فک کنم',),\n",
              " ('@nimbit__ نه نیاز نیس\\nموقع زدن شماره کارت از پایین کشور رو بکن ترکیه',),\n",
              " ('@Nikolaona بعد یه سوال دیگه\\nبعد بخوام با همین ریجن گوگل پلی عوض کنم میشه؟\\nمثلا همین مستر کارت رو اد کنم گوگل پلی ریجنم بشه ترکیه(تا حالا نکردم)',),\n",
              " ('از من به شما نصیحت! \\nماشین قراره بخری؟ خفه شو\\nگوشی قراره بخری؟ خفه شو\\nخونه قراره بخری؟ خفه شو\\nهرکاری که میخوای بکنی فقط خفه شو\\nشاید الان بدتون بیاد از این حرف ولی بعدش نتیجه رو میفهمین!',),\n",
              " ('@nimbit__ کوچیکه داداش تو تلویزیون بگیر',),\n",
              " ('به عنوان یه آدم قدیمی این آهنگ قدیمی رو خیلی دوست دارم:\\nhttps://t.co/Y35UrznmiC',),\n",
              " ('@realbardia فک کردم فقط منم سی سی کچ گوش میدم:)))))\\nولی Are you man enough بهترینشه',),\n",
              " ('آقا کسی اینجا هست یه اکانت تلگرام که شماره غیر ایرانی داره داشته باشه؟\\nکارم خیلی واجبه یکاری هست که فقط رو اون شماره ها میشه انجام داد...',),\n",
              " ('زیرنویس عالی https://t.co/T8iZNddaGq',)]"
            ]
          },
          "execution_count": 46,
          "metadata": {},
          "output_type": "execute_result"
        }
      ],
      "source": [
        "recommended_tweets = parsed_rdd.flatMap(lambda x: tweet_parser(sample_tweets,x))\n",
        "recommended_tweets.collect()"
      ]
    },
    {
      "cell_type": "markdown",
      "id": "ae117b96-3f86-497d-a55f-b0e07c23c151",
      "metadata": {
        "jp-MarkdownHeadingCollapsed": true,
        "tags": [],
        "id": "ae117b96-3f86-497d-a55f-b0e07c23c151"
      },
      "source": [
        "***\n",
        "# $\\text{User #3}$"
      ]
    },
    {
      "cell_type": "code",
      "execution_count": null,
      "id": "19f89833-69c5-4f91-b36b-c9cfdbc481b9",
      "metadata": {
        "id": "19f89833-69c5-4f91-b36b-c9cfdbc481b9"
      },
      "outputs": [],
      "source": [
        "target_user = ('1693973461306109952',\n",
        " [('1574904470835798041', '1734442494039826873', 2),\n",
        "  ('1574904470835798041', '1734883099647914204', 2),\n",
        "  ('1574904470835798041', '1735771172472492519', 2),\n",
        "  ('1693973461306109952', '1736853602969280923', 3),\n",
        "  ('1693973461306109952', '1736855151917334935', 3),\n",
        "  ('1693973461306109952', '1735069630308266029', 3),\n",
        "  ('1693973461306109952', '1735401606160785610', 3),\n",
        "  ('1693973461306109952', '1735071498032058504', 3),\n",
        "  ('1693973461306109952', '1735071498032058504', 2),\n",
        "  ('1574904470835798041', '1735403820757426674', 2)])"
      ]
    },
    {
      "cell_type": "code",
      "execution_count": null,
      "id": "e536d5c2-36c0-40ec-a3ee-c98125388a76",
      "metadata": {
        "id": "e536d5c2-36c0-40ec-a3ee-c98125388a76",
        "outputId": "3b2a8f49-1572-4d31-a414-fcbfe7dd8b92"
      },
      "outputs": [
        {
          "data": {
            "text/plain": [
              "('1693973461306109952',\n",
              " ['1735771172472492519',\n",
              "  '1736855151917334935',\n",
              "  '1735403820757426674',\n",
              "  '1734883099647914204',\n",
              "  '1735069630308266029',\n",
              "  '1736853602969280923',\n",
              "  '1735401606160785610',\n",
              "  '1735071498032058504',\n",
              "  '1734442494039826873'])"
            ]
          },
          "execution_count": 48,
          "metadata": {},
          "output_type": "execute_result"
        }
      ],
      "source": [
        "target_user = (target_user[0],list(set([x[1] for x in target_user[1]])))\n",
        "target_user"
      ]
    },
    {
      "cell_type": "code",
      "execution_count": null,
      "id": "77b4449b-ed9e-4f16-a751-5cc25267c1da",
      "metadata": {
        "id": "77b4449b-ed9e-4f16-a751-5cc25267c1da",
        "outputId": "39965c64-097e-4ae1-81e5-00571f20b677"
      },
      "outputs": [
        {
          "data": {
            "text/plain": [
              "['1735771172472492519',\n",
              " '1736855151917334935',\n",
              " '1735403820757426674',\n",
              " '1734883099647914204',\n",
              " '1735069630308266029',\n",
              " '1736853602969280923',\n",
              " '1735401606160785610',\n",
              " '1735071498032058504',\n",
              " '1734442494039826873']"
            ]
          },
          "execution_count": 49,
          "metadata": {},
          "output_type": "execute_result"
        }
      ],
      "source": [
        "target_user_tweets_ids = target_user[1]\n",
        "target_user_tweets_ids"
      ]
    },
    {
      "cell_type": "code",
      "execution_count": null,
      "id": "86e0e79a-0180-4541-ab0a-7fb48a6d6b55",
      "metadata": {
        "id": "86e0e79a-0180-4541-ab0a-7fb48a6d6b55",
        "outputId": "09f75260-e83c-48dd-b842-b7e5c2d45f02"
      },
      "outputs": [
        {
          "name": "stderr",
          "output_type": "stream",
          "text": [
            "                                                                                \r"
          ]
        }
      ],
      "source": [
        "_xhop_users = tweets_rdd.flatMap(lambda x: users_from_tweets(target_user_tweets_ids,x))\n",
        "_1hop_users = _xhop_users.collect()\n",
        "# _1hop_users"
      ]
    },
    {
      "cell_type": "code",
      "execution_count": null,
      "id": "2059bae5-4358-45d9-af2a-3fd0efbab532",
      "metadata": {
        "id": "2059bae5-4358-45d9-af2a-3fd0efbab532",
        "outputId": "d3570b35-869d-45d7-a49f-fed8e51c6920"
      },
      "outputs": [
        {
          "name": "stderr",
          "output_type": "stream",
          "text": [
            "                                                                                \r"
          ]
        }
      ],
      "source": [
        "_xhop_tweets = users_rdd.flatMap(lambda x: tweets_from_users(_1hop_users,x))\n",
        "_2hop_tweets = _xhop_tweets.collect()\n",
        "# _2hop_tweets"
      ]
    },
    {
      "cell_type": "code",
      "execution_count": null,
      "id": "b0c5a947-27bf-4f64-aafa-d2e1be8b90be",
      "metadata": {
        "id": "b0c5a947-27bf-4f64-aafa-d2e1be8b90be"
      },
      "outputs": [],
      "source": [
        "_xhop_users = tweets_rdd.flatMap(lambda x: users_from_tweets(_2hop_tweets,x))\n",
        "_3hop_users = _xhop_users.collect()\n",
        "# _3hop_users"
      ]
    },
    {
      "cell_type": "code",
      "execution_count": null,
      "id": "fa6917f1-4ca8-4695-b237-096744733e70",
      "metadata": {
        "id": "fa6917f1-4ca8-4695-b237-096744733e70"
      },
      "outputs": [],
      "source": [
        "_xhop_tweets = users_rdd.flatMap(lambda x: tweets_from_users(_3hop_users,x))\n",
        "_4hop_tweets = _xhop_tweets.collect()\n",
        "# _4hop_tweets"
      ]
    },
    {
      "cell_type": "code",
      "execution_count": null,
      "id": "acae855c-9ff7-472f-866d-744e3eeb7ed8",
      "metadata": {
        "id": "acae855c-9ff7-472f-866d-744e3eeb7ed8",
        "outputId": "f20cb9a3-ce4f-4f5c-e0ba-a7e497b28950"
      },
      "outputs": [
        {
          "data": {
            "text/plain": [
              "13"
            ]
          },
          "execution_count": 54,
          "metadata": {},
          "output_type": "execute_result"
        }
      ],
      "source": [
        "all_related_users = _1hop_users\n",
        "# all_related_users = _1hop_users + _3hop_users\n",
        "len(all_related_users)"
      ]
    },
    {
      "cell_type": "code",
      "execution_count": null,
      "id": "3aebade5-8370-485d-a9b2-b235c1217b6b",
      "metadata": {
        "id": "3aebade5-8370-485d-a9b2-b235c1217b6b",
        "outputId": "fe1e248b-56d8-40b8-cf8f-384805f5e02e"
      },
      "outputs": [
        {
          "data": {
            "text/plain": [
              "20"
            ]
          },
          "execution_count": 55,
          "metadata": {},
          "output_type": "execute_result"
        }
      ],
      "source": [
        "all_related_tweets = _2hop_tweets\n",
        "# all_related_tweets = _2hop_tweets + _4hop_tweets\n",
        "len(all_related_tweets)"
      ]
    },
    {
      "cell_type": "code",
      "execution_count": null,
      "id": "53273205-08ec-4c37-ab8d-1b9c919fd172",
      "metadata": {
        "id": "53273205-08ec-4c37-ab8d-1b9c919fd172",
        "outputId": "d4f60189-681f-437c-f45c-b8425f9eb6ed"
      },
      "outputs": [
        {
          "name": "stderr",
          "output_type": "stream",
          "text": [
            "                                                                                \r"
          ]
        }
      ],
      "source": [
        "users_for_graph_rdd = users_rdd.flatMap(lambda x: users_with_tweets_generator(all_related_users,x))\n",
        "users_for_graph = users_for_graph_rdd.collect()\n",
        "# users_for_graph"
      ]
    },
    {
      "cell_type": "code",
      "execution_count": null,
      "id": "efb0cf1c-5517-4102-9058-ae91e9b68d58",
      "metadata": {
        "id": "efb0cf1c-5517-4102-9058-ae91e9b68d58",
        "outputId": "cb1af07d-444b-4439-e7b1-a783edb9ce15"
      },
      "outputs": [
        {
          "name": "stderr",
          "output_type": "stream",
          "text": [
            "                                                                                \r"
          ]
        }
      ],
      "source": [
        "tweets_for_graph_rdd = tweets_rdd.flatMap(lambda x:tweets_with_users_generator(all_related_tweets,x))\n",
        "tweets_for_graph = tweets_for_graph_rdd.collect()"
      ]
    },
    {
      "cell_type": "code",
      "execution_count": null,
      "id": "fece45c7-0a56-4146-9827-bdac5e6ea3d0",
      "metadata": {
        "id": "fece45c7-0a56-4146-9827-bdac5e6ea3d0",
        "outputId": "f9630900-93aa-40e4-c62e-58525fbab516"
      },
      "outputs": [
        {
          "data": {
            "text/plain": [
              "2"
            ]
          },
          "execution_count": 60,
          "metadata": {},
          "output_type": "execute_result"
        }
      ],
      "source": [
        "len(users_for_graph)"
      ]
    },
    {
      "cell_type": "code",
      "execution_count": null,
      "id": "268a802a-ea04-4e1a-8f07-2044a9b09276",
      "metadata": {
        "id": "268a802a-ea04-4e1a-8f07-2044a9b09276",
        "outputId": "c1f05bf1-f274-4b76-be2f-71cab754f41d"
      },
      "outputs": [
        {
          "data": {
            "text/plain": [
              "16"
            ]
          },
          "execution_count": 61,
          "metadata": {},
          "output_type": "execute_result"
        }
      ],
      "source": [
        "len(tweets_for_graph)"
      ]
    },
    {
      "cell_type": "code",
      "execution_count": null,
      "id": "56ffcb06-9a1c-4f49-a72f-58567e1e428b",
      "metadata": {
        "id": "56ffcb06-9a1c-4f49-a72f-58567e1e428b"
      },
      "outputs": [],
      "source": [
        "seen_users_all = random_walk(target_user,users_for_graph,tweets_for_graph,return_prob = 0.8)"
      ]
    },
    {
      "cell_type": "code",
      "execution_count": null,
      "id": "e2368a50-818d-477a-a511-1566356ef177",
      "metadata": {
        "id": "e2368a50-818d-477a-a511-1566356ef177"
      },
      "outputs": [],
      "source": [
        "from itertools import groupby\n",
        "from operator import itemgetter\n",
        "\n",
        "first = itemgetter(0)\n",
        "seen_users_cnt = [(k, sum(item[1] for item in tups_to_sum))\n",
        "        for k, tups_to_sum in groupby(sorted(seen_users_all, key=first), key=first)]"
      ]
    },
    {
      "cell_type": "code",
      "execution_count": null,
      "id": "5dfa7cf3-dabf-475b-9fdc-1c86d0a18f34",
      "metadata": {
        "id": "5dfa7cf3-dabf-475b-9fdc-1c86d0a18f34",
        "outputId": "8622ccb4-c868-49b4-e65e-69e4c77edbdf"
      },
      "outputs": [
        {
          "data": {
            "text/plain": [
              "[('1574904470835798041', 1193)]"
            ]
          },
          "execution_count": 65,
          "metadata": {},
          "output_type": "execute_result"
        }
      ],
      "source": [
        "seen_users_sorted = sorted(seen_users_cnt, key=lambda x: x[1], reverse=True)\n",
        "top_users = seen_users_sorted[1:20]\n",
        "top_users"
      ]
    },
    {
      "cell_type": "code",
      "execution_count": null,
      "id": "6c93141e-3382-4585-93e0-9aac47124b9c",
      "metadata": {
        "id": "6c93141e-3382-4585-93e0-9aac47124b9c"
      },
      "outputs": [],
      "source": [
        "idx = next((i for i, v in enumerate(users_for_graph) if v[0] == top_users[0][0]), None)\n",
        "sample_tweets = users_for_graph[idx][1]"
      ]
    },
    {
      "cell_type": "code",
      "execution_count": null,
      "id": "3c697cb2-9196-4210-8459-7d34af307024",
      "metadata": {
        "id": "3c697cb2-9196-4210-8459-7d34af307024"
      },
      "outputs": [],
      "source": [
        "def tweet_parser(tweet_ids,tweet):\n",
        "    if tweet.get('id') in tweet_ids:\n",
        "        return [(tweet.get('text'),)]\n",
        "    else:\n",
        "        return []"
      ]
    },
    {
      "cell_type": "code",
      "execution_count": null,
      "id": "dbe08c1f-8e94-46ae-9666-573c9fcc0035",
      "metadata": {
        "id": "dbe08c1f-8e94-46ae-9666-573c9fcc0035",
        "outputId": "d063cc73-fff8-4aaa-8225-a21234e550fc"
      },
      "outputs": [
        {
          "name": "stderr",
          "output_type": "stream",
          "text": [
            "                                                                                \r"
          ]
        },
        {
          "data": {
            "text/plain": [
              "[('تو\\nآنجایی\\nو \\n\"آنجا\" \\nنمی داند \\nکه\\nچقدر\\nخوشبخت\\nاست!',),\n",
              " ('بخیر ترین صبح قطعا اونی که \\nکنار کسی که دوسش داری شروع میشه…',),\n",
              " ('آنجا که تو نیستی، کجا خواهد بود…',),\n",
              " ('گمان میکنی پایان است ،\\nو خدا همه چیز را درست میکند…',),\n",
              " ('از بوی تنت فهمیدم\\nشاید خیلی دیر رسیدم خیلی دیر \\nاما مگر قانون این نبود که هر آنچه دیر می آید\\nعاقبت روزی به خانه ی ما خواهد رسید؟…',),\n",
              " ('بغلم کن همه جا\\nشهر حسودی بکند…',),\n",
              " ('ای دیدن تو دین من\\nای روی تو ایمان من\\nای هست تو پنهان شده\\nدر هستی پنهان من…',),\n",
              " ('کار می کنم و به تو فکر میکنم\\nبه خانه برمی گردم وبه تو فکر میکنم \\nبه آن زن تلفن میکنم و درعین حال به تو فکر میکنم \\nبه او می گویم حالت چطور است؟ و به تو فکر میکنم\\nکجا برویم ؟وبه تو فکر میکنم \\nبه او لبخند می زنم ،چشمانم را می بندم و به تو فکر می کنم...',)]"
            ]
          },
          "execution_count": 69,
          "metadata": {},
          "output_type": "execute_result"
        }
      ],
      "source": [
        "recommended_tweets = parsed_rdd.flatMap(lambda x: tweet_parser(sample_tweets,x))\n",
        "recommended_tweets.collect()"
      ]
    },
    {
      "cell_type": "markdown",
      "id": "4d374255-de6d-448f-bc0d-06414a82d1a6",
      "metadata": {
        "jp-MarkdownHeadingCollapsed": true,
        "tags": [],
        "id": "4d374255-de6d-448f-bc0d-06414a82d1a6"
      },
      "source": [
        "***\n",
        "# $\\text{User #4}$"
      ]
    },
    {
      "cell_type": "code",
      "execution_count": null,
      "id": "6e9d14f6-333f-41e8-8115-83a4904fdf0a",
      "metadata": {
        "id": "6e9d14f6-333f-41e8-8115-83a4904fdf0a",
        "outputId": "0d998067-c5ea-4e7c-bc65-f725b6954250"
      },
      "outputs": [
        {
          "name": "stderr",
          "output_type": "stream",
          "text": [
            "                                                                                \r"
          ]
        },
        {
          "data": {
            "text/plain": [
              "('1343961231166734336',\n",
              " ['1736503973559906442',\n",
              "  '1736422396721062257',\n",
              "  '1736384901635539042',\n",
              "  '1736407359461704039',\n",
              "  '1736455332614877486',\n",
              "  '1736307951638323471',\n",
              "  '1736442052454310094'])"
            ]
          },
          "execution_count": 76,
          "metadata": {},
          "output_type": "execute_result"
        }
      ],
      "source": [
        "target_user = users_rdd.takeSample(False,1,487)[0]\n",
        "target_user"
      ]
    },
    {
      "cell_type": "code",
      "execution_count": null,
      "id": "e50f890b-1415-4b73-85a5-9174a602a644",
      "metadata": {
        "id": "e50f890b-1415-4b73-85a5-9174a602a644",
        "outputId": "ce5e7ead-82ad-4590-a064-41bc63299501"
      },
      "outputs": [
        {
          "name": "stderr",
          "output_type": "stream",
          "text": [
            "                                                                                \r"
          ]
        },
        {
          "data": {
            "text/plain": [
              "[('مردم گیلان شهید حسن بابانیا را در روز شهادت حضرت زهرا سلام\\u200cالله در میان اشک و آه بدرقه کردند.\\n#شهدای_فاطمیه\\n#انتقام_سخت https://t.co/AXAcw9R9xc',),\n",
              " ('خانم زینب اسماعیلی خبرنگار سابق روزنامه جاسوس پرور شرق ، این جمعیت میلیونی که میبینی مردم ایران 🇮🇷 هستند ، اومدن نمایش تراژیک و عذاب آور ببیند!!!!!!\\nشرم بر تو 👌 https://t.co/JiUnVKOXzK',),\n",
              " ('هم\\u200cاکنون؛ تصویری از رهبر انقلاب در ابتدای مراسم عزاداری شام شهادت حضرت فاطمه\\u200cزهرا سلام\\u200cالله\\u200cعلیها در حسینیه امام خمینی(ره). ۱۴۰۲/۰۹/۲۶ https://t.co/Z3AZqJsY5f',),\n",
              " ('به كجا چنين شتابان. ، سردار از #آیزنهاور پرسيد😁😁 https://t.co/m24Eb8AyGW',),\n",
              " ('هیچ چیز مانند مظلومیت، رسواکننده ظلم و ظالم نیست.\\nمنتها یک شرط دارد:\\nآن مظلوم باید مقتدر باشد نه ذلیل …\\nفاطمه سلام الله علیها بنیانگذار این مکتب است \\nبرادران و\\u200cخواهرانمان در غزه خواه بدانند یا ندانند پیرو این مکتب هستند.\\n\\n#مقتدر_مظلوم \\n#غزه_تقاوم',),\n",
              " ('یا زیاد بخوانید یا اصلا نخوانید!\\nکسانی که چند کتاب محدود خوانده\\u200cاند به متوهم\\u200cترین و خطرناک\\u200cترین انسان\\u200cها\\u200c تبدیل می\\u200cشوند، زیرا تعصب شدیدی روی دانش اندکشان پیدا می\\u200cکنند... \\nکارل سیگن',),\n",
              " ('قاب\\u200cهای متفاوتی از مراسم عزاداری شام شهادت حضرت فاطمه زهرا سلام\\u200cالله\\u200cعلیها در حسینیه امام خمینی(ره). ۱۴۰۲/۰۹/۲۶ https://t.co/IWPzZrVEXS',)]"
            ]
          },
          "execution_count": 105,
          "metadata": {},
          "output_type": "execute_result"
        }
      ],
      "source": [
        "target_user_tweets = parsed_rdd.flatMap(lambda x: tweet_parser(target_user_tweets_ids,x))\n",
        "target_user_tweets.collect()"
      ]
    },
    {
      "cell_type": "code",
      "execution_count": null,
      "id": "2ccfc4ff-fa28-42e0-b0b8-796e02021357",
      "metadata": {
        "id": "2ccfc4ff-fa28-42e0-b0b8-796e02021357",
        "outputId": "69f5a561-34c0-4d75-860b-92138b3c6d46"
      },
      "outputs": [
        {
          "data": {
            "text/plain": [
              "['1736407359461704039',\n",
              " '1736455332614877486',\n",
              " '1736307951638323471',\n",
              " '1736442052454310094',\n",
              " '1736384901635539042',\n",
              " '1736503973559906442',\n",
              " '1736422396721062257']"
            ]
          },
          "execution_count": 77,
          "metadata": {},
          "output_type": "execute_result"
        }
      ],
      "source": [
        "target_user_tweets_ids = list(set([x for x in target_user[1]]))\n",
        "target_user_tweets_ids"
      ]
    },
    {
      "cell_type": "code",
      "execution_count": null,
      "id": "e0bfa83a-3b96-439f-9b36-964acbf2604c",
      "metadata": {
        "id": "e0bfa83a-3b96-439f-9b36-964acbf2604c",
        "outputId": "68a63323-fb3a-4b59-d77f-f43917cc3b43"
      },
      "outputs": [
        {
          "name": "stderr",
          "output_type": "stream",
          "text": [
            "                                                                                \r"
          ]
        }
      ],
      "source": [
        "_xhop_users = tweets_rdd.flatMap(lambda x: users_from_tweets(target_user_tweets_ids,x))\n",
        "_1hop_users = _xhop_users.collect()\n",
        "# _1hop_users"
      ]
    },
    {
      "cell_type": "code",
      "execution_count": null,
      "id": "105e82bf-7328-4f05-9ad4-964e0cf08462",
      "metadata": {
        "id": "105e82bf-7328-4f05-9ad4-964e0cf08462",
        "outputId": "7d1ecfee-080d-473a-e8e5-29a2fb99b76f"
      },
      "outputs": [
        {
          "name": "stderr",
          "output_type": "stream",
          "text": [
            "                                                                                \r"
          ]
        }
      ],
      "source": [
        "_xhop_tweets = users_rdd.flatMap(lambda x: tweets_from_users(_1hop_users,x))\n",
        "_2hop_tweets = _xhop_tweets.collect()\n",
        "# _2hop_tweets"
      ]
    },
    {
      "cell_type": "code",
      "execution_count": null,
      "id": "b237a9ad-1a8a-4609-98c7-353f92542522",
      "metadata": {
        "id": "b237a9ad-1a8a-4609-98c7-353f92542522",
        "outputId": "56cd85b3-6d90-46b9-8ea8-996341288986"
      },
      "outputs": [
        {
          "name": "stderr",
          "output_type": "stream",
          "text": [
            "                                                                                \r"
          ]
        }
      ],
      "source": [
        "_xhop_users = tweets_rdd.flatMap(lambda x: users_from_tweets(_2hop_tweets,x))\n",
        "_3hop_users = _xhop_users.collect()\n",
        "# _3hop_users"
      ]
    },
    {
      "cell_type": "code",
      "execution_count": null,
      "id": "b69612fe-fa77-4eb5-a20b-ac69560b6cdc",
      "metadata": {
        "id": "b69612fe-fa77-4eb5-a20b-ac69560b6cdc",
        "outputId": "f09e1fad-abdf-4887-9bfd-e73ad511f2c7"
      },
      "outputs": [
        {
          "name": "stderr",
          "output_type": "stream",
          "text": [
            "                                                                                \r"
          ]
        }
      ],
      "source": [
        "_xhop_tweets = users_rdd.flatMap(lambda x: tweets_from_users(_3hop_users,x))\n",
        "_4hop_tweets = _xhop_tweets.collect()\n",
        "# _4hop_tweets"
      ]
    },
    {
      "cell_type": "code",
      "execution_count": null,
      "id": "ab04d466-6f68-49e4-8932-d72789d04140",
      "metadata": {
        "id": "ab04d466-6f68-49e4-8932-d72789d04140",
        "outputId": "6d9b3745-db10-4810-f0de-8c1999919a62"
      },
      "outputs": [
        {
          "data": {
            "text/plain": [
              "1045"
            ]
          },
          "execution_count": 83,
          "metadata": {},
          "output_type": "execute_result"
        }
      ],
      "source": [
        "all_related_users = _1hop_users\n",
        "# all_related_users = _1hop_users + _3hop_users\n",
        "len(all_related_users)"
      ]
    },
    {
      "cell_type": "code",
      "execution_count": null,
      "id": "f66b14e5-1e6c-49c1-8564-de1fa111f347",
      "metadata": {
        "id": "f66b14e5-1e6c-49c1-8564-de1fa111f347",
        "outputId": "c485d706-12c8-4b65-8bf7-962255c96292"
      },
      "outputs": [
        {
          "data": {
            "text/plain": [
              "97398"
            ]
          },
          "execution_count": 84,
          "metadata": {},
          "output_type": "execute_result"
        }
      ],
      "source": [
        "all_related_tweets = _2hop_tweets\n",
        "# all_related_tweets = _2hop_tweets + _4hop_tweets\n",
        "len(all_related_tweets)"
      ]
    },
    {
      "cell_type": "code",
      "execution_count": null,
      "id": "7549511a-e117-48bb-802a-4075e293eb83",
      "metadata": {
        "id": "7549511a-e117-48bb-802a-4075e293eb83",
        "outputId": "f7e0c9d2-f075-4392-b5d2-7e7ad35b284e"
      },
      "outputs": [
        {
          "name": "stderr",
          "output_type": "stream",
          "text": [
            "                                                                                \r"
          ]
        }
      ],
      "source": [
        "users_for_graph_rdd = users_rdd.flatMap(lambda x: users_with_tweets_generator(all_related_users,x))\n",
        "users_for_graph = users_for_graph_rdd.collect()"
      ]
    },
    {
      "cell_type": "code",
      "execution_count": null,
      "id": "a32016dc-dbb2-4c55-ba77-47cada9623ba",
      "metadata": {
        "id": "a32016dc-dbb2-4c55-ba77-47cada9623ba",
        "outputId": "94924b4a-af96-49bd-fdd2-be3e4279beeb"
      },
      "outputs": [
        {
          "name": "stderr",
          "output_type": "stream",
          "text": [
            "                                                                                \r"
          ]
        }
      ],
      "source": [
        "tweets_for_graph_rdd = tweets_rdd.flatMap(lambda x:tweets_with_users_generator(all_related_tweets,x))\n",
        "tweets_for_graph = tweets_for_graph_rdd.collect()"
      ]
    },
    {
      "cell_type": "code",
      "execution_count": null,
      "id": "88a6787f-ccd8-4aff-9f1f-9c8bd8bc2e92",
      "metadata": {
        "id": "88a6787f-ccd8-4aff-9f1f-9c8bd8bc2e92",
        "outputId": "2c090110-31cf-4a57-b188-a35332fb8c54"
      },
      "outputs": [
        {
          "data": {
            "text/plain": [
              "931"
            ]
          },
          "execution_count": 89,
          "metadata": {},
          "output_type": "execute_result"
        }
      ],
      "source": [
        "len(users_for_graph)"
      ]
    },
    {
      "cell_type": "code",
      "execution_count": null,
      "id": "883948a1-1ff6-4b9e-9a6c-cf4bdfbbd278",
      "metadata": {
        "id": "883948a1-1ff6-4b9e-9a6c-cf4bdfbbd278",
        "outputId": "d18eb29e-b2a4-4391-863e-60080a614b7c"
      },
      "outputs": [
        {
          "data": {
            "text/plain": [
              "37396"
            ]
          },
          "execution_count": 90,
          "metadata": {},
          "output_type": "execute_result"
        }
      ],
      "source": [
        "len(tweets_for_graph)"
      ]
    },
    {
      "cell_type": "code",
      "execution_count": null,
      "id": "586a7721-fca1-4355-819d-ec0c6b0f3b87",
      "metadata": {
        "id": "586a7721-fca1-4355-819d-ec0c6b0f3b87"
      },
      "outputs": [],
      "source": [
        "seen_users_all = random_walk(target_user,users_for_graph,tweets_for_graph,return_prob = 0.8)"
      ]
    },
    {
      "cell_type": "code",
      "execution_count": null,
      "id": "0e7e48a0-9ddd-4917-9d07-df2f27a691ec",
      "metadata": {
        "id": "0e7e48a0-9ddd-4917-9d07-df2f27a691ec"
      },
      "outputs": [],
      "source": [
        "from itertools import groupby\n",
        "from operator import itemgetter\n",
        "\n",
        "first = itemgetter(0)\n",
        "seen_users_cnt = [(k, sum(item[1] for item in tups_to_sum))\n",
        "        for k, tups_to_sum in groupby(sorted(seen_users_all, key=first), key=first)]"
      ]
    },
    {
      "cell_type": "code",
      "execution_count": null,
      "id": "54ee41c4-8f34-452c-86f7-ffa885075192",
      "metadata": {
        "id": "54ee41c4-8f34-452c-86f7-ffa885075192",
        "outputId": "771bf7e7-1f23-4c91-9a0b-91699f351278"
      },
      "outputs": [
        {
          "data": {
            "text/plain": [
              "[('952453705', 755),\n",
              " ('37050268', 370),\n",
              " ('1591547142136627202', 336),\n",
              " ('1303599606551531520', 327),\n",
              " ('1343961231166734336', 43),\n",
              " ('1575260422516662272', 25),\n",
              " ('1705256827213041669', 24),\n",
              " ('1593256090908532736', 23),\n",
              " ('959142611025059842', 22),\n",
              " ('1272999611607719942', 21),\n",
              " ('1712456826292428800', 21),\n",
              " ('1501786831725240321', 19),\n",
              " ('1089593176808148997', 18),\n",
              " ('1545831035208093696', 18),\n",
              " ('1021430809474076674', 17),\n",
              " ('1269654925', 17),\n",
              " ('1420411453975273474', 17),\n",
              " ('1579439373636046848', 17),\n",
              " ('1267421104861261826', 16)]"
            ]
          },
          "execution_count": 98,
          "metadata": {},
          "output_type": "execute_result"
        }
      ],
      "source": [
        "seen_users_sorted = sorted(seen_users_cnt, key=lambda x: x[1], reverse=True)\n",
        "top_users = seen_users_sorted[1:20]\n",
        "top_users"
      ]
    },
    {
      "cell_type": "code",
      "execution_count": null,
      "id": "e62823db-2bbb-4aad-bf6b-46c34c83fb7c",
      "metadata": {
        "id": "e62823db-2bbb-4aad-bf6b-46c34c83fb7c"
      },
      "outputs": [],
      "source": [
        "idx = next((i for i, v in enumerate(users_for_graph) if v[0] == top_users[1][0]), None)\n",
        "sample_tweets = users_for_graph[idx][1]"
      ]
    },
    {
      "cell_type": "code",
      "execution_count": null,
      "id": "0387881d-f36e-4278-9706-ab4ef03d1a64",
      "metadata": {
        "id": "0387881d-f36e-4278-9706-ab4ef03d1a64",
        "outputId": "ed25eb22-426d-4997-f0d7-2251f4d6ed24"
      },
      "outputs": [
        {
          "name": "stderr",
          "output_type": "stream",
          "text": [
            "                                                                                \r"
          ]
        },
        {
          "data": {
            "text/plain": [
              "[('از هوش مصنوعی بینگ خواستم دوتا ایرانی کنار هم ایستاده را بکشد خروجی زیبا بود. https://t.co/r7UmIfrmX5',),\n",
              " ('در پی حمله ناجوانمردانه گروهک تروریستی جیش العدل به مقر انتظامی در شهرستان راسک ۱۱ نفر به شهادت رسیدند.',),\n",
              " ('بامداد امروز مقر فرماندهی نیروی انتظامی شهرستان راسک-بلوچستان مورد حمله قرار گرفت، بیش از پانزد نفر از نیروهای انتظامی و امنیتی جانباخته و تعدادی نیز زخمی شدند. https://t.co/TAgfZRFjMv',),\n",
              " ('تعداد فالور\\u200cهای صادق بوقی به بیش از نیم میلیون رسید و همچنان در حال رشد است\\n«ظهور اینفلوئنسری دیگر از دل یک بحران سازی» https://t.co/Cp6n28aEDS',),\n",
              " ('بازخوانی صحبت های رئیس سازمان پدافند غیرعامل کشور پس از حمله سایبری به جایگاه\\u200cهای سوخت در مهر ۱۴۰۱\\nحمله سایبری سال گذشته به سامانه سوخت کشور، چند لایه بود. یک لایه این حمله نفوذ فردی بود. لایه دوم آسیب\\u200cپذیری زیرساختی بود. لایه سوم قطع خدمت\\u200cرسانی به مردم بود.\\nآذر ۱۴۰۲ تکرار ماجرا https://t.co/JRiqaMjU1M',),\n",
              " ('بازخوانی صحبت های رئیس سازمان پدافند غیرعامل کشور پس از حمله سایبری به جایگاه\\u200cهای سوخت در آبان ۱۴۰۰\\nحمله سایبری سال گذشته به سامانه سوخت کشور، چند لایه بود. یک لایه این حمله نفوذ فردی بود. لایه دوم آسیب\\u200cپذیری زیرساختی بود. لایه سوم قطع خدمت\\u200cرسانی به مردم بود.\\nآذر ۱۴۰۲ تکرار ماجرا https://t.co/t99BUmqNKl',),\n",
              " ('روزگاری استدلال این بود که ممنوعیت واردات و افزایش تعرفه وارادت خودرو باعث شکوفایی و پیشرفت صنعت خودرو ایران می\\u200cشود.\\nنتیجه حمایت\\u200cها، تولیدات بی\\u200cکیفیت، مونتاژ کاری چند برابر قیمت و در نهایت انتقاد رهبر انقلاب: کیفیت خودروهای داخلی خوب نیست و حق با مردم است.',),\n",
              " ('ای ایران نام یکی از مشهورترین سرودهای میهنی و ملی گرایانه ایران، ساخته روح\\u200cالله خالقی است. این سرود نه پیش از انقلاب اسلامی در ایران و نه پس از آن، سرود ملی رسمی نبوده است و در اردیبهشت ۱۳۹۶ به ثبت ملی رسید.',),\n",
              " ('فکر میکنم دیگر باید بی\\u200cخیال انتشار کتاب «حجاب» شوم.کتاب مرد پشت پرده(اسرار شبکه سری جورج سورس) به مرحله پیش چاپ رسید. کار ترجمه خطاهای شناختی رو به پایان است. دو کتاب جهت ترجمه برای سال جدید انتخاب کردم اما دگر حوصله ای نیست.',),\n",
              " ('@kalbalouchi خلیل بلوچی خودرو امر\\u200cپ طوفان برای حفاظ از جان مرزبانان کشور در برابر ترویستی\\u200cهای که شما حامی آنها هستید فرستاده شد. همان تروریست\\u200cهای که شما به آنها می\\u200cگوید زندانی عقیدتی! https://t.co/liw6zNnsus',),\n",
              " ('چه افتخار بزرگی که سرود ملی مون را هرگز از یاد نمی بریم. https://t.co/4rjUFcjV2V',),\n",
              " ('«گرانی، تورم و کاهش ارزش پول ملی برای مردم محسوس است.»\\nسفره مردم روز به روز کوچک\\u200cتر  و معیشت سخت\\u200cتر می\\u200cشود.',),\n",
              " ('عده\\u200cای منتقد هستند که چرا اخبار برخورد با مفاسد اقتصادی همیشه با واکنش منفی افکار عمومی روبرو می\\u200cشود. جواب روشن است اولاً خبر وجود فساد نشاط آور نیست و دوم اینکه بسیاری از فاسدان قبلی مکشوف شده، جلو چشم مردم رژه می روند!',),\n",
              " ('سردار غلامرضا جلالی از سال ۱۳۸۴ تاکنون به\\u200cعنوان رئیس سازمان پدافند غیر عامل کشور فعالیت می\\u200cکند. \\nکاش کارنامه  ۱۸ سال فعالیت ایشان در حوزه پدافند غیر\\u200cعامل بررسی می\\u200cشد.',),\n",
              " ('@MohajerMr جناب مهاجری جمله اول از رهبر انقلاب در بهمن ۱۴۰۱ است https://t.co/BU5QfDK1a4',),\n",
              " ('یا زیاد بخوانید یا اصلا نخوانید!\\nکسانی که چند کتاب محدود خوانده\\u200cاند به متوهم\\u200cترین و خطرناک\\u200cترین انسان\\u200cها\\u200c تبدیل می\\u200cشوند، زیرا تعصب شدیدی روی دانش اندکشان پیدا می\\u200cکنند... \\nکارل سیگن',),\n",
              " ('سرویس هوش مصنوعی تولید عکس متا اکنون به صورت مستقل، رایگان و خارج از اینستاگرام و فیسبوک در دسترس قرار گرفته است.\\nhttps://t.co/PEQGWC46JN https://t.co/VHTTDurhas',),\n",
              " ('آدم که عاشق میشود فکر خطر نیست\\nدر عاشقی اصلاً ضرر مد نظر نیست\\n#يازهراء',),\n",
              " ('یک هشتگ سفارشی ( سازمانی) را رصد کردم با گذشت ۱۲ ساعت ترند نشده و همچنان\\u200cهشتگ صادق بوقی در صدر است. https://t.co/OnSozPXQ8e',),\n",
              " ('ماجرای دستگیری و زندانی شدن حمید نوری پروژه مجاهدین خلق در سوئد است. حالا نرگس محمدی از زندان اوین حامی پروژه مجاهدین خلق شده.\\nشاهد فعالیت «آنگ سان سوچی» دیگر هستیم. https://t.co/09kHxMpavf',)]"
            ]
          },
          "execution_count": 101,
          "metadata": {},
          "output_type": "execute_result"
        }
      ],
      "source": [
        "recommended_tweets = parsed_rdd.flatMap(lambda x: tweet_parser(sample_tweets,x))\n",
        "recommended_tweets.collect()"
      ]
    },
    {
      "cell_type": "code",
      "execution_count": null,
      "id": "8f1b3c79-07b5-4bce-ab3b-b20e65b6d006",
      "metadata": {
        "id": "8f1b3c79-07b5-4bce-ab3b-b20e65b6d006"
      },
      "outputs": [],
      "source": [
        "idx = next((i for i, v in enumerate(users_for_graph) if v[0] == top_users[2][0]), None)\n",
        "sample_tweets = users_for_graph[idx][1]"
      ]
    },
    {
      "cell_type": "code",
      "execution_count": null,
      "id": "ba2e1462-566e-42be-b291-98b7956839ed",
      "metadata": {
        "id": "ba2e1462-566e-42be-b291-98b7956839ed",
        "outputId": "846fc68b-951e-4f75-92a5-9b4ae6e9275f"
      },
      "outputs": [
        {
          "name": "stderr",
          "output_type": "stream",
          "text": [
            "                                                                                \r"
          ]
        },
        {
          "data": {
            "text/plain": [
              "[('@_Mahdiyar313 @sadrabackup قبل از دستکاری نرخ دلار 1001 عامل فسادزا از جمله بانک ها باید اصلاح شود\\nکه پس از آن نیازی به دستکاری نرخ ارز نیست\\nتقسیم سهمیه بنزین هم نه شدنی است نه منطقی',),\n",
              " ('مدت\\u200cهاست، رانت\\u200cخواران منتظر شب عیدند تا نرخ ارز بالا برود، ولی سیاست تثبیت، مانع شد.\\nگفتند، بعد از سال، حتمأ بالا می\\u200cرود چون دولت کسری بودجه دارد. ولی دولت با مدیریت ارز در لایحه بودجه 1403، این انتظار را هم شکست.\\n\\nتلاش رائفی پور برای افزایش نرخ ارز را از این دید هم تحلیل کنید. https://t.co/1YzFtkZnkx',),\n",
              " ('حالا که قرار است با نفت تنهاتری (که البته بسیار کار پسندیده ای است ) زیرساخت ها را توسعه دهیم به نظرشما بین توسعه شهر فرودگاهی امام خمینی و یا توسعه ظرفیت های باری \\u200c\\u200c- مسافری ریلی کشور کدامیک اولویت دارد ؟\\n@mehrdadbazrpash',),\n",
              " ('هیچکدام از این جنایات فراموش نخواهد شد \\nاین بغض مقدسی است که دیر یا زود با انتقام تسلی خواهد یافت',),\n",
              " ('در مملکتی که شورای نگهبان مصلحت اندیشی می\\u200cکند و مجمع تشخیصِ مصلحت کار فقهی!هیچ چیز درست نخواهد شد .\\n#روحانی',),\n",
              " ('در مملکتی که شورای نگهبان مصلحت اندیشی کند و مجمع تشخیصِ مصلحت کار فقهی!هیچ چیز درست نخواهد شد .\\n#روحانی',),\n",
              " ('@morteza_adna @_Mahdiyar313 @mehrdadbazrpash اینکه ماموریت و کارویژه شهر فرودگاهی رو صرفا به جابجایی مسافر ایرانی محدود کنیم، مصداق بارز تقلیل\\u200cگرایی است\\nشهر فرودگاهی امام می\\u200cتواند با تبدیل شدن به یکی از هاب\\u200cهای اصلی جابجایی بار و مسافر منطقه و افزایش پروازهای عبوری و کانکشن بین\\u200cالمللی درامدزایی زیادی برای کشور داشته باشد',),\n",
              " ('تثبیت گرایی اقتصادی از رویا تا عمل !\\n\\n#توهم_دریای_دوغ https://t.co/xeChk77KSX',),\n",
              " ('ضمن تشکر از استاد برای آشکار ساختن گرایشات فکری و تعلقات سیاسی\\u200cشان، دعوت می\\u200cکنم برای آشنایی با افکار و اقدامات مارگارت تاچر، این گزارش خوب خبرگزاری ایرنا را بخوانید. فراموش نکنید رای مردم است که تاچرها را بر کرسی قدرت می\\u200cنشاند.\\nhttps://t.co/YxgVgBrvlX https://t.co/8Rj0iYkgmL',),\n",
              " ('فتوای کمتر شنیده شده از آیت الله العظمی بروجردی درباره لزوم آزادسازی آذربایجان از  اشغال فرقه پیشه وری:\\nتا آذربایجان در اشغال بیگانه گرایان بی دین است، انتخابات نداریم!\\n#آذربایجان https://t.co/lfr9pXrYBH',),\n",
              " ('رئسای دانشگاه\\u200c هاروارد، ام.آی.تی، پنسیلوانیا و ماساچوست فقط بخاطر اینکه در دانشگاه شون عده\\u200cای دانشجو از فلسطین حمایت کردن دادگاهی شدن\\nرئیس دانشگاه پنسیلوانیا استعفا دادونده شد و بقیه هم تحت فشار برای استعفا هستن\\nدر ایران هم اساتید دانشگاه شریف لیدر براندازی هستن و طلب هم دارن https://t.co/kRE0spcaj0',),\n",
              " ('شنیدم اینجا از تازه واردا حمایت میکنن درسته ؟😀',),\n",
              " ('#اینبار_فرق_میکند\\nلطفا بفرمایید از بنده انتظار دارید در انتخابات پیش رو چه کنشگری داشته باشم \\nصد البته نظر شما برای حقیر مهم و تعیین کننده خواهد بود\\nفی المثل آیا با گروهای دیگر اجماع کنیم یا خیر ؟\\nاگر بله چه اشخاص ، گروه ها و جریاناتی؟\\nخطوط قرمز شما چیست ؟\\nچه مسایلی برایتان اولویت دارد ؟\\nو ….',),\n",
              " ('@alisoltanivash @morteza_adna @mehrdadbazrpash کسی نپرسید کاربری های شهر فرودگاهی چیست ؟ \\nبلکه از مردم پرسیده شد کدام یک اولویت بیشتری دارند\\n#بدیهیات',),\n",
              " ('هر چند نمیدانستم این تصویر را مارگارت تاچر استفاده کرده است کما اینکه بالای تصویر نیز برش خرده بود \\nو البته تفاوتی هم نمی کرد یعنی اگر می دانستم هم استفاده می کردم چون : \\nانظر الی ما قال و لا تنظر الی من قال \\nبه گفته بیاندیش نه گوینده\\nهمچنین شما را به شنیدن سخنرانی سالها پیش خودم در شرح کتاب دکترین شوک نائومی کلاین که در آن علیه مکتب شیکاگو خصوصا شخص تاچر سخن گفته ام دعوت می کنم \\nبا این همه این تصویر گویاترین آینده ای است است که شما برای مردم تجویز می فرمایید هرچند معتقدم اکثریتتان آگاه به عواقب تجویزهای غیر علمی و تخیلی تان نیستید و اقلیتی هوشمندانه و از قضا تکنوکرات در حال کنترل و مدیریت شما هستند که ان شاءالله بوقتش رسوا خواهند شد\\n#توهم_دریای_دوغ\\n#اقتصادزاتدان\\n#تثبیت_گرایان',),\n",
              " ('@moghadam_9631 این با نمک رو ریپورت کنید بفهمه کت تن کیه …',),\n",
              " ('@_Mahdiyar313 تا گفتگو نکنید این جنجال نمی\\u200cخوابه\\nتوییت زدن کافیه',),\n",
              " ('@moghadam_9631 تقریبا هر روز دوستان در اسپیس با موضوع اقتصاد در حال روشنگری هستند \\nآنچه باعث شده تخت گاز نروم صرفا نگرانی از ایجاد دوقطبی شدید بین بچه های انقلابی است که یقینا مضر است \\nاما برای کسی که به دنبال مطلب علمی و حقیقت است بستر فراهم و در دسترس است',),\n",
              " ('بله بنده با افتخار از مخالفان و  رسوا کنندگان فرقه ضاله موسوم به یمانی هستم \\nخدا به داد شما برسد که بخشی از جوانان خوش نیت را از مسیر صحیح مهدویت خارج کرده و به ضلالت تبعیت از  #دجال_بصری و عامل سرویس MI6 و mossad ،احمد الحسن کشاندید',),\n",
              " ('بنظر شما یک\\u200c موسسه مالی اعتباری با زیان انباشته امکان فعالیت اقتصادی در خارج از کشور بطور مثال #بلاروس را دارد؟ \\n\\n#ملل',),\n",
              " ('مهره اقتصادی این فعالیت در بلاروس محل توجه است.',),\n",
              " ('عایشه سگ قهرمان ارتش اسرائیل که با یافتن مواد منفجره، جان سربازان را نجات می\\u200cدهد❤️ https://t.co/dBzB1FYsYK',),\n",
              " ('امریکا : #ناو_آیزنهاور در حال ورود به دریای سرخ است \\nیمن : به بمبم \\n\\n#هدایتگرترین_پرچم https://t.co/AnPQecrs5J',),\n",
              " ('«جریان تثبیت» در مواجهه با مسئله #ناترازی_انرژی هیچ چاره\\u200cای جز انکار واقعیت ناترازی و حذف صورت مسئله ندارد.\\nنبرد با مکتب گران\\u200cکن با نفی «هر گونه» سیاست قیمتی نتیجه\\u200cاش غیرموثر ماندن سیاست\\u200cهای غیرقیمتی است؛\\nو حکمران ضعیف را به جای «برنامه جامع» فعلا به مرگ تدریجی قانع می\\u200cکند. https://t.co/yGNKiOH31q',),\n",
              " ('لعنت بر پدر و مادر هرکسی که بدنبال گران کردن نرخ ارز باشد \\nشما دیگر وقاحت را از حد گذرانده اید \\nتا الان مراعات این را می کردم که نباید بچه های انقلابی به جان هم بیفتند \\nاگر نکته ای را هم تذکر میدادم برای این بود که می دیدم مبتنی بر دانش اقتصادی من آشکارا به حق مردم و بیت الملل خیانت صورت می گیرد هرچند معتقدم این تحلیل های اقتصادی تان ناشی از ندانستن است تا اینکه تعمدی باشد \\nپنبه نظرات اقتصادی شما را علمی خواهم زد\\nاما اگر بخواهید مطالبی مانند آنچه در بالا و یا پیشتر گفته اید را ادامه بدهید پاسخ محکم دریافت خواهید کرد.',),\n",
              " ('زمانی نه چندان دور از بزرگترها می\\u200cشنیدم\\nسلام بر سه سید فاطمی\\nخمینی، خامنه\\u200cای، خاتمی\\nاون وقتا یکی از افتخاراتم این بود که با سیدمحمد خاتمی هم اسمم\\nاصلاً علاقه به ایشون یکی از مهمترین دلایل تنفرم از احمدی\\u200cنژاد بود\\nزمان خیلی چیزا رو مشخص میکنه\\nبرای شناخت آدما بهشون زمان بدید https://t.co/klPNCOhJLt',),\n",
              " ('با سیاست\\u200cهای غیرقیمتی میتونیم توی کوتاه\\u200cمدت ناترازی انرژی رو حل کنیم.\\nسیاست\\u200cهای غیرقیمتی\\u200cشون: https://t.co/wc4YfZ0Epi',),\n",
              " ('فردی در اتوبان رادیو  را روشن کرد \\nمجری خطاب به رانندگان آن اتوبان هشدار می داد: دیوانه ای درحال رانندگی در خلاف جهت دیگر خودرو هاست مراقب باشید!\\nسریع با روابط عمومی صدا و سیما تماس گرفت و گفت: چرا اینقدر به مردم دروغ می گویید ؟\\nچرا مشکلات را تقلیل می\\u200cدهید من الان بصورت زنده به شما گزارش می دهم ، اینجا همه ماشین ها در خلاف جهت در حال رانندگی هستند!\\n#زمین_تختگرایان_اقتصاد',),\n",
              " ('@_Mahdiyar313 @RezaGholami1354 یک بار به طور واضح با آقای جبرائیلی بصورت علنی و کاملا شفاف گفتگو کنید تا به تمام شبهات پاسخ داده بشه\\nتا زمانی شبهه هست این حرف و حدیث ها هم وجود داره',),\n",
              " ('فوری | یک هیئت اطلاعاتی اسرائیلی متشکل از \"شاباک\" و \"#موساد\" برای ارزیابی اقدامات #ضد_صهیونیستی اخیر در #آسیای_مرکزی و ارائه طرح هایی برای جلوگیری از حملات احتمالی در آینده، از ازبکستان، قزاقستان و تاجیکستان بازدید کردند. \\n\\nجزئیات در تلگرام:\\nhttps://t.co/LoyNZXj8Sf https://t.co/Kyc0unAU6v',),\n",
              " ('چند کلام با #وزیر_کار در #ثریا\\nاز حقوق پنجاه میلیونی وزیر تا حقوق ۸ میلیونی کارگر معدن؛ \\nاز قانون حق ماموریت خارج از کشور «روزانه» ۷۰ تا ۱۳۰ یورویی مدیران تا حق سختی کار «ماهانه» ۷۰۰ هزار تومانی در عمق معدن \\nاینها نمونه\\u200cای از بی\\u200cعدالتی های حقوق و\\u200cدستمزد ماست که باید اصلاح شود../۱ https://t.co/nJ85GLeK4Q',),\n",
              " ('آقای دکتر #زارچی نظری ندارید؟',),\n",
              " ('اثر فاخر جمال قادو کاری از هنرمند ارزشمند ضیا اتابای مورد توجه ویژه هندی ها قرار گرفته است \\nبا توجه به ذائقه جالب هندی ها و جمعیت میلیاردی این کشور استاد حسن شمالی زاده بزودی محبوب ترین خواننده جهان خواهد بود!\\n#JamalKudu',),\n",
              " ('اثر فاخر جمال قادو کاری از هنرمند ارزشمند ضیا اتابای مورد توجه ویژه هندی ها قرار گرفته است \\nبا توجه به ذائقه جالب هندی ها و جمعیت میلیاردی این کشور استاد حسن شماعی زاده بزودی محبوب ترین خواننده جهان خواهد بود!\\n#JamalKudu',),\n",
              " ('اثر فاخر جمال قادو کاری از هنرمند ارزشمند ضیا اتابای مورد توجه ویژه هندی ها قرار گرفته است \\nبا توجه به ذائقه جالب هندی ها و جمعیت میلیاردی این کشور استاد حسن شمالی زاده بزودی محبوب ترین خواننده جهان خواهد بود!\\n#JamalKudu',),\n",
              " ('اثر فاخر جمال قادو کاری از هنرمند ارزشمند ضیا اتابای مورد توجه ویژه هندی ها قرار گرفته است \\nبا توجه به ذائقه جالب هندی ها و جمعیت میلیاردی این کشور استاد حسن شماعی زاده بزودی محبوب ترین خواننده جهان خواهد بود!\\n#JamalKudu',),\n",
              " ('اثر فاخر جمال قادو کاری از هنرمند ارزشمند ! ضیا اتابای مورد توجه ویژه هندی ها قرار گرفته است \\nبا توجه به ذائقه جالب هندی ها و جمعیت میلیاردی این کشور اگر با آثار فاخر  استاد حسن شماعی زاده آشنا شوند بزودی او محبوب ترین خواننده جهان خواهد بود!\\n#JamalKudu https://t.co/KizTpNvruv',),\n",
              " ('یکی از بهترین اقدامات سال\\u200cهای اخیر دولت که موجب تقویت بنیه اجتماعی نظام شد، افزایش ۵۷ درصدی حقوق کارگران در زمان وزارت آقای عبدالملکی بود.\\nبرخلاف ادعای آقای مرتضوی وزیر کار فعلی و با توجه به شرایط وخیم سال\\u200cهای اخیر و بدون درنظر گرفتن موارد خاص، اثر دستمزد بروی تورم ۳ تا ۵ درصد بود که با توجه به آورده آن، ارزش داشت.\\nاقدامی که بر خلاف باور امثال وزیر فعلی موجب تعدیل نیرو نیز نشده و بلکه برعکس تعداد شاغلان از جمعیت فعال را بیشتر و از این طریق نرخ بیکاری را نیز کاهش داد.\\nآقای صولت مرتضوی با توجه به روندهای نامطلوب این چند سال، سهم دستمزد از هزینه تمام شده(چه تولید و چه خدمت) کاهش محسوسی داشته و اساسا چیزی به اسم مارپیچ تورم-دستمزد نباید آنچنان که حول آن پروپاگاندا بوجود آورده اید مطرح باشد.\\nضمنا با توجه به نرخ\\u200cهای تورم و بی\\u200cعملی دولت در مهار تورم، اسم بردن از مارپیچ فوق برای افزایش ندادن حقوق کارگران بی\\u200cانصافی محض است\\nالبته این را هم در نظر بگیرید که طبق ماده ۴۱ قانون کار، شورای عالی کار باید میزان حقوق را بر مبنای  دو مورد \\n۱.تورم اعلامی بانک مرکزی و ۲. حفظ معاش خانواده\\u200cای که تعداد متوسط آن را مراجع رسمی می\\u200cگویند، افزایش دهد. \\nپس آقای مرتضوی لطفا ساکت باشید و به قانون عمل کنید.',),\n",
              " ('در انتخابات سال۷۶ و زمانی که طیف چپ (سنتی) با دبیر کلی مهدی کروبی در #مجمع_روحانیون فعالیت سیاسی داشت، به پیشنهاد اعضا سید محمد خاتمی بعنوان نامزد این طیف در انتخابات شرکت کرد و رقیب ناطق نوری ( راست سنتی و #جامعه_روحانیت_مبارز  ) شد تا مجمع روحانیون بتواند با ۳ یا ۴ ملیون رای کاندیدای خود حیات سیاسی اش را ادامه دهدو به هیچ عنوان در فکر پیروزی در آن انتخابات نبودند.\\nاما با توجه به شرایط حاکم در جامعه بعد از ۸ سال ریاست جمهوری اکبر هاشمی( عضو دیگر جامعه روحانیت) \\nمحمد خاتمی با اقبال مردمی روبرو گردید و مجمع روحانیون به دبیر کلی مهدی کروبی بر جامعه روحانیت به پیروزی رسید.\\nدر طول ۸ ساله قرار گرفتن خاتمی بر کرسی ریاست جمهوری طیفی متولد گردید به نام اصلاح طلبان که در حقیقت باید گفت مهدی کروبی بیشترین نقش را در این مسیر داشت .\\nاما داستان از جایی جالب می شود که در سال ۸۴ مهدی کروبی نامزد انتخابات ریاست جمهوری شد و قاعدتا اینبار نوبت همه از جمله خاتمی و دیگر افراد اصلاح طلب بود که حمایت خود را از کروبی بعنوان لیدر اصلی این جریان اعلام نموده و پا به مبارزه انتخاباتی بگذارند.\\nاما در کمال تعجب این طیف با ۴ نامزد( کروبی، معین، مهرعلیزاده و هاشمی که حالا تغییر رویه داده) وارد عرصه انتخابات شدند و نکته مهم اینجاست که خاتمی و افراد اثرگذار و اصلی جریان اصلاح طلب با پشت کردن به کروبی از  معین حمایت کردند!\\nپس از شکست جریان اصلاحات در انتخابات ۸۴ کروبی معتقد بود اگر خاتمی و دیگر اصلاح طلبان از همان ابتدا از وی حمایت می کردند با توجه به میزان رای که خودش آورده بود می توانست در همان دور اول پیروز انتخابات باشد .\\nاما ماجرا به همین جا ختم نشد \\nدر سال ۸۸ نیز دوباره مهدی کروبی نامزد ریاست جمهوری گردید \\nو خاتمی که خود نیز ابتدا اعلام حضور نموده بود با آمدن میرحسین موسوی انصراف داد و با پشت کردن مجدد به کروبی اینبار از میرحسین اعلام حمایت کرد و دوباره او را تنها گذاشت!\\nانتخابات ۸۸ برگزار و دوباره جریان اصلاحات شکست خورد اما اینبار با ادعای تقلب در انتخابات چندین ماه جامعه و کشور را ملتهب نموده و شیرینی مشارکت ۸۵ درصدی را از کام مردم گرفتند.\\nبله کروبی که به تنهایی و با بی مهری خاتمی پا به عرصه گذاشته بود هزینه داد و به همراه موسوی ( بعلت ادعای تقلب و ایجاد التهاب در جامعه) وارد حصر خانگی شد.\\nکروبی حالا  برای جریانی (اصلاح طلبان) هزینه می\\u200cداد که خودشان با پیروزی روحانی  در انتخابات۹۲ بر مناصب سطوح عالی دولتی و هیئت مدیره های نان و آب دار با حمایت خاتمی قرار گرفتند و بارشان را بستند!\\nخاتمی در طی این سالها با وجود اینکه موقعیت کنونی اش کاملا مدیون مهدی کروبی است اما همواره نسبت به وی بی مهری داشته و در مقاطع مختلف پشت وی را خالی کرده و همواره این کروبی بوده که بر همان گفتمان خود ایستاده و هزینه داده است.\\nاما خاتمی و اصلاح طلبان که محصول آن گفتمان بودند نه تنها هزینه ندادند بلکه در برهه های مختلف بهره های سیاسی، اقتصادی و ... خود را نیز بردند.\\nو حالا باید ببینیم در دوره فعلی هنوز قرار است کروبی هزینه بدهد و خاتمی بهره ببرد؟؟؟؟\\n#انتخابات',),\n",
              " ('آزادی زندانی بی\\u200cملاقاتی پس از ۲۰ سال!\\nبنده ابتدا به صورت خصوصی به مسئولین تذکر می دهم وقتی پاسخی نمیگیرم آنجا که ببینم حقوق مردم ضایع می شود مسئله را عمومی می\\u200cکنم.\\nیکی از زندانیان زندان تهران بزرگ که به\\u200cدلیل بدهی مالی از سال ۱۳۸۳ در زندان به\\u200cصورت بلاتکلیف به\\u200cسر می\\u200cبرد و به\\u200cدلیل فوت همه اقوامش ، طی ۱۰ سال گذشته هیچ ملاقاتی در زندان نداشته است، با دستور رئیس کل دادگستری استان تهران در جریان ملاقات مجازی تعیین تکلیف و آزاد شد.\\nجناب آقای دکتر محمدی (ریس محترم سازمان زندان\\u200cها)، او مشت نمونه خروار بود!\\nبیست سال در حبس ماندن یک هم\\u200cوطن به خاطر بدهی مالی، قلب هر انسانی را ولو کافر به درد می آورد.  \\n  \\nحضرتعالی دو سال و نیم است که موظف به ایجاد «سامانه اقدامات حمایتی» هستید!  \\n  \\nبهای کم کاری شما را مردم با نابودی لحظه به لحظه زندگی\\u200cهایشان می\\u200cپردازند.  \\n  \\nمستحضرید با هدف ایجاد شفافیت و جلب مشارکت حداکثری مردمی، پیش\\xad\\u200cگیری از انجام اقدامات حمایتی موازی و هدف\\xadمندتر نمودن حمایت\\u200cها، ماده ۱۶۶ آیین\\u200cنامه اجرایی سازمان زندان\\u200cها (مصوب اردیبهشت ۱۴۰۰) آن سازمان را مکلف به راه\\u200cاندازی سامانه مذکور نموده است.  \\n \\nدر این سامانه (بدون ذکر نام و مشخصات هویتی) امکان جستجو بر اساس میزان مبلغ مورد نیاز برای آزادی زندانی، مدت زمان سپری شده و باقیمانده از حبس، نوع محکومیت، سن، جنسیت، وضعیت تأهل، تعداد فرزند، وضعیت بارداری، سوءپیشینه، محل تولد، مدرک تحصیلی، عنوان شغلی و...وجود دارد تا تمامی هم\\u200cوطنان با اطمینان خاطر و مبتنی بر سلایق خود اقدام به کمک به «نیازمندان واقعی جامعه» نمایند.\\n#معروف\\n#مردم_علیه_رانت_وفساد',),\n",
              " ('به عنوان کسی که در نمازخانه مجمع تشخیص پشت سر #پرویز_داودی نماز خوانده است و در تعهد او شکی ندارد عرض می کنم :\\nدر دو سه سال گذشته حداقل تا کنون در دو جلسه به صورت مستقیم به همراه تیم اقتصادی موسسه ، استدلال های عجیب و غریب اقتصاد دانان که چه عرض کنم اقتصاد خوانان مجمع تشخیص مصلحت که عمیقا متاثر از اندیشه آقایان پرویز داودی ،حسین صمصامی و محمد جواد ایروانی بودند را شنیده ام و هیچ حرف جدیدی برای من ندارند\\nدر همان دو جلسه نتوانستند به سوالات و اشکالات بدیهی بنده پاسخ دهند\\nاین هایی که در توییتر افاضه می کنند را رها کنید اینها انگشتان هستند مغز اما اشخاص دیگری هستند که باید آنها را پاسخگو کرد.\\nنمی دانم در کدام سیاره زندگی می کنند که تصورشان این است قیمت واقعی دلار ۱۲هزار تومان است 🤦🏻\\u200d♂️(قیمت فعلی بازار ۵۰ هزار تومان است)\\nیعنی فی المثل فقط کافی است شما یک بسته صد دلاری وارد ایران کنید تا ۳۸۰ میلیون تومان گیرتان بیاید ، کدام تجارت و حتی قاچاق چنین سودی دارد؟\\nو یا لابد جمهوری اسلامی سالهاست  از طریق عرضه دلار در کشور از طریق واسطه ها و صرافی هایش و بهره بردن از این فاصله زیاد بین ارزش اسمی و حقیقی دلار مشغول دزدی از جیب مردم است!\\nبعید می دانم تا کنون براندازها چنین تهمتی را به نظام زده باشند\\nغرق در انتزاعیات و\\u200c فرمول های خود ساخته خودشان هستند و بدیهیات اقتصاد که هیچ حتی ساده ترین تجربیات بازار را که هر کاسب و تاجری از آن مطلع است را نمی دانند و یا انکار می کنند در مواردی حس مباحثه با زمین تخت گرایان به شما دست می دهد!\\nاین سطور را برای اعلام موضع رسمی خودم و ثبت در تاریخ نگاشتم\\nوالسلام علی من اتبع الهدی \\n#تثبیت_گرایان',),\n",
              " ('@_Mahdiyar313 کسی که بسته 100 دلاری رو میاره داخل کشور کجا قراره بفروشه ؟\\n\\nبازار آزاد\\n\\nما میگیم بازار آزاد هم باید جمع شود، مثل مواد مخدر هرگونه خرید و فروش دلار به صورت آزاد باید متوقف شود\\n\\nشما میگید دلار رو ول کنید تو بازار در حالی که ایران تحریم دلاری هست و دلار کمه 😐😐😐😐😐',),\n",
              " ('یک بار  برای همیشه باید تکلیفمان را با بی تفاوتی و در مواردی شیطنت دولت پاکستان در برقراری امنیت مرزها مشخص کنیم\\nباید تکلیفمان را با #سربازی_اجباری مشخص کنیم\\nباید با کمبود تجهیزات و نبود آموزش نیروهای مرزبانی مشخص کنیم \\nباید با عقبه ایدئولوژیک تروریست ها در مرزهای داخلی ! مشخص کنیم.\\nباید تکلیفمان را با مسئولین بی عرضه ای که در تهران نشسته و برای مرزها نسخه غلط می پیچند مشخص کنیم \\n#راسک\\n#ایران_تسلیت',),\n",
              " ('@sadrabackup زیاده عرضی نیست ! https://t.co/sHw2w0Jf94',),\n",
              " ('آقای رئیس مستعفی سازمان سنجش و آموزش کشور  دوستت داریم!',),\n",
              " ('امروز پیش داداشیای پرورشگاهیم یییککک کلاسی گذاشتم برا خودم 😂\\nمیدونید چیه بچه ها، حاجی رائفی پور اول منو فالو کرد بعد یکی دو ساعت بعدش من بک دادم، داداش امیرمم میگفت آره آره من شاهدم 😂😂\\nدنی سلبریتی شده دیگه \\nعیول داری حاجی \\nفقط نیایی منشن بذاری دنی دروغ میگه، بک دادم بهش 😂😂 https://t.co/Ww9jGyPKio',),\n",
              " ('@M_Afsari2 @RezaGholami1354 در باب گفتگو هم قرار بود دیروز ایشان تشریف بیاورند دفتر ما که ظاهرا کاری برایشان پیش آمد و از جانب ایشان موکول شد به بعد از ایام شهادت',),\n",
              " ('@Minaei_izad @sadrabackup چاره ای نداریم \\nو الا باید همین سال پیش رو ۳ میلیارد دلار بنزین وارد کنیم \\nیعنی چیزی حدود ۱۵۰ هزار میلیارد تومان که باز هم بار تورمی آنرا مردم پیاده خواهند کشید \\nو البته سواره ها بهره اش را خواهند برد!',),\n",
              " ('در مملکتی که  چون شمایی را به #مصاف چون اویی بفرستند، هر جای دیگرش هم می\\u200cتواند هر چه خواست درست کند.',),\n",
              " ('چرا برخی در اوج اختلاف\\u200cنظرهای سیاسی در اقتصاد حرف\\u200cهای مشترک دارند؟\\nاین یک حقیقت تلخ است که نئولیبرالسم چپ و راست نمی\\u200cشناسد، اصلاح\\u200cطلب و اصولگرا نمی\\u200cشناسد، ریش\\u200cدار و شش تیغ نمی\\u200cشناسد. برای هر رنگی در این قطار نابرابری\\u200cساز و معیشت\\u200cسوز، جا هست... https://t.co/IWYTRdHuyW',),\n",
              " ('فقهای شورای نگهبان به اتفاق آرا به صلاحیت علمی حسن روحانی رأی دادند و آیت الله مومن هم پاسخ\\u200cهای فقهی او را پذیرفت\\nبنابراین دیگه نمیشه به حسن روحانی ایراد قانونی (عدم صلاحیت فقهی) گرفت و او از استان سمنان کاندید مجلس خبرگان خواهد شد https://t.co/aEpNJELMes',),\n",
              " ('۱۵۰ هزار میلیارد تومان بهای خرید تضمینی گندم هزینه خودکفایی است و باید پرداخت شود و چه قشری بهتر از کشاورز برای دریافت آن.\\nاما سه میلیارد دلار بنزینی که باید بابت ناطرازی انرژی وارد شود تا ثروتمند تر ها آنرا نهایتا با لیتری سه هزار تومان دود کنند که از قضا هزینه آن نیز ۱۵۰ هزار میلیارد است از کجا تامین می شود؟\\n#پوپولیسم_اقتصادی',),\n",
              " ('۱- منابع شیعه و سنی معتقد و معترفند هرکس بدون امام و بیعت او بمیرد به مرگ جاهلیت مرده است فلذا جهنمی است \\n۲- طبق صحیح ترین منابع اهل سنت حضرت زهرا سلام الله علیها سیده زنان بهشتی است \\n۳- دوباره طبق منابع معتبر سنی حضرت زهرا س بدون بیعت با خلیفه اول از دنیا رفت در خالی که از او خشمگین و ناراضی بود!\\nسوال مهم : یا حضرت زهرا س العیاذبالله جهنمی است که نیست  یا خلیفه رسول الله ابوبکر نبوده است\\n#يا_زهراء',),\n",
              " ('من امامِ فاطمه س را امام می دانم ! \\n\\n۱-منابع شیعه و سنی معتقد و معترفند هرکس بدون امام و بیعت او بمیرد به مرگ جاهلیت مرده است فلذا جهنمی است \\n۲- طبق صحیح ترین منابع اهل سنت حضرت زهرا سلام الله علیها سیده زنان بهشت است \\n۳- دوباره طبق منابع معتبر سنی حضرت زهرا س بدون بیعت با خلیفه اول از دنیا رفت در حالی که از او خشمگین و ناراضی بود!\\nسوال مهم : یا حضرت زهرا س العیاذبالله جهنمی است که نیست  یا خلیفه رسول الله ابوبکر نبوده و حضرت فاطمه س در بیعت با امام و خلیفه ای دیگر (امام علی ع) از دنیا رفته است.\\n#يا_زهراء',),\n",
              " ('@Danial_100 هماهنگ کن یه روز میام اونجا',),\n",
              " ('هیچ ارتباطی به بنده ندارد \\nاز قضا از آنجا که موسسه با کمک های مردمی اداره می شود \\nدر طی این سالها کاهش قدرت خرید مردم و سقوط ریال برای موسسه نیز مانند عموم جامعه چیزی جز ضرر نداشته است\\n این بار چندمتان است شما پیشتر هم با دروغ توهین تتلو به مقدسات قبل از خروج از کشور بنده را قضاوت فرموده و حکم صادر کرده بودید\\nالبینه علی المدعی \\nاساسا هر مزخرفی را دیدید منتشر نکنید \\nباردیگر تکرار شود حقوقی برخورد خواهم کرد و این مسیله عطف بما سبق نیز می شود',),\n",
              " ('امتحانشون اوپن بوک برگزار میشه ؟!',),\n",
              " ('@_Mahdiyar313 تاسال ۱۳۷۰ مثل فردا درتقویم ایران روز وفات حضرت فاطمه ( ع) دلیل اینکه بعداز سال ۷۰ به روز شهادت تبدیل شد را چه عاملی میدانید',),\n",
              " ('هیچ چیز مانند مظلومیت، رسواکننده ظلم و ظالم نیست.\\nمنتها یک شرط دارد:\\nآن مظلوم باید مقتدر باشد نه ذلیل …\\nفاطمه سلام الله علیها بنیانگذار این مکتب است \\nبرادران و\\u200cخواهرانمان در غزه خواه بدانند یا ندانند پیرو این مکتب هستند.\\n\\n#مقتدر_مظلوم \\n#غزه_تقاوم',),\n",
              " ('رفقا فردا دوشنبه ساعت ۱۹:۰۰ اسپیس یادتون نره\\nاگر سوال و مطلبی دارین که می\\u200cخواید از کارشناسان اسپیس پرسیده بشه برامون اینجا منشن کنید یا دایرکت برام بفرستین https://t.co/RYvzYqsMff',),\n",
              " ('از فرصت پیش آمده و توجه و تمرکز تایم لاین بر مشکلات اقتصادی کشورمان و دغدغه یافتن راه حل ، باید بیشترین استفاده را کرد \\nباید سواد عمومی اقتصادی مردم را افزایش داد \\nمسئولان و تصمیم گیران اقتصادی را باید پاسخگو نمود \\nبر تاریکخانه ها نور افکند \\nمردم باید بفهمند و بشناسند کسانی را که مسبب وضع موجود هستند',),\n",
              " ('رشتو۱\\nچند ساعت پیش پسر نتانیاهو پرچم کردستان جعلی رو پست کرده و سخنگوی توجیهی اسرائیل اومده توجیه کنه، گفته یا پیج جعلیه و یا سایبری های جمهوری اسلامی هک کردن\\nدرواقع اصل موضوع که این حرکت در راستای حمایت از #تجزیه_ایران هست رو رد نکرده https://t.co/Hear88oGtl',),\n",
              " ('@Danial_100 شماره بدید تماس میگیرم',),\n",
              " ('اولا : تقویم جمهوری اسلامی که مبنای تشخیص امر تاریخی نیست \\nدوما: در متون روایی و تاریخی به این مهم اشاره شده است مانند اصول کافی و من لایحضره الفقیه به سند صحیح :\\nقَالَ: إِنَّ فَاطِمَةَ ع صِدِّیقَةٌ شَهِیدَةٌ وَ إِنَّ بَنَاتِ الْأَنْبِیَاءِ لَا یَطْمَثْن.[1]امام کاظم علیه السلام می فرمایند : فاطمه (علیهاالسلام) صدیقه ای است که شهید شده  است.\\nسوما : وفات در زبان عربی شمال مرگ و شهادت است و متعدد در اسناد تاریخی و روایی درباره افراد مختلف که شهادتشان قطعی است استفاده شده \\nرابعا: ملاحظه افرادی که تحلیل شان مانند شماست باعث شد از دهه هفتاد به بعد از لفظ شهادت استفاده شود.',),\n",
              " ('با توجه به ناترازی جدی در گاز، #برنامه_هفتم صرفا باید حول یک محور تعریف میشد: #گاز!\\nبدون گاز، برق نیست؛ بدون برق، تولید/رفاه نیست.\\nبدون گاز، پتروشیمی و فولاد نیست؛ بدون پتروشیمی و فولاد، ارز نیست.\\nبدون ارز، ذرت، جو، گندم و کنجاله سویا نیست و بدون اینها مرغ و گوشت!\\n#امنیت_فردا',),\n",
              " ('الکساندر دوگین که برخی او را مغز منفصل پوتین می دانند :\\nیمن چهره و حیثیت تمام تمدن اسلامی را حفظ کرده است\\nشیعه خالص همیشه آماده قربانی شدن و تحمل سختی های بیشتر برای دفاع از حق است و این قانون تشیع است !',),\n",
              " ('یک سوالی که دلاری سازان نمیتونن جواب بدن اینه که تا کی گرون کنیم ؟ ما بنزین رو کردیم 30 هزار تومن دلار شد 100 بازم باید گرون کنیم ؟\\n\\nحد یقف کجاست ؟\\nتنها چیزی که میتونن بگن اینه که ما کلا بنزین رو با قیمت دلاری به مردم بدیم\\n\\nآیا این دقیقا دلاری کردن کشور نیست ؟',),\n",
              " ('قیمت های غیر واقعی و دستوری گاز ،مصرف بی رویه ، راندمان ۳۳ درصدی نیروگاه\\u200cهای حرارتی- برقی (بعلت عدم سرمایه گذاری جدید در این حوزه )همچنین بی ارزش و مفت بودن منابع گازی برای دولت ها ، اتلاف سالانه ۲۵ میلیارد متر مکعب از گاز تولیدی در مرحله تولید، انتقال و توزیع و هدرروی ۱۳ درصد از برق تولیدی کشور عملا به معنی تلف شدن بخش عظیمی از گاز ایران است.\\nآنچه گفته شد باعث شده کشورمان به عنوان دومین دارنده منابع عظیم گاز در تامین این نعمت بزرگ الهی دچار مشکل جدی بشود \\nو از آنجا که مصارف عمومی گاز در اولویت مسئولان است لذا چاره ای جز خاموشی صنعت نمی ماند\\nاگر دشمن مسئول برنامه ریزی در کشور ما بود همین کار را می کرد!\\nتمام سرمایه کشور را در ارز پاشی های غیر ضروری به باد دادند \\nحالا بنشینید در سرما #چای_دبش بنوشید!',),\n",
              " ('بارها راه حل بیان شده است \\nبنزین را نباید گران کرد \\nاین موجب نابودی قشر مستضعف است \\nباید آنرا در اختیار مردم قرار داد تا هر طور \\u200cخودشان می خواهند مصرف کنند \\nالبته نه به صاحبان خودرو بلکه به آحاد مردم \\nآنهایی که مصرف بیشتر دارند از کسانی که مصرفی ندارند یا صرفه جویی می\\u200cکنند بنزین بخرند',),\n",
              " ('@_Mahdiyar313 گازم گرون کنید راحت باشید\\n#مردم_بیچاره',),\n",
              " ('@_Mahdiyar313 چرا همین به فکر آمریکا نرسید ؟ یه بازار دیگه ای برای بنزین تشکیل بده با عرضه و تقاضا بنزین بخرن\\n\\nاصلا این چرا فقط برای بنزین باشه ؟ برق، گاز، فولاد، مس، سهم همه مردم را بریزن حسابشون خرید و فروش کنند مثلا من 10 کلیو ماهانه سهم مس دارم\\n\\nآیا این عقلانیه ؟',),\n",
              " ('@YaAliiiiii110 راه حل ، گران کردن قیمت ها نیست \\nدر مصاحبه با برنامه سیمرغ راه حل پیشنهادی خودم را برای برون رفت از این معضل ارائه داده ام',),\n",
              " ('خوب این دقیقا یکی از بخش هایی است که شما از اقتصاد نمی فهمید \\nدر امریکا بانکداری سر \\u200cو صاحب دارد نه مانند کشور ما که بانک\\u200cها جولان می دهند و با خلق نقدینگی ، پول ملی را نا بود کرده اند لذا قیمت اقلام مورد نیاز مردم از جمله بنزین و گازوئیل نسبتا معقول است \\nنه به قیمت یک پنجم یک آب معدنی ۳۰۰ سی سی !',),\n",
              " ('حضرت آقا بعد از مراسم امشب به حاج مهدی فرمودند این مرثیه\\u200cی شما (اشاره به مداحی #بی_مردم)\\u200c کار یک منبر نه بلکه کار چند منبر رو با هم کرد. https://t.co/UiYNhQneDt',),\n",
              " ('@hesamodin1 دکتر جان اطلاع ندارم \\nباز مصاف چیکارتون کرده؟',),\n",
              " ('حتما تا انتها بخوانید!\\nروزی به شما ثابت خواهد شد که از قضا عوامل اصلی پشت پرده جریان تثبیت در اقتصاد ، مرتبط با جریان لیبرال در کشور هستند!\\nکه از حسن نیت و نقص اطلاعات اقتصادی برخی دلسوزان انقلابی سو استفاده کرده و آنها را جلو می اندازند.\\nردپای اینها را در حلقه اطرافیان روحانی و پیشتر هاشمی رفسنجانی و خدمت در ستادهای انتخاباتی شان خواهید یافت!\\nگذر زمان این را به شما ثابت خواهد کرد!\\nپیشتر درباره جریان مدیریت شدن سوپر حزب اللهی ها در یالثارات توسط یاران هاشمی سخن گفته ام.\\nبخشی از بودجه روزنامه سوپر حزب اللهی یالثارات را مسعود سلطان پور مدیر ارشد نفتی تحت نظر هاشمی پرداخت می کرد!\\nفراموش نکنید بخش عمده طلا و ارز کشور در دوران روحانی و تحت عنوان ارز ۴۲۰۰ به فنا رفت \\nفرصت طلایی تولید رمز ارز ها ناشی از انرژی رایگان کشور در کنار آنچه در بورس رخ داد \\nآنقدر رانت ایجاد کرد که بنا بر گزارش فوربس تعداد میلیونرهای (به دلار) ایرانی به ۲۵۰ هزار نفر رسید و حتی از عربستان سعودی با ۲۱۰ هزار نفر پیشی گرفت!\\nثروتمندانی بی وطن و بی هویت که عمده سرمایه خود را از کشور خارج کردند!\\nدقیقا در سال\\u200cهایی که مردم عادی در بدترین شرایط به سر می بردند!\\nما در کشور فساد سیستماتیک نداریم اما نابرابری سیستماتیک تا دلتان بخواهد داریم! \\nریل گذاری اقتصادی کشور ما برای پولدارتر کردن ثروتمندان طراحی شده است\\nهرچه پولدار تر باشید بهره بیشتری از یارانه های پیدا و پنهان و بیت المال خواهید داشت\\nدر امپریالیستی و کاپیتالیستی ترین کشورهای جهان نیز چنین پدیده ای نمی بینید \\nعجیب اینجاست که فاجعه خدمت به سرمایه داران از بیت المال و جیب فقرا با اجرای سیاست های کمونیستی و شعار های پوپولیستی و انقلابی  رخ می دهد!\\n#تثبیت_گرایان\\n#فساد_فی_الارز',),\n",
              " ('این جانور ترامپیست با همکاری برانداز ها نظر سنجی گذاشته است که آیا خواهان سقوط جمهوری اسلامی و بازگشت پادشاهی هستید؟',),\n",
              " ('یکی از اصلی ترین دلایل فتوای جهاد علیه شیعیان در سوریه و عراق توسط برخی مفتی های سنی ، توهین نادر برخی شیعیان به مقدسات اهل سنت بود \\nحال آنکه غالب مراجع شیعی این عمل را حرام اعلام فرموده اند \\nرژیم حرامزاده صهیونیستی حالا به عمد نام سگ مواد یاب خود را به نام #ام_المومنین_عایشه گذاشته و با اکانت رسمی خود آنرا بازنشر می دهد!\\nباید دید بخاری از مفتی های بی غیرت بلند می شود یا نه ؟\\nباید دید فتوای جهاد علیه اسرائیل هم می دهند یا تمامی کنشگری شان فقط در راستای حمایت از اسرائیل است؟\\nباید دید فی المثل عبدالحمید باز هم درباره لزوم مذاکره با اسرائیل بجای مقاومت ؛ و پذیرش این رژیم جعلی سخن می گوید یا نه!',),\n",
              " ('@_Mahdiyar313 جناب عبدالحمید شیعیان که از این کار اسرائیلی ها تبری جستند، شما هم اگر صلاح میدونید! از این ها تبری بجویید و بر دهان اسرائیل بکوبید، برای این کار\\n@AbdolhamidNet',)]"
            ]
          },
          "execution_count": 104,
          "metadata": {},
          "output_type": "execute_result"
        }
      ],
      "source": [
        "recommended_tweets = parsed_rdd.flatMap(lambda x: tweet_parser(sample_tweets,x))\n",
        "recommended_tweets.collect()"
      ]
    },
    {
      "cell_type": "markdown",
      "id": "98cc9475-dbf7-4186-be5b-adc2debba058",
      "metadata": {
        "jp-MarkdownHeadingCollapsed": true,
        "tags": [],
        "id": "98cc9475-dbf7-4186-be5b-adc2debba058"
      },
      "source": [
        "***\n",
        "# $\\text{User #5}$"
      ]
    },
    {
      "cell_type": "code",
      "execution_count": null,
      "id": "c383cd1b-4812-437e-9cee-504295f9f7fd",
      "metadata": {
        "id": "c383cd1b-4812-437e-9cee-504295f9f7fd",
        "outputId": "e520e1c9-9579-4b4a-9cf7-babfbbb8d6d5"
      },
      "outputs": [
        {
          "name": "stderr",
          "output_type": "stream",
          "text": [
            "                                                                                \r"
          ]
        },
        {
          "data": {
            "text/plain": [
              "('1237422726555541504',\n",
              " ['1736073756659876275',\n",
              "  '1734630666627658206',\n",
              "  '1735462996024131735',\n",
              "  '1736087873684697252',\n",
              "  '1735352136878174624',\n",
              "  '1736004428845523278',\n",
              "  '1733999905402650931',\n",
              "  '1736073673780433165',\n",
              "  '1733835920862818716',\n",
              "  '1733835920862818716',\n",
              "  '1734326638270361704',\n",
              "  '1735044953883959694',\n",
              "  '1735184815471911270',\n",
              "  '1735033451722760431',\n",
              "  '1735142567979950502',\n",
              "  '1735949150758502728',\n",
              "  '1733894959873314962',\n",
              "  '1736442716068728985',\n",
              "  '1736442716068728985',\n",
              "  '1735549502000427164',\n",
              "  '1734620988212678686',\n",
              "  '1735172627592040940',\n",
              "  '1734870226150592770',\n",
              "  '1735032338185093549',\n",
              "  '1735734663228924390',\n",
              "  '1733963088133509235',\n",
              "  '1736047058551787968',\n",
              "  '1736786936893751338',\n",
              "  '1734993135418101778',\n",
              "  '1736669204416184695',\n",
              "  '1735319829005865090',\n",
              "  '1735937766062793176',\n",
              "  '1735345878724997389',\n",
              "  '1735281549610733768',\n",
              "  '1734089138377576770',\n",
              "  '1736080272318214253',\n",
              "  '1736442716068728985'])"
            ]
          },
          "execution_count": 118,
          "metadata": {},
          "output_type": "execute_result"
        }
      ],
      "source": [
        "target_user = users_rdd.takeSample(False,1,887)[0]\n",
        "target_user"
      ]
    },
    {
      "cell_type": "code",
      "execution_count": null,
      "id": "7113b6b8-631d-442d-a221-64e6473c6c8e",
      "metadata": {
        "id": "7113b6b8-631d-442d-a221-64e6473c6c8e",
        "outputId": "1c32721d-a914-4482-e8eb-e2b9d04f28c4"
      },
      "outputs": [
        {
          "data": {
            "text/plain": [
              "['1736080272318214253',\n",
              " '1735949150758502728',\n",
              " '1736087873684697252',\n",
              " '1735937766062793176',\n",
              " '1734993135418101778',\n",
              " '1736073673780433165',\n",
              " '1733894959873314962',\n",
              " '1736669204416184695',\n",
              " '1734870226150592770',\n",
              " '1736442716068728985',\n",
              " '1735032338185093549',\n",
              " '1735462996024131735',\n",
              " '1734620988212678686',\n",
              " '1735549502000427164',\n",
              " '1735033451722760431',\n",
              " '1736786936893751338',\n",
              " '1734089138377576770',\n",
              " '1735345878724997389',\n",
              " '1734630666627658206',\n",
              " '1736004428845523278',\n",
              " '1735281549610733768',\n",
              " '1733999905402650931',\n",
              " '1735044953883959694',\n",
              " '1735172627592040940',\n",
              " '1736047058551787968',\n",
              " '1735142567979950502',\n",
              " '1735184815471911270',\n",
              " '1735352136878174624',\n",
              " '1733835920862818716',\n",
              " '1735734663228924390',\n",
              " '1735319829005865090',\n",
              " '1736073756659876275',\n",
              " '1734326638270361704',\n",
              " '1733963088133509235']"
            ]
          },
          "execution_count": 119,
          "metadata": {},
          "output_type": "execute_result"
        }
      ],
      "source": [
        "target_user_tweets_ids = list(set([x for x in target_user[1]]))\n",
        "target_user_tweets_ids"
      ]
    },
    {
      "cell_type": "code",
      "execution_count": null,
      "id": "ad9378fe-ef54-413a-9238-04563afe1847",
      "metadata": {
        "id": "ad9378fe-ef54-413a-9238-04563afe1847",
        "outputId": "f81c925f-8965-4bd7-aeb3-284f94aebb67"
      },
      "outputs": [
        {
          "name": "stderr",
          "output_type": "stream",
          "text": [
            "                                                                                \r"
          ]
        },
        {
          "data": {
            "text/plain": [
              "[('همراه شو عزیز. این درد مشترک هرگز جدا جدا درمان  نمیشود \\u200c…\\n\\n«یکی ورزشکار است و دیگری هنرمند , یکی معترض و یکی فعال حقوق بشر.\\nسالها حقوق ما زنان ایرانی در عرصه\\u200cهای مختلف توسط جمهوری اسلامی نقض شد و حالا دور از وطن کنار هم ایستادیم و میدانیم قدرت ما در این هم\\u200cصحبتی و اتحاد است.» #الهه_توکلیان\\n\\n#UnitedAgainstIRregime \\n\\n@MitraHejazipour \\n@MojganShajarian \\n@MarziehHamidi \\n@shimababaeii \\n@mariam_claren',),\n",
              " ('🔺#نرگس_محمدی در پیامی به پدر و مادر مهسا امینی: حصار استبداد، صدای ما را قدرتمندتر خواهد کرد\\n\\n▪محمدی در پیامی به پدر و مادر #مهسا_امینی، از اهدای جایزه ساخاروف به او استقبال کرد و گفت که این جایزه صدای مردم ایران را برای آزادی و برابری، بلندتر خواهد کرد\\n\\nhttps://t.co/mPjeOtSrrV https://t.co/V6OI9ZqO9Z',),\n",
              " ('دلیل حملات اوباش امنیتی پهلوی به گلشیفته در فضای مجازی آواز خواندن او نبود، گفتگوی کوتاه او با مهتدی بود که گفت \"ما همیشه و تا ابد متحد و هم پیمان هستیم.\"\\nجمهوری اسلامی از اتحاد ما هراسان است.\\n#زن_زندگى_آزادى \\n#IRGCterrorists\\u200c https://t.co/PMDgNLn500',),\n",
              " ('با احترام به #نرگس_محمدی که زندگیش را وقفه مبارزه در راه آزادی ایران کرده، تصور کنید اگر این جایزه به #مسیح_علینژاد می رسید. \\n\\nتنها شخصیت قاطع و صریح که DNA جمهوری اسلامی و مافیای اصلاح طلب و سپاه را بهتر از هر کس دیگری میشناسد، همواره از فشار حداکثری حمایت کرده و بدون لکنت برای سرنگونی جمهوری اسلامی حتی با حمله نظامی موافق است مسیح علینژاد است.',),\n",
              " ('میخواهند به همان روش نخ نما شده #نرگس_محمدى را هم بی اعتبار کنند! بشنوید:\\n«اصلاحات عهد\\u200c و پیمان ما نبود، اصلاحات یک راهکار بود که نشد!  عهد و پیمان ما با مردم است. ما بر سر آن عهد و پیمان ایستاده\\u200cایم و سر آشتی با حکومت نداریم.» https://t.co/zcAL7sLARb',),\n",
              " ('اونهایی که اومدید بجای حمایت ازانسانی که زجری رو داره تحمل میکنه حتی یک ثانیه نمیتونید تصورش کنید تخریبش کردید \\nبه خانواده ای که دارن ذره ذره از زجر کشیدنش نابود میشن بهشون تهمت زدید و راهی که دشوار هست رو برای ما دشوار تر کردید \\nنگاه کنید قشنگ نگاه کنید ببینم وجدان نداشته تون۱/ https://t.co/5CPVcIADqd',),\n",
              " ('عقل سطلی\\n🧠🪣🤏🤏🤏🤏🤏🤏🤏🤏 https://t.co/dtCWRzFmnG',),\n",
              " ('این هجده دقیقه رو از تقی رحمانی گوش کنید.\\n مهتدی رو ایشون دعوت نکرده ، توضیح داده چرا. دست دادن به معنی تایید افکار سیاسی کسی نیست. نرگس محمدی برای حمایت از فاطمه سپهری بیانیه داده بوده. در مورد حرفهای خودش در آنجا هم توضیح داد که منظورش چی بوده. به زودی فایلی جداگانه در مورد همه موارد منتشر میکنه.',),\n",
              " ('خواستم در مورد حملاتی که به گلشیفته فراهانی شد چند خطی بنویسم که دیدم در فیسبوک شخصی به نام احسان راستان خیلی خوب و منسجم نوشته است. البته همه می\\u200cدانیم به قول آن فیلم ایرج ملکی: «اگر گلشیفته وکالتش را داده بود، کار به اینجا نمی\\u200cکشید»😊\\n\\nاما متن مورد نظر این است:\\n«در ضیافتِ شامِ پادشاهِ نروژ به مناسبتِ اهدای جایزه\\u200cی صلحِ نوبل به نرگس محمدی، من هیچ حرکتِ بی\\u200cادبانه و زشتی در رفتار و گفتارِ گلشیفته فراهانی ندیدم. نه توهینی، نه حرکتِ جلف و سبک\\u200cسرانه\\u200cای، و نه حرفِ نامربوطی. تصنیفی که مهسا وحدت برای خواندن برگزیده بود، و گلشیفته و مژگان شجریان همراهی\\u200cاش می\\u200cکردند («امشب شبِ مهتابه»، در آوازِ اصفهان)، موسیقیِ اصیلِ ایرانی و ساخته\\u200cی علی\\u200cاکبر شیدا (۱۲۸۵ – ۱۲۲۲ ه.ش.) بود، نه ترانه\\u200cی خالتوری از شهرام شب\\u200cپره یا فتانه!\\n\\nمن دلیلِ این\\u200cهمه حمله را به گلشیفته نمی\\u200cفهمم. یکی نوشته است که این «ایرونی\\u200cبازی» بود! این هم از آن حرف\\u200cهایی است که محمد قائد بر سرِ زبان\\u200cها انداخته است. خودمان را تافته\\u200cی جدابافته بدانیم و هرچه را نمی\\u200cپسندیم بگوییم «ایرونی\\u200cبازی» است. دیگری گفته است که گلشیفته آبرومان را در آن مجلسِ رسمی برده است! چرا فکر می\\u200cکنیم که حتماً باید مغموم و عصاقورت\\u200cداده باشیم تا آبرومان حفظ شود؟! ما مردمانِ خون\\u200cگرمی هستیم، مثلِ اسپانیایی\\u200cها. همین سخنان را اگر یک بازیگرِ اسپانیایی در چنین مجلسی بر زبان می\\u200cراند، کلی کِیف می\\u200cکردیم. منتها این «ایرونی» است و ما «ایرونی\\u200cها» همه\\u200cجا آبروریزی می\\u200cکنیم! دست بردارید از این خودزنی و خودتحقیریِ تاریخی.\\n\\nگلشیفته حرفِ بدی نزد. محترمانه و طنازانه پوزش خواست اگر در چارچوب\\u200cهای سفت و سخت نمی\\u200cگنجد. گفت ما ملتِ موسیقی و آواز و رقص ایم. گفت مردمِ ما، برای همین چیزهای ساده که این\\u200cجا برای شما بدیهی است، می\\u200cمیرند و به زندان می\\u200cافتند. گفت نرگس برای همین چیزها ست که اکنون در زندان است. پیامِ گلشیفته سیاسی و هنرمندانه بود. این پیام را نمی\\u200cتوانست خشک و رسمی و بی\\u200cروح به مخاطب برساند. از واکنشِ میزبانان و میهمانان پیدا بود که نه تنها به کسی برنخورده که همه لذت برده\\u200cاند. کاسه\\u200cی داغ\\u200cتر از آش نشویم!»',),\n",
              " ('زندان و شلاق تنها مجازات #نرگس_محمدى نیست، ترور شخصیت و لجن\\u200cمال کردن او بخش تکمیلی سرکوب و مجازات اوست که توسط سپاه سایبری و صادراتی اجرا میشود. صدای نرگس باشیم همچنان که او صدای مظلومان است',),\n",
              " ('شماری از مخاطبان بی\\u200cبی\\u200cسی فارسی ویدیوهای خود را از رقص و هم\\u200cخوانی با آهنگ «صادق بوقی» برای ما فرستاده\\u200cاند. \\u200c\\n\\nپس از آنکه اینستاگرام شخصی مشهور به «صادق بوقی» که ویدیوهای رقص و آواز او در رشت، در فضای مجازی پربیننده شده بود، توقیف شد بسیاری با انتشار ویدیوهایی از خواندن و رقص خود مانند صادق بوقی از او حمایت کردند. .\\n\\nبا مسدود شدن اینستاگرام صادق بوقی همه پست\\u200cهای او از صفحه اینستاگرامش حذف و در پستی باقی مانده نوشته شده است «این صفحه به علت تولید محتوای مجرمانه و براساس مصادیق مجرمانه مندرج در قانون جرائم رایانه\\u200cای مسدود و با عوامل آن برخورد گردید.»\\n\\nدر این پست همچنین هشدار داده شده که «فعالیت\\u200cهای مجرمانه کاربران تحت رصد می\\u200cباشد.»\\n\\n\\xa0همینطور اعلام شد که برای چندین نفر در این ارتباط پرونده قضایی تشکیل شده است.\\n\\u200c\\nبسیاری از کاربران با بازنشر کلیپ\\u200cهای رقص و شادی با آهنگ صادق بوقی با این اقدام حکومت ایران مخالفت کردند و این حکومت را «دشمن شادی مردم» خواندند. تقدان معتقدند شادی و رقص نوعی مبارزه علیه حکومت جمهوری اسلامی ایران است.\\xa0\\n\\xa0 \\xa0علی کریمی، ستاره سابق فوتبال ایران، نیز با انتشار ویدیویی در حال ورزش کردن با این آهنگ در شبکه اجتماعی ایکس نوشته بود: «شادی شما مردم تیشه به ریشه رژیم آخوندی میزند.پس تا می\\u200cتوانید شاد باشید»\\n\\xa0\\nحکومت ایران پس از بالا گرفتن موج حمایت\\u200cها از صادق بوقی اینستاگرام او را رفع توقیف کرد. تا لحظه \\xa0انتشار این ویدیو \\u200cبه شمار فالوئرهای اینستاگرام او پس از رفع توقیف حدود ۴۰۰ هزار نفر اضافه شده است',),\n",
              " ('متن نامه #زهره_سرو از زندان اوین:\\n\\nهیچ قدرتی بالاتر از اتحاد نیست و ما زنان زندانی اوین وامدار این میراث گران قدر ایرانیان هستیم با درود بر روان پاک آریامهر فقید و درود بر شاهنشاه ایران زمین رضا پهلوی با وجودی که قصدم ادامه اعتصاب تا پای جان برای آزادی ام بود اما پیام سراسر لطفا شما را دریافت و برای ایرانمان اعتصابم را شکستم پیام شما را ساعت ۲۱ چهارشنبه دریافت نمودم و امروز شنبه ۲۵ آذرماه با توجه به شرایط ارتباطی در زندان موفق به پاسخگویی به شما شدم ضمن سپاسگذاری از تمام کسانی که در این ۲۲ روز اعتصابم، صادقانه ابراز همدلی و نگرانی داشتند و صدایم بودند، دوستانی از جمله علی کریمی کمپین بازگشت شاهزاده و تمامی رسانه ها جای آن دارد از تمامی هم بندیانی که با هر گرایشی صادقانه در تمامی اعتراضاتی که به هنگام وخامت حالم رخ داد حامی و یاورم بودند قدردانی کنم؛ خواهر و همرزم عزیزم سمانه نوروز مرادی که با هر بار بسته شدن چشمم گریست و با باز شدن پلکم چشمان نگرانش بر بالینم نویدگر زنده بودنم بود. دوستانی از جمله نرگس محمدی، سپیده قلیان، مهناز طراح محبوبه ،رضایی آنیشا اسداللهی و ... را قدردانم بار دیگر بند زنان زندان اوین نشان داد که در هنگام یاری رساندن به یکدیگر، جناح و تفکر سیاسی جایی ندارد و همگی مانند یک خانواده پشتیبان و یاور یکدیگریم. این حمایت همه جانبه وظیفه من را در قبال دوستان و هم رزمانم خطیرتر نمود هر کدام از ما با هر گرایش همانند قطعات یک پازل که همگی در کنار هم معنا پیدا میکنند آزادی ایران فردا را به تصویر خواهیم کشید. هیچ قدرتی بالاتر از اتحاد نیست و ما زنان زندانی اوین وام دار این میراث گران قدر ایرانیان هستیم. پاینده ایران و ایرانی زهره سرو شنبه ۲۵ آذر ۱۴۰۲ بند زنان زندان اوین.',),\n",
              " ('\"من را از ماشینمان پیاده کردند از موهایم گرفتند و به ماشین خودشان کشیدند و بردند. رئیسشان میگفت فعالیت\\u200cهای تو باعث آسیب به نظام می شود.\"\\n\\nبانو #نرگس_محمدی در تجمع حمایت از برادران #نوید_افکاری در مقابل زندان عادل\\u200cآباد شیراز مورد ضرب شتم\\u200c و بازداشت قرار گرفت. https://t.co/EsbCVodOdz',),\n",
              " ('محمدعلی مرادیان، مدیرکل دفتر توسعه کتاب وزارت فرهنگ و ارشاد اسلامی درباره وضعیت صدور مجوز مجموعه شعر جدید محمدرضا شفیعی کدکنی گفت: «نکته\\u200cای راجع\\u200cبه کتاب نداریم؛ اما به چند نفر از اهالی شعر کتاب را داده\\u200cایم تا بخوانند و نظرشان را بگویند تا ان\\u200cشاءالله درباره کتاب تصمیم\\u200cگیری شود.» https://t.co/MdzBXTQj6c',),\n",
              " ('طهورا نوروزی، مدیر عامل بنیاد عفاف و حجاب، با بیان اینکه «نباید کسانی که ادعای انقلابی\\u200cگری دارند، مساله عفاف و حجاب را معطل انتخابات کنند»، اضافه کرد که «بی\\u200cحجابی مانند بیماری است که رفته\\u200cرفته در جامعه ریشه می\\u200cکند و آن جامعه را از درون می\\u200cپوساند.» https://t.co/NF12Cgp7sd',),\n",
              " ('صفحه اینستاگرام خانواده سلطنتی سوئد با انتشار تصویری نوشت پادشاه و ملکه این کشور روز چهارشنبه در کاخ سلطنتی با همسر و دو فرزند نرگس محمدی، برنده جایزه نوبل صلح، دیدار کردند..\\nاین صفحه به اهدای جایزه نوبل صلح به محمدی به دلیل مبارزه\\u200cاش در پیشبرد حقوق بشر در ایران اشاره کرده است https://t.co/wUcsYkUOPm',),\n",
              " ('🎥 #سپیده_قلیان، زندانی سیاسی محبوس در زندان اوین با انتشار نامه\\u200cای به شرح سختی\\u200cهای زندان در تبعید برای خود و خانواده\\u200cاش پرداخته و نوشته پنج سال است به دستور وزارت اطلاعات به نفی بلد محکوم شده\\u200c است.\\n\\nخانم قلیان در این نامه که روز ۲۴ آذر در وبسایت هه\\u200cنگاو منتشر شد نوشته است: «سالهاست که در تبعید به سر می\\u200cبرم. طی این سال\\u200cها برای رفع این حکم دست به هر کاری زده\\u200cام؛ نامه نگاری، مذاکره، مناقشه، تحصن، اعتصاب.»\\n#اخبار_ایران #اطلاع_رسانی #زندانیان_سیاسی #معترضان_ایران',),\n",
              " ('@ElhamOmidvari @SamadAlizadeh1 حرفهاى خانم زهره سرو امروز جواب خوبى براى مزدوران مخالف خانم محمدى بود',),\n",
              " ('خطاب به صدا و سیما؛ بله ما پروژه داریم.\\n\\nخوشحالم به اینکه کارشناسان صدا و سیما این چنین حقیر مجبور شدند اعتراف کنند به موفقیت کمپین\\u200cهای ما زنان ایرانی علیه حجاب اجباری و جمهوری اسلامی. به قدرت ما زنان که رفتیم روی اعصاب خامنه\\u200cای و حکومتش. کارشناسان واپسگرای حکومت که در برابر قیام زنان علیه حجاب اجباری، دین اجباری و سبک زندگی تحمیلی عصبانی هستند هر از چند گاهی هم لگدی به من می\\u200cزنند. \\n\\nباید بگویم کل پروژه اتفاقات ده ساله اخیر دست مسیح علینژاد نیست بلکه دست تک تک ما زنان و مردان ایران است که فهمیدیم حجاب زوری پاشنه آشیل نظام پوسیده شماست. آنچه شما نفهمیدید این است که این یک پروژه فردی نیست بلکه کاری جمعی است و از زمان آغاز به کار کمپین آزادی\\u200cهای یواشکی تا چهارشنبه\\u200cهای سفید و دوربین ما اسلحه ما، این مردم ایران بودند که شانه به شانه هم ایستادند و کنار هم\\u200c مبارزه کردند. من تنها امتداد صدای این زنان و مردان آگاه بودم و خواهم بود تا روز سرنگونی جمهوری اسلامی.\\n\\nآری ما مردم \\u200cپروژه داریم، پروژه برچیدن طومار حکومتی ضدزن و کودک\\u200cکش. اما این پروژه دست هیچ فرد و جریانی نیست، بلکه دست تک تک پسران و دختران شجاع ایران، مردان و زنان و همه کسانی است که از چهار دهه حکومت\\u200cداری مسولانی ظالم و تبهکار خسته\\u200cاند و در پی شادی، آزادی و زندگی\\u200cای توام با کرامت\\u200c هستند و هیچ کدام از اینها در سایه جمهوری اسلامی امکان پذیر نیست. \\n\\nما مردم پروژه داریم و در پایان این پروژه بساط سپاه تروریست، بسیجی مزدور، شورای نگهبان، ولی فقیه\\u200c، بساط حجاب اجباری، حکم اعدام و همه قوانین ناعادلانه و غیر انسانی را برای همیشه از این سرزمین جمع می\\u200cکنیم. بچرخ تا بچرخیم.\\n\\n#زن_زندگى_آزادى',),\n",
              " ('الناز محمدی، خواهر الهه محمدی، روزنامه\\u200cنگار زندانی گفته که مجبور به استعفا از روزنامه هم\\u200cمیهن شده است.\\n \\n خانم محمدی در صفحه اینستاگرام خود نوشت: «یک ماه پیش مجبور شدم از روزنامه هم\\u200cمیهن استعفا دهم. مجبور شدم از گروه اجتماعی که با شوق زیاد تیرماه پارسال با الهه شکلش دادیم بروم.»\\n \\n او نوشت: «دلایل استعفا زیاد هستند و ناگفته، بهتر، به احترام الهه که خبرنگار صفحه جامعه این روزنامه بود و حالا مظلومانه یک سال و چند ماه است که در زندان است، سکوت کنم.»\\n\\nالناز محمدی در ادامه می\\u200cنویسد: »فقط موضوع ناراحت\\u200cکننده برایم شرمندگی از روی الهه است. حالا که او در زندان است و صندلی هر دو ما در گروهی که برایمان عزیز بود خالی است.»\\n \\n خانم محمدی درباره آزادی خواهرش نوشت: «اما اگر برگردد، دیگر هیچ\\u200cچیز مهم نیست. تنها آرزوی من آزادی اوست. آزادی. قربان این کلمه وقتی کنار اسم الهه بنشیند.»\\n \\n نیلوفر حامدی و الهه محمدی به اتهام «ارتباط با دولت متخاصم» و «اجتماع و تبانی بر ضد امنیت ملی» محاکمه و به ترتیب به ۷سال و ۶ سال زندان محکوم شده\\u200cاند.\\n \\n این دو که بیش از یک سال است در ایران زندانی هستند به خواست سردبیران روزنامه\\u200cهایشان ماجرای کشته شدن مهسا امینی به دست گشت ارشاد را گزارش دادند.',),\n",
              " ('زهره سرو، زندانی سیاسی مشروطه\\u200cخواه در نامه\\u200cای از زندان اوین در پاسخ به پیام شاهزاده رضا پهلوی از پایان اعتصاب غذای خود خبر داده است.\\n\\nاو خطاب به شاهزاده رضا پهلوی نوشته است: «با درود بر روان پاک آریامهر فقید و درود بر شاهنشاه ایران زمین رضا پهلوی با وجودی که قصدم ادامه اعتصاب تا پای جان برای آزادی\\u200cام بود اما پیام سراسر لطفا شما را دریافت و برای ایرانمان اعتصابم را شکستم. پیام شما را ساعت ۲۱ چهارشنبه دریافت نمودم و امروز شنبه ۲۵ آذرماه با توجه به شرایط ارتباطی در زندان موفق به پاسخگویی به شما شدم.»\\n\\nخانم سرو در بخش دیگری از نامه خود از علی کریمی و برخی زندانیان سیاسی برای حمایت و اطلاع\\u200cرسانی درباره خود تشکر کرده است.\\n\\nزهره سرو ابتدا یکبار در سال ۱۳۹۸ بازداشت و پس از بیش از دو سال حبس بار دیگر در مهرماه سال ۱۴۰۰ بازداشت شد.\\n\\nاین زندانی سیاسی از تاریخ ۲ آذرماه، در اعتراض به تداوم عدم رسیدگی به مطالبات خود از جمله، عدم اعطای آزادی مشروط، عدم رسیدگی پزشکی به وضعیت جسمانی و موافقت نکردن مسئولان مربوطه با اعطای مرخصی به وی، دست به اعتصاب زده بود.',),\n",
              " ('نرگس محمدی در نامه\\u200cای خطاب به پدر و مادر مهساژینا امینی با اشاره به اهدای جایزه ساخاروف به دخترشان نوشت: «نام مهساژینا در تاریخ مبارزات مستمر و شجاعانه مردم ایران علیه استبداد دینی جمهوری اسلامی جاودانه شد.» او افزود نام مهساژینا در کوچه\\u200cخیابان\\u200cهای سراسر جهان طنین\\u200cانداز شده است. https://t.co/uzqrZ8khgZ',),\n",
              " ('من اهل کشوری هستم که در آن مردمانی ازینکه جایزه نوبل صلح به زندانی زندان حکومت سرکوبگرش تعلق گرفته ناراحتند!\\nاگر از حمایت جامعه جهانی از طریق بیانیه و جایزه دادن به مخالفان حکومت خشمگینید و به جاش میخواهید جمهوری اسلامی را برایتان براندازی کنند، پس هنوز باید با همین حکومت بسازید! https://t.co/kWxhjz3MUf',),\n",
              " ('#سپیده_قلیان، زندانی سیاسی محبوس در زندان اوین با انتشار نامه\\u200cای به شرح سختی\\u200cهای زندان در تبعید برای خود و خانواده\\u200cاش پرداخته و نوشته پنج سال است به دستور وزارت اطلاعات به نفی بلد محکوم شده\\u200c است.\\n\\nخانم قلیان در این نامه که روز ۲۴ آذر در وبسایت هه\\u200cنگاو منتشر شد نوشته است: «سالهاست که در تبعید به سر می\\u200cبرم. طی این سال\\u200cها برای رفع این حکم دست به هر کاری زده\\u200cام؛ نامه نگاری، مذاکره، مناقشه، تحصن، اعتصاب.»\\n\\nاین زندانی سیاسی درباره سختی\\u200cهای گذراندن دوران حبس در تهران در حالی که خانواده\\u200cاش در خوزستان هستند نوشته: «جان و نان خانواده\\u200cام در خطر است، هر هفته طی کردن هزاران کیلومتر راه مصیبت است. اما هر بار با ادامه\\u200cی روند تبعید به من محرز شده است که حرف نماینده سازمان زندان\\u200cها در زندان بوشهر درست بود: جنازه\\u200cت به خوزستان بازخواهد گشت.»\\n\\n#اخبار_ایران #زندانیان_سیاسی \\n\\nhttps://t.co/QsNZ9Adc9d',),\n",
              " ('امروز سالگرد اعدام روح الله زم است. در این مصاحبه از «نیاز زم» دختر او پرسیدم چه کرد با زخم زبانها و تهمت\\u200cهایی که به پدرش زمانی که زنده بود می\\u200cزدند.\\n \\nروح الله زم با یک کانال تلگرامی به نام آمدنیوز، جمهوری اسلامی را چنان به استیصال کشانده بود که در ابتدا تمام توان سایبری و امنیتی جمهوری اسلامی برای بدنام کردن او بود. کسانی که زخم زدند و او را عامل نفوذی جمهوری اسلامی در بین اپوزسیون خواندند. \\n\\nسناریویی که همچنان برای تخریب و بدنام کردن و حذف تمام چهره\\u200cهای فعال و موثر اپوزسیون اجرا کردند و می\\u200cکنند. اما روح الله زم عقب ننشست و ادامه داد. جمهوری اسلامی نیز در نهایت وقتی از ترور شخصیتی او به جایی نرسید، نقشه ربودن و کشتن او را کشید.\\n\\nامروز سه سال از اعدام او به جرم خبررسانی می\\u200cگذرد. روح الله زم شجاع بود. او وقتی مقابل دوربین جلادانش نشست باز از حق مردمش گفت و اینکه اعتراض حق مردم است: «شما می\\u200cگویید اغتشاشات ما می\\u200cگوییم اعتراضات.»\\nیادش گرامی.\\n\\n#روح_الله_زم',)]"
            ]
          },
          "execution_count": 120,
          "metadata": {},
          "output_type": "execute_result"
        }
      ],
      "source": [
        "target_user_tweets = parsed_rdd.flatMap(lambda x: tweet_parser(target_user_tweets_ids,x))\n",
        "target_user_tweets.collect()"
      ]
    },
    {
      "cell_type": "code",
      "execution_count": null,
      "id": "e0ecb580-6a7f-48bc-af51-54dd4fa07e39",
      "metadata": {
        "id": "e0ecb580-6a7f-48bc-af51-54dd4fa07e39",
        "outputId": "be2dbfae-2a3b-4d2b-b30a-2a8ed2be158b"
      },
      "outputs": [
        {
          "name": "stderr",
          "output_type": "stream",
          "text": [
            "                                                                                \r"
          ]
        }
      ],
      "source": [
        "_xhop_users = tweets_rdd.flatMap(lambda x: users_from_tweets(target_user_tweets_ids,x))\n",
        "_1hop_users = _xhop_users.collect()\n",
        "# _1hop_users"
      ]
    },
    {
      "cell_type": "code",
      "execution_count": null,
      "id": "c08637b2-c666-4b27-a697-3c51ae5bbded",
      "metadata": {
        "id": "c08637b2-c666-4b27-a697-3c51ae5bbded",
        "outputId": "fe71bf4f-e5f6-4724-a897-294835e58812"
      },
      "outputs": [
        {
          "name": "stderr",
          "output_type": "stream",
          "text": [
            "                                                                                \r"
          ]
        }
      ],
      "source": [
        "_xhop_tweets = users_rdd.flatMap(lambda x: tweets_from_users(_1hop_users,x))\n",
        "_2hop_tweets = _xhop_tweets.collect()\n",
        "# _2hop_tweets"
      ]
    },
    {
      "cell_type": "code",
      "execution_count": null,
      "id": "1f95d6c7-a2ee-4a9f-8494-8c24b83be800",
      "metadata": {
        "id": "1f95d6c7-a2ee-4a9f-8494-8c24b83be800",
        "outputId": "06c354bc-0ea1-4530-9553-042f2fddfd65"
      },
      "outputs": [
        {
          "name": "stderr",
          "output_type": "stream",
          "text": [
            "                                                                                \r"
          ]
        }
      ],
      "source": [
        "_xhop_users = tweets_rdd.flatMap(lambda x: users_from_tweets(_2hop_tweets,x))\n",
        "_3hop_users = _xhop_users.collect()\n",
        "# _3hop_users"
      ]
    },
    {
      "cell_type": "code",
      "execution_count": null,
      "id": "7eb785a4-82fb-425f-ad08-28331d52d71a",
      "metadata": {
        "id": "7eb785a4-82fb-425f-ad08-28331d52d71a",
        "outputId": "27e86ec3-8f4a-4594-a2a0-e0178ae90868"
      },
      "outputs": [
        {
          "name": "stderr",
          "output_type": "stream",
          "text": [
            "                                                                                \r"
          ]
        }
      ],
      "source": [
        "_xhop_tweets = users_rdd.flatMap(lambda x: tweets_from_users(_3hop_users,x))\n",
        "_4hop_tweets = _xhop_tweets.collect()\n",
        "# _4hop_tweets"
      ]
    },
    {
      "cell_type": "code",
      "execution_count": null,
      "id": "2f472049-06e6-4887-a016-d5a7f185922a",
      "metadata": {
        "id": "2f472049-06e6-4887-a016-d5a7f185922a",
        "outputId": "67a74994-dea3-4c09-b762-bb86f74f1bcb"
      },
      "outputs": [
        {
          "data": {
            "text/plain": [
              "4290"
            ]
          },
          "execution_count": 125,
          "metadata": {},
          "output_type": "execute_result"
        }
      ],
      "source": [
        "all_related_users = _1hop_users\n",
        "# all_related_users = _1hop_users + _3hop_users\n",
        "len(all_related_users)"
      ]
    },
    {
      "cell_type": "code",
      "execution_count": null,
      "id": "f8a80e08-a6c1-4256-9ad9-5eada5a890e2",
      "metadata": {
        "id": "f8a80e08-a6c1-4256-9ad9-5eada5a890e2",
        "outputId": "2546cd76-f00f-4c81-aece-9d1bca21873a"
      },
      "outputs": [
        {
          "data": {
            "text/plain": [
              "272437"
            ]
          },
          "execution_count": 126,
          "metadata": {},
          "output_type": "execute_result"
        }
      ],
      "source": [
        "all_related_tweets = _2hop_tweets\n",
        "# all_related_tweets = _2hop_tweets + _4hop_tweets\n",
        "len(all_related_tweets)"
      ]
    },
    {
      "cell_type": "code",
      "execution_count": null,
      "id": "f0ed76d0-7555-4cec-89d2-1a213d037f29",
      "metadata": {
        "id": "f0ed76d0-7555-4cec-89d2-1a213d037f29",
        "outputId": "b47c9449-9006-4b6a-c433-596cd9e7ffc0"
      },
      "outputs": [
        {
          "name": "stderr",
          "output_type": "stream",
          "text": [
            "                                                                                \r"
          ]
        }
      ],
      "source": [
        "users_for_graph_rdd = users_rdd.flatMap(lambda x: users_with_tweets_generator(all_related_users,x))\n",
        "users_for_graph = users_for_graph_rdd.collect()"
      ]
    },
    {
      "cell_type": "code",
      "execution_count": null,
      "id": "a5b34003-41ca-4962-80c2-0b6c5589c1c9",
      "metadata": {
        "id": "a5b34003-41ca-4962-80c2-0b6c5589c1c9",
        "outputId": "516a2bb1-98f6-4aeb-ea85-1450c654302b"
      },
      "outputs": [
        {
          "name": "stderr",
          "output_type": "stream",
          "text": [
            "                                                                                \r"
          ]
        }
      ],
      "source": [
        "tweets_for_graph_rdd = tweets_rdd.flatMap(lambda x:tweets_with_users_generator(all_related_tweets,x))\n",
        "tweets_for_graph = tweets_for_graph_rdd.collect()"
      ]
    },
    {
      "cell_type": "code",
      "execution_count": null,
      "id": "2aa93d01-8e5e-4e19-88e3-25ba90eabb11",
      "metadata": {
        "id": "2aa93d01-8e5e-4e19-88e3-25ba90eabb11",
        "outputId": "5ad18594-d20f-4d84-ca77-0d1d1ea0d52f"
      },
      "outputs": [
        {
          "data": {
            "text/plain": [
              "3447"
            ]
          },
          "execution_count": 131,
          "metadata": {},
          "output_type": "execute_result"
        }
      ],
      "source": [
        "len(users_for_graph)"
      ]
    },
    {
      "cell_type": "code",
      "execution_count": null,
      "id": "5fb2aa9e-f24e-4b23-93a0-3cab34beed9c",
      "metadata": {
        "id": "5fb2aa9e-f24e-4b23-93a0-3cab34beed9c",
        "outputId": "fa743892-7381-4089-be6b-969be193357f"
      },
      "outputs": [
        {
          "data": {
            "text/plain": [
              "98609"
            ]
          },
          "execution_count": 132,
          "metadata": {},
          "output_type": "execute_result"
        }
      ],
      "source": [
        "len(tweets_for_graph)"
      ]
    },
    {
      "cell_type": "code",
      "execution_count": null,
      "id": "1925a674-872f-456b-a97e-3ae19cbca8fb",
      "metadata": {
        "id": "1925a674-872f-456b-a97e-3ae19cbca8fb"
      },
      "outputs": [],
      "source": [
        "seen_users_all = random_walk(target_user,users_for_graph,tweets_for_graph,return_prob = 0.8)"
      ]
    },
    {
      "cell_type": "code",
      "execution_count": null,
      "id": "972feab9-d527-4a17-a290-fdd18586f2ee",
      "metadata": {
        "id": "972feab9-d527-4a17-a290-fdd18586f2ee"
      },
      "outputs": [],
      "source": [
        "from itertools import groupby\n",
        "from operator import itemgetter\n",
        "\n",
        "first = itemgetter(0)\n",
        "seen_users_cnt = [(k, sum(item[1] for item in tups_to_sum))\n",
        "        for k, tups_to_sum in groupby(sorted(seen_users_all, key=first), key=first)]"
      ]
    },
    {
      "cell_type": "code",
      "execution_count": null,
      "id": "00a838b7-afb6-404b-9db0-e68b9559a037",
      "metadata": {
        "id": "00a838b7-afb6-404b-9db0-e68b9559a037",
        "outputId": "2d654465-d8aa-49be-ed04-34c63263979b"
      },
      "outputs": [
        {
          "data": {
            "text/plain": [
              "[('728252911675944961', 333),\n",
              " ('790728', 283),\n",
              " ('1955124895', 235),\n",
              " ('410718052', 211),\n",
              " ('1378970222', 146),\n",
              " ('947924373029171200', 134),\n",
              " ('1149790135073947648', 133),\n",
              " ('1532043452761919488', 88),\n",
              " ('40535534', 83),\n",
              " ('1596294391', 80),\n",
              " ('47448563', 70),\n",
              " ('1002149552974106624', 69),\n",
              " ('1074665434442596352', 69),\n",
              " ('1362367238980964355', 69),\n",
              " ('1368752533', 69),\n",
              " ('1602916310312173569', 68),\n",
              " ('1263089632696250371', 67),\n",
              " ('1213894188695085057', 57),\n",
              " ('1554223232575840259', 56)]"
            ]
          },
          "execution_count": 136,
          "metadata": {},
          "output_type": "execute_result"
        }
      ],
      "source": [
        "seen_users_sorted = sorted(seen_users_cnt, key=lambda x: x[1], reverse=True)\n",
        "top_users = seen_users_sorted[1:20]\n",
        "top_users"
      ]
    },
    {
      "cell_type": "code",
      "execution_count": null,
      "id": "3e6eed81-171a-4009-b9d0-bc5304b78d50",
      "metadata": {
        "id": "3e6eed81-171a-4009-b9d0-bc5304b78d50"
      },
      "outputs": [],
      "source": [
        "idx = next((i for i, v in enumerate(users_for_graph) if v[0] == top_users[5][0]), None)\n",
        "sample_tweets = users_for_graph[idx][1]"
      ]
    },
    {
      "cell_type": "code",
      "execution_count": null,
      "id": "e86cd8a9-7758-4cfa-a8a9-d917104957c9",
      "metadata": {
        "id": "e86cd8a9-7758-4cfa-a8a9-d917104957c9",
        "outputId": "9e48be49-ab78-4f4d-8953-76a3c80030d9"
      },
      "outputs": [
        {
          "name": "stderr",
          "output_type": "stream",
          "text": [
            "                                                                                \r"
          ]
        },
        {
          "data": {
            "text/plain": [
              "[('مسیح علی\\u200cنژاد با اشاره به نامه اخیر دو سناتور آمریکایی به وزیر خارجه آمریکا درباره تهدیدها علیه این فعال سیاسی، خواستار حمایت آمریکا از فعالان دموکراسی\\u200cخواه شد. او همچنین برای دیدار با وزیر خارجه آمریکا و صحبت درباره راه\\u200cکارهای محافظت از شهروندان آمریکایی اعلام آمادگی کرد. https://t.co/gwA2NYn3Mo',),\n",
              " ('مامور حجاب به زن شجاعی که از آزارگری و مزاحمت\\u200cشان فیلم می\\u200cگیرد میگوید: «بفرست برای مسیح علینژاد، هیچ غلطی نتونست بکنه» \\n\\nهمین که یک زن آگاه در مقابل گله\\u200cای از محجبه\\u200cهای حکومتی شجاعانه می\\u200cایستد و شرمسارتان می\\u200cکند نشان می\\u200cدهد که شما غلطی نمی\\u200cتوانید بکنید.\\n\\nبا این همه دوربین و\\u200cبگیر و ببند و کشتار، نتوانستید حریف زنان شجاع ایران شوید که توی صورت\\u200cشما می\\u200cایستند و به برده\\u200cداری اسلامی «نه» می\\u200cگویند.\\n\\nحق دارید از ما عصبانی باشید. چون استخوان گلوی حکومت شد\\u200cه\\u200cایم و نمگیذاریم آب خوش از گلوی نظاممقدس\\u200cتان  پایین برود. چون خامنه\\u200cای به شما دستور داد جلوی خراب شدن دیوار برلین جمهوری اسلامی بایستید ولی شما حتی حریف نوجوان\\u200cها هم نمی\\u200cشوید که آشکارا به شما دهن کجی می\\u200cکنند تا روزی که بساط\\u200cتان را برای همیشه جمع کنند.\\n#زن_زندگى_آزادى \\n#دوربین_ما_اسلحه_ما',),\n",
              " ('وقتی تریبونی در اختیار دارید از آن چه استفاده\\u200cای می\\u200cکنید؟ \\nورزش جمهوری اسلامی آری یا خیر؟ \\nبه دنیا می\\u200cگویید حکومت در ایران یک رژیم آدم\\u200cکش و جنایت\\u200cکار است ولی حالا  اشکالی ندارد همین حکومت عضوی از جامعه جهانی از جمله فدراسیون\\u200cهای ورزشی باشد؟ اینجا همان جایی است که تکلیف\\u200cمان با خودمان روشن می\\u200cشود.\\nچون هیچ کشوری مبارزه مردم ایران را جدی نمی\\u200cگیرد اگر از یک طرف بگوییم در زندان به زنان تجاوز می\\u200cشود، سپاه قاتل ملت ایران است اما همین حکومت ضد زن و  ورزش مافیایی سپاه را در جامعه جهانی به رسمیت بشناسید چون ورزش باعث شادی مردم ایران می\\u200cشود، یا چون در بعضی مواقع ورزش\\u200cدوستان از ورزشگاهی که هیچ زنی حق ورود به آن را ندارد برای اعتراض مدنی و شعار اعتراضی استفاده می\\u200cکنند. جهان به شما می\\u200cخندد و می\\u200cگویند اگر حکومت به فکر شادی مردم است پس فقط نیاز به کمی اصلاحات دارد بروید شعار بدهید و با مبارزه مدنی ایران\\u200cتان را آزاد کنید. \\nهیچ کشوری مبارزه ما مردم ایران را جدی نمیگیرد اگر بگوییم این حکومت را در قوانین بین\\u200cالمللی به عنوان یک حکومت آپارتایدی ثبت کنید ولی در عین حال اجازه دهید تیم\\u200cهای ورزشی همین حکومت همانند یک کشور نرمال در عرصه\\u200cهای جهانی حاضر شوند.   این وظیفه ماست که با صدای بلند بگوییم جمهوری اسلامی  #داعش_مستقر است و جای\\u200cاش در دادگاه\\u200cهای بین\\u200cالمللی است نه روی سکوهای بین\\u200cالمللی!\\nسپاه خوب بلد است چگونه مخالفانش را هزارشقه کند. یک بار به اطراف\\u200cمان نگاه کنیم و از خودمان بپرسیم آیا همه کسانی که می\\u200cگویند جمهوری اسلامی و سپاه داعش ما هستند، آیا حاضر هستند در کمپین تحریم، بایکوت و اخراج جمهوری اسلامی و سپاه از عرصه\\u200cهای ورزشی و سینمایی همراه شوند یا دلخوش به همان اعتراض مدنی و چند شعار هستند. \\nمن باور دارم که باید یکصدا خواستار اقدام عملی برای حذف جمهوری اسلامی از همه عرصه\\u200cهای جهانی شویم در غیر اینصورت خواسته یا ناخواسته به بازوهای حمایتی چنین حکومتی برای عادی سازی جنایت\\u200cهایش در جهان بدل خواهیم شد.',),\n",
              " ('با سویاتلانا تیخانووسکایا، (@Tsihanouskaya)که خیلی\\u200cها او را رئیس\\u200cجمهور منتخب بلاروس میدانند در تبلت گفتگو کردم. زنی که وقتی دیکتاتور بلاروس همسرش را زندانی کرد هرگز تصور نمیکرد او به نمادی الهام بخش و مدلی از مقاومت مقابلش تبدیل شود. او از روزهایی می\\u200cگوید که مردم ایران خیابانها را به تسخیر خود درآورده بودند و آنها با تحسین مبارزه مردم را نگاه می\\u200cکردند. گفتگوی من با این زن شجاع را از دست ندهید.',),\n",
              " ('خطاب به صدا و سیما؛ بله ما پروژه داریم.\\n\\nخوشحالم به اینکه کارشناسان صدا و سیما این چنین حقیر مجبور شدند اعتراف کنند به موفقیت کمپین\\u200cهای ما زنان ایرانی علیه حجاب اجباری و جمهوری اسلامی. به قدرت ما زنان که رفتیم روی اعصاب خامنه\\u200cای و حکومتش. کارشناسان واپسگرای حکومت که در برابر قیام زنان علیه حجاب اجباری، دین اجباری و سبک زندگی تحمیلی عصبانی هستند هر از چند گاهی هم لگدی به من می\\u200cزنند. \\n\\nباید بگویم کل پروژه اتفاقات ده ساله اخیر دست مسیح علینژاد نیست بلکه دست تک تک ما زنان و مردان ایران است که فهمیدیم حجاب زوری پاشنه آشیل نظام پوسیده شماست. آنچه شما نفهمیدید این است که این یک پروژه فردی نیست بلکه کاری جمعی است و از زمان آغاز به کار کمپین آزادی\\u200cهای یواشکی تا چهارشنبه\\u200cهای سفید و دوربین ما اسلحه ما، این مردم ایران بودند که شانه به شانه هم ایستادند و کنار هم\\u200c مبارزه کردند. من تنها امتداد صدای این زنان و مردان آگاه بودم و خواهم بود تا روز سرنگونی جمهوری اسلامی.\\n\\nآری ما مردم \\u200cپروژه داریم، پروژه برچیدن طومار حکومتی ضدزن و کودک\\u200cکش. اما این پروژه دست هیچ فرد و جریانی نیست، بلکه دست تک تک پسران و دختران شجاع ایران، مردان و زنان و همه کسانی است که از چهار دهه حکومت\\u200cداری مسولانی ظالم و تبهکار خسته\\u200cاند و در پی شادی، آزادی و زندگی\\u200cای توام با کرامت\\u200c هستند و هیچ کدام از اینها در سایه جمهوری اسلامی امکان پذیر نیست. \\n\\nما مردم پروژه داریم و در پایان این پروژه بساط سپاه تروریست، بسیجی مزدور، شورای نگهبان، ولی فقیه\\u200c، بساط حجاب اجباری، حکم اعدام و همه قوانین ناعادلانه و غیر انسانی را برای همیشه از این سرزمین جمع می\\u200cکنیم. بچرخ تا بچرخیم.\\n\\n#زن_زندگى_آزادى',),\n",
              " ('امروز سالگرد اعدام روح الله زم است. در این مصاحبه از «نیاز زم» دختر او پرسیدم چه کرد با زخم زبانها و تهمت\\u200cهایی که به پدرش زمانی که زنده بود می\\u200cزدند.\\n \\nروح الله زم با یک کانال تلگرامی به نام آمدنیوز، جمهوری اسلامی را چنان به استیصال کشانده بود که در ابتدا تمام توان سایبری و امنیتی جمهوری اسلامی برای بدنام کردن او بود. کسانی که زخم زدند و او را عامل نفوذی جمهوری اسلامی در بین اپوزسیون خواندند. \\n\\nسناریویی که همچنان برای تخریب و بدنام کردن و حذف تمام چهره\\u200cهای فعال و موثر اپوزسیون اجرا کردند و می\\u200cکنند. اما روح الله زم عقب ننشست و ادامه داد. جمهوری اسلامی نیز در نهایت وقتی از ترور شخصیتی او به جایی نرسید، نقشه ربودن و کشتن او را کشید.\\n\\nامروز سه سال از اعدام او به جرم خبررسانی می\\u200cگذرد. روح الله زم شجاع بود. او وقتی مقابل دوربین جلادانش نشست باز از حق مردمش گفت و اینکه اعتراض حق مردم است: «شما می\\u200cگویید اغتشاشات ما می\\u200cگوییم اعتراضات.»\\nیادش گرامی.\\n\\n#روح_الله_زم',)]"
            ]
          },
          "execution_count": 148,
          "metadata": {},
          "output_type": "execute_result"
        }
      ],
      "source": [
        "recommended_tweets = parsed_rdd.flatMap(lambda x: tweet_parser(sample_tweets,x))\n",
        "recommended_tweets.collect()"
      ]
    },
    {
      "cell_type": "code",
      "execution_count": null,
      "id": "42b04f69-59bf-4c11-857f-ec00171b7143",
      "metadata": {
        "id": "42b04f69-59bf-4c11-857f-ec00171b7143"
      },
      "outputs": [],
      "source": [
        "idx = next((i for i, v in enumerate(users_for_graph) if v[0] == top_users[2][0]), None)\n",
        "sample_tweets = users_for_graph[idx][1]"
      ]
    },
    {
      "cell_type": "code",
      "execution_count": null,
      "id": "da8cc713-633d-4868-8628-e2b73acd6256",
      "metadata": {
        "id": "da8cc713-633d-4868-8628-e2b73acd6256",
        "outputId": "71d4e393-c23f-471f-8304-8c4d737eb08c"
      },
      "outputs": [
        {
          "name": "stderr",
          "output_type": "stream",
          "text": [
            "                                                                                \r"
          ]
        },
        {
          "data": {
            "text/plain": [
              "[('هیاتی متشکل از ایرانیان در تبعید یا به تعبیری دیگر «دیاسپورای ایرانی با نام-ژینا-مهسا امینی در محکومیت حضور نمایندگان جمهوری اسلامی در مجمع جهانی پناهندگان سازمان ملل» واقع در شهر ژنو، فردا و همزمان با سفر مقامات جمهوری اسلامی، یک نشست خبری برگزار خواهد کرد.\\n\\nفردا ۱۳ دسامبر یک هیات از زنان دیاسپورای ایرانی شامل وکلای بین المللی، مدافعان حقوق بشر، کارشناسان ژئوپلتیک، شماری از چهره های معروف و نیز قربانیان رژیم آپارتاید جمهوری اسلامی ایران ساعت یک بعدازظهر به وقت محلی نشستی برگزار خواهند کرد. \\nاین گروه هدف عمده و اصلی این گروه برای برگزاری چنین نشستی، محکوم کردن نیت رژیم در  سوء استفاده از مجامع جهانی سازمان ملل با هدف مشروعیت زدایی از ارزشهای حقوق بشری و نیز از بین بردن اعتماد عمومی نسبت به سازمان ملل است. \\nرژیم جمهوری اسلامی از این مجمع جهانی پناهندگان سازمان ملل با هدف ارائه اطلاعاتی نادرست و اغراق آمیز به منظور گمراه کردن توجه سازمان ملل درباره نقض حقوق بشر در ایران سوء استفاده می کند.  \\n\\nبی شک رژیم از نشست مجمع جهانی در امور پناهندگان از افکار عمومی به نفع خودش بهره برداری خواهد کرد. در شرایطی که هیات نمایندگان رژیم این هفته آزادانه و بدون هیچ محدودیتی به اروپا سفر می کنند، از سفر خانواده مهسا امینی برای دریافت جایزه حقوق بشری ساخاروف اتحادیه اروپا و نیز از سفر نرگس محمدی برنده جایزه صلح نوبل ممانعت به عمل آورده است. \\n\\nاین در حالی است که میلیونها پناهجو و مهاجر افغانستانی در ایران نیز نه تنها روزانه با بد رفتاری و اخراج بدون طی شدن مراحل قانونی پرونده مواجه هستند، جمهوری اسلامی با وعده اقامت ، شناسنامه و پول از آنها در حملات نظامی تروریستی خود برای  ایجاد ناامنی در منطقه به عنوان سپر انسانی استفاده میکند.     \\n\\n«ما هیات دیاسپورای ایرانی در سازمان ملل با نام ژینا-مهسا امینی» با هدف جلب تمرکز بر جایگاه ملت ایران و فریاد آزادیخواهانه آنها قصد داریم تلاشهایی دیپلماتیک رژیم را نقش بر آب کنیم. با پنج عضو مذکور این دیاسپورای ایرانی برآمده از گرایشها و پیشینه های مختلف سیاسی، کنفرانس مطبوعاتی و نشست هایی با رسانه های بین المللی برگزار خواهیم کرد. \\n\\nاین هیات به شرکت کنندگان مجمع جهانی امور پناهندگان اعلان میکنند  که دیدار با نمایندگان رژیم، به منزله دست دادن با افرادیست که دستشان به خون مردم آغشته است.',),\n",
              " ('همان ذهنیت مریض استبدادزده\\u200cای که فکر می\\u200cکند فیلم یک کلاغ که از کنار یک جویبار می\\u200cگذرد دارد به نظام سلطنت توهین می\\u200cکند؛ امروز ترانه\\u200cی صادق بوقی را هم توهین به نظام می\\u200cداند!\\nاستبداد جایی نرفته! مستبدها نام\\u200cشان عوض شده!\\nروزی پرویز و فرامرز بودند و امروز حسن و حسین!',),\n",
              " ('حرف\\u200cها و خواسته\\u200cهای خانواده\\u200cهای دادخواه (من خودم از آنان هستم) را باید شنید و به آنها باید احترام گذاشت.  اما نکته جالب اینجاست که گروه\\u200cهای افراطی ماه\\u200cهاست مشغول به بی احترامی به خانواده\\u200cهای دادخواه بوده\\u200cاند.  چه خانواده\\u200cهای پرواز،  چه مادران خاوران (اعتراض بانو مکبث وقتی در پارلمان کانادا صحبت از عدالت برای اعدامیان ۶۷ بود فراموش نشود.)  چطور شد که یک دفعه خانواده\\u200cهای دادخواه برای این جمع مقدس شدند؟',),\n",
              " ('سندی دیگر در رد افسانه\\u200cی ۱۰۰۰۰ سپاهی منع\\u200cشده از ورود به کانادا:  لیستی بلندبالایی که هرگز وجود نداشته است!\\n  \\nاز دقیقه ۲۶ ویدیوی پیوست، پاسخ مرزبانی کانادا به درخواست دریافت نسخه\\u200cای از لیست کذایی \\n را ببینید که وجود چنین لیستی را یکسره رد می\\u200cکند\\n#IRGCterrorists \\n#TrudeauForTreason \\n\\nتوضیح: \\nمرزبانی کانادا همچون هر نهاد عمومی/دولتی  دیگر وظیفه دارد که در زمانی محدود به درخواست\\u200cهای زیر قانون آزادی اطلاعات\\nFreedom of Information Act\\n پاسخ دهد یعنی:\\n\\n  الف. اطلاعات درخواسته را آزاد کند؛\\nب. مدعی شود که اطلاعات درخواسته را در اختیار ندارد؛ یا\\nپ. با ادعای محرمانگی و مانند آن از آزاد کردن اطلاعات درخواسته سر باز زند\\n\\nدر این باره اما پاسخ مشخص مرزبانی کانادا\\n@CanBorder\\nبه درخواست لیست ۱۰۰۰۰ سپاهی اینست که چنین لیست اصولا وجود ندارد',),\n",
              " ('راه بسیار آسان برای پایان دادن به همه این شایعات وجود دارد.  مطمئنم شما هیچ گونه بودجه ای از هیچ منبع نامناسبی دریافت نکرده اید.  پس بگویید چه کسانی در این سال ها به منوتو کمک مالی کرده اند. مشکل کجاست؟',),\n",
              " ('صحبت های امروز اقای #تقی_رحمانی در کلاب هواس پیرو تمامی حواشی نسبت به مراسم نوبل.. ( ضمن اینکه میدانم درد ج ا و پهلوی و پهلوی گراها چیز دیگریست، این رو توییت کردم خطاب به بسیار از غیرپهلوی گراها که شخصا انها را مسبب اصلی جو موجود نوبل/نرگس ستیزی میدانم.. ) \\n\\n#نرگس_محمدى \\n#نوبل https://t.co/nYrxb4r2b3',),\n",
              " ('امثال ما به کی تف میکنیم ، اینها به کی؟!\\n#زن\\u200c_زندگی_آزادی https://t.co/EVq9HaTqKj',),\n",
              " ('یادش به خیر  هشتم جولای امسال بود!\\nحتی یک روز زندان هم حق توماج نیست! مسئولیت جان او مستقیما بر عهده شخص خامنه ای میباشد!\\n#توماج_صالحی \\n#FreeToomaj\\nhttps://t.co/UUsfWk2T2s',),\n",
              " ('قهرمانمون #متین_حسنی که چشمشو در انقلاب #زن\\u200c_زندگی_آزادی از دست داده به ملاقات میثم پدر #کیان_پیرفلک رفته و نوشته:\\n«چشم های ما فدای ملت عزیزمون شد. اما نگذارید که خانواده های داغدار، برادر و خواهرانی که قربانی شدند را فراموش کنیم، در کنارشان بمونیم و اتحاد داشته باشیم تا فردای آزادی»',),\n",
              " ('من خودم وجود این لیست رو مصرانه پیگیری کردم از طریق نماینده منطقه سکونتم،  لیستی از ده هزار پاسدار تحریم شده در کانادا وجود نداره و این فقط بازی تبلیغاتی نوامبر ۲۰۲۲ بوده وقتی از همه طرف به دولت فشار می آوردند سپاه را تروریستی اعلام کند!\\n#IRGCterrorists',),\n",
              " ('توییت زیر از مدیر سازمان حقوق بشر ایران است. #سمیرا_سبزیان جهت اجرای حکم قصاص به انفرادی منتقل شده و حکمش چهارشنبه صبح اجرا میشه. سمیرا در ۱۹ سالگی در سال ۹۳ دستگیر شده.\\nمشکل ما قوانین و روند رسیدگی در دادگاههای جمهوری اسلامی و مجازات اعدامه!\\nنام او را صدا بزنید.\\n#نه_به_اعدام',),\n",
              " ('@ElhamOmidvari واقعا از دولت لیبرال بی اخلاق انتظار دیگه\\u200cای داشتین؟',),\n",
              " ('@ali20192022 والا من هنوز یه حزب با اخلاق پیدا نکردم 🤷',),\n",
              " ('ورژن تالشی هم رسید\\n\\nهمه ایران یکصدا با #صادق_بوقی می رقصد https://t.co/9EVlD2Cdbb',),\n",
              " ('بعضی طرفداران نرگس محمدی میگن ایشون در حرفهاش در مراسم نوبل گفته جمهوری اسلامی غیر قابل اصلاحه. \\n\\nاین متن کامل سخنرانی ایشون از وبسایت خود مؤسسه نوبله.\\n\\nمیشه نشونم بدید خانم محمدی کجای حرفهاش گفته جمهوری اسلامی غیر قابل اصلاحه؟؟\\n\\nhttps://t.co/qlR34r5XBY',),\n",
              " ('@ElhamOmidvari آره ولی حداقل محافظه کارها اینقدر با آخوندها نرد عشق بازی نمی\\u200cکردند و یک مینیمم اخلاق رو (هر چند به ظاهر) داشتند',),\n",
              " ('@rara__co صبح دیدم یه لیست درست کردن با عنوان ری استارتیها برای بلاک، منم توش گذاشتن 😂 من که چپول بی وطن بودم نمیدونم چرا حالا شدم ری استارتی! 😂',),\n",
              " ('@ElhamOmidvari کامنتها را می خوانی فقط نفرت است  چطور به اینجا رسیدیم؟ ج ا مقصر است؟ روزی که ماندلا که ۲۷ سال در زندان بود جایزه صلح نوبل گرفت  آفریقای جنوبی هم همین قدر با تنفر با هم صحبت می کردند؟ ما دوست داشتن را یاد نگرفتیم ۴۴ سال فقط مرگ بر این اون گفتیم ج ا در ما تخم نفرت کاشته',),\n",
              " ('جالبه! تمام این بیانیه براندازانه هست! دیگه چی باید میگفت! سوال من اینه شما بگید کجای این اصلاح طلبانه اس؟! مگر اینکه شما قبول نداشته باشی جنبش مهسا براندازی هست! ضمنا جملات زیادی هست که میشه بهش ریفر کرد من فقط هول هولی یکی از ده ها جمله رو مینویسم :\\nHowever, the world is witnessing a relentless and ruthless government opposing the civil demands of its people for freedom and equality, by means of oppression, massacres, executions, and imprisonment.',),\n",
              " ('@AliAshtari9 سوالمو جواب بدید، به نظر من کل بیانیه براندازانه اس و هیچ کجا رژیم رو تایید نکرده که قابل اصلاح باشه. جواب من همه بیانیه اس! شما کجاشو میگی که براندازی نیست؟!',),\n",
              " ('@ElhamOmidvari یک سری غرغر کرده ایشون. غرغر که براندازی نیست. هرگز هیچ جا تو حرفهاش نگفته باید جمهوری اسلامی براندازی بشه. حتی نگفته جمهوری اسلامی غیر قابل اصلاحه. ماله نکشید.',),\n",
              " ('@AliAshtari9 من سوال بی ربط نپرسیدم. سوال کردید گفتم همه متن . پرسیدم کدام جمله است که شما فکر میکنید نشان بقای ج ا را دارد. ضمنا «ماله نکشید» که من معمولا استفاده نمیکنم فقط راهی برای خاتمه بحث است. \\nخود دانید 🤷',),\n",
              " ('حالا که بحث #نرگس_محمدى داغ هست، من چند تا سؤال دارم. \\n۱. نرگس محمدی کیست و چه کرده؟ \\n۲. به غیر از عکس یادگاری گرفتن با خانواده قربانیان جمهوری اسلامی و چند مصاحبه چه کارنامه ای برای آگاهی جامعه مدنی داشته؟\\n۳. چند کمپین موفق مثل چهارشنبه های سفید، دوربین ما، اسلحه ما و آزادی های یواشکی داشته؟ \\n۴. چقدر در موضوع حجاب که پاشنه آشیل حکومت است آگاهی رسانی کرده؟\\n۵. چند درصد از مردم ایران نرگس را میشناسند؟ \\n#زن_زندگى_آزادى',),\n",
              " ('یعنی بدیهیات رو هم باید توضیح داد؟ اصلا این میتونه زندان باشه؟\\nویدیو مال سه سال قبله وقتی نرگس بعد از سالها زندان به مرخصی آمده بود که بعد ازین باز هم به زندان برگشت.\\nاین نشون میده بدون بررسی سابقه مبارزاتی و زندانش دارید انگ میزنید و فحش میدید! ای فرقه رسوا!',),\n",
              " ('پیام منتشر شده در کانال اینستگرامی #نرگس_محمدى :\\nیقین دارم اراده مردم ایران برای گذار از “حکومت دینی استبدادی\" به ثمر خواهد نشست و ما شاهد آزادی، برابری و دموکراسی در سرزمینمان خواهیم بود. به امید آن روز.\\n\\nنرگس محمدی\\nآذر ۱۴۰۲ https://t.co/4bWolGTizv',),\n",
              " ('🚨مهم\\nدیروز مزدوران رژیم بطور هماهنگ به چند مدرسهٔ #بلوچستان حمله کرده و بسیاری از شهروندان محروم از شناسنامه و طلابشون رو وحشیانه\\u200c ربودند و بردند.\\nاینجا خانم ثابت هم از ظلمی که به بلوچها شده صحبت میکنه. آنها همیشه در صف اول مخالفان رژیم هستند! حمایتشون کنید!\\n#بلوچستان_تنها_نیست https://t.co/lIVxavcVY1',),\n",
              " ('@ElhamOmidvari باز هم\\u200c  #نرگس_محمدى باید هوشمندانه رفتار میکرد و در دام رژیم نمیفتاد! همونطور که برای  #توماج_صالحى دام پهن کردن ولی توماج با یه ویدیو دامشون رو خراب کرد (فقط کافی بود مثلا با آنجلینا جولی حرف نزنه) در کل من موافق صحبت های اخیر این خانم بودم و برای مبارزه\\u200cاش ارزش قائلم',),\n",
              " ('اینجا تهرانه. یکی میگه «این چه کاریه که میکنی؟» اما این زن شجاع بدون توجه ادامه میده... قهرمان های ما این شکلی اند که نمیذارند آتش انقلاب #زن\\u200c_زندگی_آزادی خاموش بشه!\\n#لعنت_به_خامنه\\u200cای\\n#نه_به_جمهوری_اسلامی https://t.co/3pHH91dKVX',),\n",
              " ('خوشحال نیستم ازین توییت👇 اما شما هیچ چیز برای ایرانیها باقی نمیگذارید نه آبرو نه اعتبار... 😔',),\n",
              " ('گفت آن یار کزو گشت سر دار بلند\\nجرمش این بود که اسرار هویدا میکرد\\n\\nامروز سالگرد قتل زنده یاد #روح_الله_زم هست، یادش گرامی!\\nبه یاد بیاریم که حکومت کثیف آخوندی چگونه با پروپاگاندا سعی در مخدوش کردن چهره این قهرمان کرد.\\n#زن_زندگى_آزادى\\u200c \\n#مهسا_امينی\\u200c\\u200c https://t.co/ka19TYteMw',),\n",
              " ('این پیام از پیش ضبط شده و توسط فرانت لاین دفندرز در روز تولد #نرگس_محمدی بعد از بازگشتش به زندان برای طی دوران محکومیت بعدی منتشر شد.\\nآیا میدانستید او تا قبل ازین ویدیو دوازده بار بازداشت و پنج بار محاکمه شده ؟ خبر داشتید محکومیت او مجموعا سی سال حکم حبس قطعی و ۱۵۴ ضربه شلاق بوده؟ میدانید وی بعد از این ویدیو هم به علت ارسال پیام از زندان و نافرمانیهایش دارای شش پرونده جدید در حال رسیدگی و احکام صادره غیابی دیگری چون پانزده ماه زندان (علاوه بر سی سال قبلی) برای دعوت مردم به حضور در خیابان و.. است؟ ضمن اینکه او تا کنون چهار بار و هر بار برای چند ماه به سلول انفرادی منتقل شده است. \\nبرای کسانی که نمیدانند؛ هر زندانی بعد از اتمام هر محکومیت و شروع حکم بعدی برای چند ماه آزاد است. در مورد خانم محمدی هم مجموع سی و یک سال و سه ماه محکومیت به همین صورت است، مثل همه زندانیها با پرونده های متعدد!\\n\\nدر اینجا میگوید: «مبارزه برای دموکراسی و حقوق بشر استقامت و شجاعت می\\u200cخواهد، مردم ایران این آگاهی و اراده برای دستیابی به دموکراسی و آزادی را دارند و بیش از صد سال است که برای آن میجنگند.\\nسرکوب از سوی رژیم نه بر اساس اقتدار و قدرت ، بلکه به دلیل ضعف آنها و قدرت سرزمین من است.»\\n#زن_زندگی_آزادی\\n#نه_به_جمهوری\\u200c_اسلامی',),\n",
              " ('@ElhamOmidvari @rara__co ری استارتی یعنی چی؟! 😎😎',),\n",
              " ('@mishigane @rara__co همین حسینی رو میگه که قبلا مجری بود رفت خارج دیگه. اصلا یه بارم به حرفاش گوش نکردم و نمیدونم اصلا چی میگه و چند تا طرفدار داره',),\n",
              " ('ملانی جولی، وزیر امور خارجه کانادا در گفتگو با تلویزیون CTV هنگامیکه با پرسشی درباره قرار ندادن نام سپاه پاسداران در لیست تروریستی روبرو شد گفت که طی چند هفته آینده خبرهای جدیدی از اعمال فشارهای جدید علیه جمهوری اسلامی که او آن را دولت حامی تروریسم نامید، منتشر خواهد شد!! او تلویحا از نگرانی اتاوا درباره ی امنیت مأموران خود در منطقه گفت: «من فکر میکنم که ما باید در عین حال، به حفظ امنیت دیپلماتها و نظامیان خود در منطقه ادامه دهیم.» اما از ذکر جزئیات بیشتر یا پاسخ به این پرسش که آیا اتاوا نگران انتقام جویی جمهوری اسلامی است، خودداری کرد! او تاکید کرد که از نظر دولت گذاشتن سپاه در لیست تروریستی منتفی نیست منتهی کانادا باید «ابزارهای مناسب برای انجام این کار را در اختیار داشته باشد»!\\n#IRGCterrorists',),\n",
              " ('رئیسی امروز داره میره ژنو تا توی مجمع جهانی پناهندگان سازمان ملل حرف بزنه! الان باید تایملاین با این خبر به آتیش کشیده شده باشه و فراخوان اعتراض داده باشن برای ایرانیهای ژنو! کدومشو انجام دادیم؟ هیچکدوم!\\nبه جاش دارید رهبر عزل و نصب میکنید!   رهبر چی دقیقا؟ کجایید؟ مملکتو باد برد! https://t.co/EcsOA3Xzlr',),\n",
              " ('من اعلام میکنم #نرگس_محمدى براندازی شد! گلشیفته هم همینطور! حالا دیگه میتونیم بریم سراغ جمهوری اسلامی لطفا؟ 🤷',),\n",
              " ('@ElhamOmidvari @swrs22974409 @hamalilalin @Amooamirkhan @cryptosamz @mamadporii الی جان، من میدونم دوستام (شما ها) دغدغه مند هستید، میدونم بی ریا به هر خواسته\\u200cی انقلابی پاسخ میدید،و مردم بلوچستان براتون اهمیت دارند که تگتون کردم، ولی متاسفانه الان مشخص شد زیر توییت شخص مخربی تگ شدید،ازین بابت عذرخواهی میکنم،\\nولی همچنان صدای مردم سیستان و بلوچستان خواهیم بود.',),\n",
              " ('#مهم: اجرای حکم #سمیرا_سبزیان برای یک هفته به تعویق افتاد. ولی این یک هفته سریع\\xa0سپری خواهد شد و کمپین نجات سمیرا را باید با قدرت بیشتر ادامه داد.\\xa0\\n\\nحال چند نکته مهم:\\n- لطفا از عجولانه منتشر کردن خبر برگرداندن زندانیانی که برای اعدام به سلول انفرادی منتقل می\\u200cشوند\\xa0تا روز بعد خودداری کنید. حکومت بارها برای پایین بردن حساسیت پس از برگرداندن زندانی به بند و انتشار خبر تعویق اعدام، مجددا زندانی را به پای چوبه منتقل و حکم\\xa0را اجرا کرده است. یکی از نمونه\\u200cها: کودک-مجرم #آرمان_عبدالعالی بود که\\xa0پس از اینکه برای ششمین بار، جهت اعدام به سلول انفرادی منتقل شده بود، دوباره به بند بازگرداندند و ساعت ۸ همان شب مجددا به پای چوبه دار\\xa0منتقل کرده و حکم را اجرا کردند. آنها حتی اجازه آخرین ملاقات را هم به خانواده آرمان ندادند.\\n\\n- ما نگرانیم که در ایام تعطیلات کریسمس وقتی بیشتر دنیا در تعطیلات است، افراد بیشتری در معرض خطر اعدام باشند. در این ایام بخصوص افرادی که اعدام\\u200cشان در حالت عادی می\\u200cتواند واکنش\\u200cهای بیشتری در بر داشته باشد \\xa0در خطر هستند: زنان، کودک-مجرمان، معترضان و دیگر زندانیان سیاسی.\\xa0\\n\\nلطفا در ۲ هفته پیش\\u200cرو هوشیارتر از همیشه کارزار مخالفت با اعدام ونجات زندانیان را پیش ببریم. در مورد زندانیانی که می\\u200cتوانند در معرض خطر اعدام باشند اطلاع\\u200cرسانی کنید. \\n#نه_به_اعدام \\n#SaveSamira \\n#StopExecutionsInIran',),\n",
              " ('@rara__co @swrs22974409 @hamalilalin @Amooamirkhan @cryptosamz @mamadporii بله من با دوستان بلوچ محترم دیگه ای هم در تماسم. ممنون ازتون',),\n",
              " ('میخواهند به همان روش نخ نما شده #نرگس_محمدى را هم بی اعتبار کنند! بشنوید:\\n«اصلاحات عهد\\u200c و پیمان ما نبود، اصلاحات یک راهکار بود که نشد!  عهد و پیمان ما با مردم است. ما بر سر آن عهد و پیمان ایستاده\\u200cایم و سر آشتی با حکومت نداریم.» https://t.co/zcAL7sLARb',),\n",
              " ('این منم! ساکن ونکوور کانادا! با هویت معلوم، گذشته و حال معلوم! حالا تو بهم بگو مامور، صادراتی، مزدور، پرستو یا هرچی! اما بدون، نمیتونی منو خفه کنی! هرگز!\\nتا ابد #زن\\u200c_زندگی_آزادی https://t.co/gSRqyC0kMN',),\n",
              " ('#آرتین_احمدی از مصدومان چشمی خیزش انقلابی در ویدیویی درخواست پول برای عمل چشمش کرده. زیاد هم وقت ندارن.لطفا لطفا لطفا اگر میتونید کمکش کنید.\\nحساب ارز دیجیتال هم نداره ظاهراً.\\nلطفاً ریتوییت کنید تا به این قهرمانمون کمک بشه\\nhttps://t.co/4XNSz6KMYi https://t.co/YvG9pByxyr',),\n",
              " ('@ElhamOmidvari فایده ای نداره،کسانی که در حال فحاشی به خانم محمدی هستن هدف دار دارن این کار را انجام میدن و اصلا تنها چیزی که براشون مهم نیست شایستگی این بانویه ،برای توماج دیدین چه کردن،چقدر اتهام و فحاشی،حالا که رفت دوباره زندان و هیچ حرفی ازش نیست همه ساکتن،همه اینا سایبرین',),\n",
              " ('@ElhamOmidvari دوست عزیز اغلب لیدرهای این افراد وصل هستند به اتاق فکر خبیث ج.ا. اینا با حقیقت کاری ندارند. عده ای هوچیگرند که با روش\\u200cهای مختلف سعی در گسترش اخبار دروغ و پروپاگاندا دارند. عده ای هیجان زده هم دنبالشون می کنند. همون روش فیک نیوز روسیه هست در ورژن داغونش. اینا رو بدونیم کافیه.',),\n",
              " ('@Rosiefr26 میفهمم چی میگی اما خودتم میدونی بعضی آدمای حقیقی هم کپی همین حرفا رو میزنن فقط نمیخوام نام ببرم. یعنی متوجه نبستن دنبال جریانی که منشاش ج ا راه افتادن؟',),\n",
              " ('فرزندانم یادآوری کردند که امروز، روز کُشته شدن دخترم، خانم دکتر #آیدا_رستمی هم بود، یادم آمد، سال گذشته شنیدم که چگونه پاسخ انسان دوستی و شرافت آیدا را با شکنجه تنِ ظریف اش داده بودند. برای اعدام شدن پسرانم بغض کردم که تا زنده ام فریاد باشم،\\n#مجیدرضا_رهنورد https://t.co/p1CikuR62J',),\n",
              " ('هزاران سال رقصیدیم، هزاران سال دیگر هم خواهیم رقصید! \\n#نه_به_جمهوری\\u200c_اسلامی\\n#زن\\u200c_زندگی_آزادی https://t.co/YqQHjH6JeR',),\n",
              " ('به نظرتون سبا خویی می\\u200cدونه «لیلی بازرگان» همسر شاهین نجفی و مقرب دربار کیه یا انتظار زیادیه ازش؟\\nفوری!🥸 https://t.co/CdNAdeaGJO',),\n",
              " ('جواب نیاز زم دختر زنده یاد #روح_الله_زم به اینکه در مقابل تخریبها چه واکنشی داشته و داره. در آخر هم از اطمینانش به پیروزی مردم میگه.\\n#نه_به_جمهوری\\u200c_اسلامی https://t.co/cT5ao3hD4m',),\n",
              " ('نرگس جان من، مبارک باشه. صدها جایزه جهانی دیگر نمی\\u200cتواند پاسخگوی مبارزات تو باشد.\\n\\nاین گردبند باارزش\\u200cترین گردبند زندگیم است چون تو بهم دادی. هر کسی خودش را به ندانستن بداند منکه می\\u200cدانم تو در داخل زندان با وجود همه فشارهایی که بهت تحمیل می\\u200cشود، چگونه/۱\\n#نرگس_محمدی https://t.co/G4gT7hfZmS',),\n",
              " ('@maroofian_n هر دو شما قهرمان مایید ❤️❤️',),\n",
              " ('این هجده دقیقه رو از تقی رحمانی گوش کنید.\\n مهتدی رو ایشون دعوت نکرده ، توضیح داده چرا. دست دادن به معنی تایید افکار سیاسی کسی نیست. نرگس محمدی برای حمایت از فاطمه سپهری بیانیه داده بوده. در مورد حرفهای خودش در آنجا هم توضیح داد که منظورش چی بوده. به زودی فایلی جداگانه در مورد همه موارد منتشر میکنه.',),\n",
              " ('@ElhamOmidvari قابل توجه اون معدود تجزیه\\u200cطلبان. \\n\\nمادر ژینا این طوری نامه رو تموم کردن: \\n\\nمژگان افتخاری، مادرِ زنده\\u200cیاد ژینا امینی، از شهر ِ سققز ِ کردستان ِ ایران\\n\\nتجریه طلب عزیز، برو اینو واسه دوستات هم تعریف کن',),\n",
              " ('قسمتی از بیانیه #نرگس_محمدی برای دریافت جایزه صلح نوبل:\\n«...حال آنکه حقوق بشر در کشور ایران تحت فشارهای چندجانبه نیروهای قدرتمند سرکوبگر قرار دارد و دولتهای غربی نمیبایست با اتخاذ راهبردهای سرگردان معطوف به استمرار حکومت جمهوری اسلامی، دموکراسی و حقوق بشر را به تأخیر اندازند..» https://t.co/QSMma3xBcL',),\n",
              " ('برای گلشیفته احترام زیادی قائلم، ولی کاشکی پروتکل مراسم رسمی را بهم نمیزد. به نظرم پروتکل شکنی و بی احترامی به قوانین، افتخار ندارد. اصلا نمیتونم نگاه کنم، انگاری دوستم کار بدی کرده باشه، ناراحت میشم. شاید اشتباه میکنم، نمیدونم.',),\n",
              " ('«آسیب دیدگی شدید چشم و صورت #توماج_صالحی در جریان ربایش خشونت آمیز و همراه با ضرب و شتم شدید در بابل»\\nباز هم سندی دیگر در نقض ادعای جعفری، رییس کل دادگستری اصفهان در پایبندی کامل ضابطین قضایی به قانون که البته از آنها تشکر هم کرد و قانون مداری شان را ستود!!!\\nجعفری یا ستایشی اظهار نظر تازه\\u200cای خارج از مصاحبه\\u200cهای فرمایشی\\u200cشان در این مورد ندارند؟! \\nبنظر می\\u200cرسد دلیل نگهداری ناموجه و غیرقانونی توماج در وضعیت بلاتکلیفی، مخفی کردن همین جنایت «برخی» هاست.\\nمنتظرند آثار جراحت و کبودی\\u200cها التیام بیابد تا پس از آزادی احتمالی، سایبری\\u200cها ادعا کنند کدام آثار جراحت؟ و اگر هم توماج از این بی\\u200cقانونی به خودشان شکایت برده و اعلام کند شکایت کردم، لابد میشود انتشار اکاذیب!!!\\nقانون\\u200cمداری\\u200cای که از آن دم میزنید همینقدر فریبکارانه، سست و بی\\u200cبنیاد است.\\n#FreeToomaj',),\n",
              " ('#نرگس_محمدی :جمهوري اسلامي نماينده ي مردم ايران نيست\\nمردم ايران خواهان روابط سازنده با ساير كشورهاي دنيا هستند https://t.co/o0ZA0gbv58',),\n",
              " ('روز گذشته دانشجویان دانشگاه الزهرا در اعتراض به حکم زندان برای #سپیده_رشنو دانشجو همین دانشگاه ، پوسترهایی را برای اعتراض به این حکم و احکام تعلیق صادر شده برای دانشجویان منتشر کردند.\\nجنبش #زن\\u200c_زندگی_آزادی زنده است! ✌️ https://t.co/Wo5hGPQSCG',),\n",
              " ('سعی کردم بگویم \\n\\nاز تمام درد و رنجی که به ما تحمیل کردند. \\n\\nاین اولین و آخرین گفته\\u200cهای من نخواهد بود پس ما ادامه می\\u200cدهیم و به گوش دنیا می\\u200cرسانیم که حکومت ج\\u200cا چگونه همه چیز حتی خاکمان را از ما گرفت؛ اما نمی\\u200cداند این بار دیگر توان مقابله با ما را ندارد.\\nبه امید آزادی \\n\\nمخلص✌🏼 https://t.co/biFfeqRuKz',),\n",
              " ('نظر نامطلوب هست یا هرچی نمیدونم ولی\\nشعارهای تجمعات بازنشستگان به غایت ذلیلانه، حقیرانه و شرم آوره. \\n#زن_زندگى_آزادى',),\n",
              " ('به هموطنان بلوچمان شناسنامه ندادند تا  پیکر بی جان آنها فقط یک عدد باشند! \\n#بلوچستان_تنها_نیست \\n#نه_به_جمهوری\\u200c_اسلامی',),\n",
              " ('@OrcaExplorer @NobelPrize کاش حداقل انگلیسی بلد بودید! نوشتم رویالیست! یعنی سلطنت طلب ، که حمله مجازی کرده! البته که عده ای سایبری هستن اما من نوشتم رویالیست! به شما یک نفر جواب دادم بقیه ببینند چون فحش رکیک ندادی.',),\n",
              " ('@Mehrnoosh اینو ولش کنید اصلا...خدا زدتش! پنج نفر بودن با گلاب دختر نرگسو میزدن و به گلشیفته گفتن فاحشه و اینا، به نظرت اینا آدمای سالمی ان اصلا ؟ مگر اینکه برای جوک بگی اونوقت ما هم میخندیم 😂',),\n",
              " ('برای #سینا_علیخانی دعا کنیم\\nسینا که یادتان هست درتجمع اعتراضی درزمانیکه تجمع داشتن به آنها گفته شد بودجه نداریم که دارویتان را تهیه کنیم درهمان روزها یک دزدی سه و نیم میلیاردی درجریان بود چطور چایی از دور خارج شده به خارج صادرکردید بعد با #چای خارجی مخلوط کردید وآنرا واردکردید https://t.co/jYdijG24Jq',),\n",
              " ('سینا علیخانی نوجوان ۱۴ ساله مبتلا به ام اس آی که نسبت به بی توجهی حکومت به این بیماران معترض بود یک هفته است که در بخش آی سی یو بستری شده است.در بودجه ۱۴۰۲ جایی برای امثال سینا نبود؟ https://t.co/BrtB4Uhpty',),\n",
              " ('دکتر متخصص فاطمه رجایی راد ضمن اعلام اینکه از دانشگاه اخراج شده در اینستگرام خود نوشت :«رودخونه خروشان مسیرشو پیدا میکنه حتی اگه مجبور باشه از دل سنگ\\u200cهای سخت و نفوذناپذیر رد بشه»!\\nاو به عنوان در مراسم تقدیر پزشکان نمونه شهر آمل بدون حجاب اجباری حاضر شد. مطب او توسط سرکوبگران  پلمب شده بود.\\n#زن\\u200c_زندگی_آزادی \\n@AlinejadMasih',),\n",
              " ('دم هر کس که درین کار جمعی شرکت کرد گرم و خسته نباشید! ❤️✌️\\n در پی شکایت تعدادی از قربانیان شکنجه به دادستانی فدرال سوئیس، ابراهیم رییسی در مجمع جهانی پناهنده\\u200cهای سازمان ملل که از فردا در ژنو سوییس برگزار خواهد شد، شرکت نمیکند.\\nدر دادخواست قربانیان، رئیسی به «نسل\\u200cکشی، شکنجه، اعدام\\u200cهای غیرقانونی و جنایت علیه بشریت» متهم شده است.\\n#نه_میبخشیم_نه_فراموش_میکنیم',),\n",
              " ('@MedissTavakoli میفهممت اما اگه ساکت باشن بهتره؟ توانشون همینه. بهشون نگا کن.',),\n",
              " ('@86Ehsan @ElhamOmidvari من امکانش رو دارم از درون مجاهدین سوال بپرسم.\\nتمام کسانی که منو از نزدیک می\\u200cشناسند میدونن که منظورم چیست. بنابراین میرم می\\u200cپرسم وبهت میگم الهام جان.\\nولی تجربه نشون داده که اینجور کارها معمولا(و نه همیشه) کار مجاهدینه.\\nمیدونم که مطلوب خیلی ها نیست ولی واقعیتی است دیگه',),\n",
              " ('با غم و اشک به وقایع نگاه می\\u200cکنم \\u200cو در دل می\\u200cگویم\\u200c شاید ما استحقاق این وضعیت را داریم. مایی که بهترین\\u200cهایمان را لجن\\u200cمال می\\u200cکنیم. به سادگی از گوشه\\u200cهای امن به کسانی که جان، سلامت، عمر و امنیت خود را فدا کرده\\u200cاند توهین می\\u200cکنیم و ذره\\u200cای انصاف در وجودمان نیست. چطور می\\u200cخواهیم در چنین جامعه\\u200cای پر از نفرت و\\u200c میل به عقده\\u200cگشایی دموکراسی ایجاد شود؟ نه. پیش\\u200cبینی من این است که ما همدیگر را خواهیم خورد، از چپی که نوبل صلح #نرگس_محمدی را پروژه اربابی غرب می\\u200cداند، از راست تمامیت\\u200cخواهی که همواره از گوشه میدان دستور لنگش کن می\\u200cدهد، تا هیچ\\u200cکسان حزب باد، که سرباز بی\\u200cاراده بی\\u200cاعتبار کردن مبارزان و آزادی\\u200cخواهان هستند. جامعه مدنی چنین پر کینه قهرمانان خود را فنا می\\u200cکند. دریغ و\\u200c درد.',),\n",
              " ('با غم و اشک به وقایع نگاه می\\u200cکنم \\u200cو در دل می\\u200cگویم\\u200c شاید ما استحقاق این وضعیت را داریم. مایی که بهترین\\u200cهایمان را لجن\\u200cمال می\\u200cکنیم. به سادگی از گوشه\\u200cهای امن به کسانی که جان، سلامت، عمر و امنیت خود را فدا کرده\\u200cاند توهین می\\u200cکنیم و ذره\\u200cای انصاف در وجودمان نیست. چطور می\\u200cخواهیم در چنین جامعه\\u200cای پر از نفرت و\\u200c میل به عقده\\u200cگشایی دموکراسی ایجاد شود؟ نه. پیش\\u200cبینی من این است که ما همدیگر را خواهیم خورد، از چپی که نوبل صلح #نرگس_محمدی را پروژه اربابی غرب می\\u200cداند، از راست تمامیت\\u200cخواهی که همواره از گوشه میدان دستور لنگش کن می\\u200cدهد، تا هیچ\\u200cکسان حزب باد، که سرباز بی\\u200cاراده بی\\u200cاعتبار کردن مبارزان و آزادی\\u200cخواهان هستند. جامعه مدنی چنین پر کینه قهرمانان خود را فنا می\\u200cکند. دریغ و\\u200c درد.',),\n",
              " ('\"دستها، صورت و مخصوصا چشم\\u200c #توماج_صالحی دوباره مورد ضرب و شتم شدید قرار گرفته و دچار کبودی\\u200cهای حاد شده.\"\\nجان توماج در خطر جدیست صداش باشیم.\\n#FreeToomaj https://t.co/ewDmQcMAtN',),\n",
              " ('\"من را از ماشینمان پیاده کردند از موهایم گرفتند و به ماشین خودشان کشیدند و بردند. رئیسشان میگفت فعالیت\\u200cهای تو باعث آسیب به نظام می شود.\"\\n\\nبانو #نرگس_محمدی در تجمع حمایت از برادران #نوید_افکاری در مقابل زندان عادل\\u200cآباد شیراز مورد ضرب شتم\\u200c و بازداشت قرار گرفت. https://t.co/EsbCVodOdz',),\n",
              " ('برخی از همان\\u200cها که نگران رفتن آبروی ایرانیان به خاطر نقض #پروتکل نزد شاه نروژ بودند، چنان به اینستاگرام خانواده سلطنتی سوئد هجوم بردند که آن\\u200cها کامنت\\u200cهای اینستاگرام خود را بستند! 🙂 https://t.co/pAKx0cxzNI',),\n",
              " ('پایان اصلاح\\u200cطلبی چیزی نیست که با شعار بدست بیاد، گرایش اصلاح\\u200cطلبانه زاییده این باوره که گذار از رژیم به دمکراسی ممکن نیست. تا روز براندازی این گرایش ادامه خواهد داشت و هرچقدر براندازی نامحتملتر بنظر برسه دیر یا زود تقویت میشه. تفرقه\\u200cاندازان اپوزیسیون خود بزرگترین خادمین اصلاحاتند',),\n",
              " ('تا دیروز آتش شاه کرمی سیبل تون بود و هر لحظه مورد هتاکی قرار میدادید با الفاظی که لیاقت خودتونه، هیچکی هم صداش درنمیومد ازش حمایت کنه، الان میگید خانواده های دادخواه احترامشون واجبه و حرف نزنید و جواب ندید؟ \\nکهیر نمیزنید ازین دورویی؟',),\n",
              " ('مادر دنیا فرهادی، معترض کشته\\u200cشده، به یاد دختر خود کارون را گلبارن می\\u200cکند و می\\u200cگرید https://t.co/hn4G6AdFyu',),\n",
              " ('نتیجه؟ خانواده سلطنتی سوئد، عکس و متن حمایت از نرگس محمدی را کماکان نگه داشت اما امکان کامنت گذاشتن (شما بخوانید انتقاد یا حمله هماهنگ و سیستماتیک) را غیرفعال کرد. https://t.co/aby4u00G99',),\n",
              " ('@S_Zeinoddin کاش همه مثل تو انتقاد میکردن دوستم ❤️',),\n",
              " ('ویدیو پرچم شیر و خورشید مال پارساله و با هدف خاصی توسط اکانت فتنه برانگیز معلوم الحالی مطرح شده، وارد این بازی نشیم !\\nهیچکدوم از ما به پرچم رسمی کشورمون توهین نمیکنیم و لازم نیست اینو به کسی اثبات کنیم! من هم داشتم تو این گرداب میفتادم پاک کردم. حواستونو بدید به موضوعات مهمتر!',),\n",
              " ('@ElhamOmidvari @S_Zeinoddin یادش بخیر، چنین منشنی هم به من دادی بودی الی جان !! 😬😁😁\\nولی از شوخی گذشته، من خیلی مشکلی با این کار گلشیفته ندارم. به\\u200cنظرم امری عادی میاد که ممکنه در هرمجلسی بروز کنه.\\nشاید زیادی خنگم! نمیدونم',),\n",
              " ('در همین ونکوور دوست سلطنت طلبی دارم که بسیار ناراحت بود که خانوم فرح دیبا ( که من هم بهشون علاقمندم) برگزاری مراسمش رو به گروه شاهکار دانش پژوه سپرده و در میان حرفهاش منو به یاد تقلب چند سال پیش ایشون انداخت! مردم کم حافظه ای هستیم. ببینید! https://t.co/NV4KIRKrNd',),\n",
              " ('چقدر زشته که عکس یک نوجوون که هنوز به سن قانونی نرسیده رو می زارن تو شبکه های اجتماعی تا هر کسی یک چیزی بارش کنه! و اون رو سیبل تحقیر، تمسخر و آزار و اذیت قرار دهند!\\n\\nآیا درکی از حقوق کودک دارید؟ آیا می دونید وقتی یک کودک با چنین واکنشهایی روبرو شود ممکن است چه اثری بر روی روح و روان او بگذارد؟',),\n",
              " ('هنوز با همه دردم امید درمانست \\nکه آخری بود آخر شبان یلدا را...\\nبه یاد #یلدا_آقافضلی قهرمان ۱۹ ساله انقلاب #زن\\u200c_زندگی_آزادی که  پای حرفش ایستاد و اظهار پشیمانی نکرد!#یلدای_ایران https://t.co/QGGTXaq0QP',),\n",
              " ('این تصویر یک دزد و یا جنایتکار نیست!تصویری است از یک معلم است در جمهوری اسلامی! \\nعبدالرزاق امیری، دبیر ادبیات شیراز که به دلیل فعالیت صنفی در راستای احقاق حقوق معلمان، به دو سال حبس خانگی با پابند الکترونیکی محکوم شده است. آقای امیری برای این پابند الکترونیکی باید به حکومت پول هم بدهد! ماهیانه ۶۰۰ هزار تومان به اضافه ۵ میلیون هم ضمانت نگهداری از آن!\\n#نه_به_جمهوری\\u200c_اسلامی \\n#زن_زندگى_آزادى\\u200c',),\n",
              " ('ولی ما امشب از توماج میگیم \\n\\nاگر خونواده شمام الان زنده بودن ازونا میگفتیم\\n\\nکاش باورتون شه که ج ا هیچکسی رو زنده نمیخواد و تمام این بی اعتبار کردن\"هر زنده ای\"از کجا میاد\\n\\nکاش باورتون شه اینااختلاف سیاسی نیست\\n\\nاینا مخالفت باحامیان سپاه ومخالفان\"نه می\\u200cبخشیم و نه فراموش میکنیم\" هست',),\n",
              " ('@MedissTavakoli من یه نوشته از آتش گذاشته بودم فقط فحش و توهین و تهدیدها رو زیرش برو ببین',),\n",
              " ('نرگس محمدی:\\n\\n\"ما تصمیم داشتیم پشت دیوار زندان شیراز، نسبت به وضعیت برادران افکاری، حبیب و وحید، اعتراض داشته باشیم\\n\\nخانواده افکاری پشت دیوار زندان حضور داشتن.ما توی راه بودیم که مورد هجوم وحشیانه ی نیروهای امنیتی قرار گرفتیم.موهای من رو گرفته بودن وباکشیدن موها داخل ماشین بردن\" https://t.co/3B7NmQ7IHE',),\n",
              " ('شما میتونید اینو ببینید و به زندگی عادی برگردید؟!\\nمن نمیتونم 😔\\n#دنیا_فرهادی \\n#نه_به_جمهوری\\u200c_اسلامی \\n#زن_زندگى_آزادى\\u200c',),\n",
              " ('دکلمه\\u200cی مادر #بامشاد_سلیمانخانی بر سر مزار فرزندش 😔\\n او متولد ۱۳۸۲ اهل آبدانان و ساکن دهلران ایلام و دانشجوی مکانیک بود که پس از آزادی از بازداشتگاه با علایم مسمومیت به بیمارستان رفت و جان باخت.\\n#نه_میبخشیم_و_نه_فراموش_میکنیم https://t.co/5vjQbVtH3a',),\n",
              " ('در نامه #زهره_سرو که از زندان نوشته  و از کسانی که در اعتصاب غذایش صداش بودند تشکر کرده میتونید اسامی   رضا پهلوی، نرگس محمدی، سمانه نوروزمرادی، علی کریمی، سپیده قلیان، مهناز طراح، محبوبه رضایی، آنیشا اسداللهی رو کنار هم ببینید. این جنس قهرمانان ماست حالا با هر گرایش فکری که دارند!\\n#زن\\u200c_زندگی_آزادی',),\n",
              " ('نرگس محمدی گفت #نه_به_جمهوری_اسلامی\\n\\nپس چیزی که من در توییت زیر نوشته بودم درست نیست یا دست کم دیگر درست نیست. در نامه به نخست وزیر سوئد، نرگس محمدی خواهان پایان دادن به رژیم سرکوبگر جمهوری اسلامی شده است. صریح و واضح و بی لکنت. کاش این حرف را به همین صراحت در سخنرانی نوبل زده بود چون آن سخنرانی بسیار بیشتر مورد توجه جهانی و رسانه\\u200cای قرار میگیرد. البته ممکن است «پروتکل» های نوشته یا نانوشته باعث شده نخواهد چنین موضع سیاسی صریحی در سخنرانی نوبل بگیرد و آنجا بیشتر بر مسائل حقوق بشری تکیه کند.\\n\\nچند حالت دارد:\\n\\n۱- او پیش از این تحولخواه بوده یا برانداز بوده ولی به چنین صراحتی نمیگفته و پس از فشار افکار عمومی از جمله کارزار «مرگ بر اصلاحات، مرگ بر جمهوری اسلامی» خانواده های دادخواه، تجدید نظر کرده و به صراحت خواهان تغییر رژیم جمهوری اسلامی شده است.\\n\\n۲- او پیش از مراسم نوبل هم به صراحت خواهان تغییر رژیم شده بوده ولی من ندیده بودم.\\n\\n۳- او پیش از مراسم نوبل هم به صراحت خواهان گذار از رژیم جمهوری اسلامی شده بوده ولی بدبینی من نسبت به او به خاطر سابقه رأی به روحانی از داخل زندان و … باعث شده بوده که اندک تفاوتی بین ادبیاتی که او استفاده کرده و آنچه از نظر من ادبیات براندازانه بوده را به معنی تحولخواه بودن او تفسیر کنم.\\n\\n۴- او همچنان ته دلش تحولخواه است و حالا که از تغییر رژیم حرف می\\u200cزند دارد ما را گول می\\u200cزند. شخصا پرداختن به این مورد را بی ارزش می\\u200cدانم چون نیت خوانی درست نیست. هر کسی میتواند هر جور دلش میخواهد نیت خوانی کند. مهم حرفهای خود فرد است و باید به خود حرفهای او پرداخت و آنها را ارزیابی کرد.\\n\\n۵- او الان برانداز شده ولی بعدا دوباره تحولخواه خواهد شد. این مورد هم به نظرم ارزش پرداختن ندارد. آینده را نمیتوان پیشبینی کرد. به علاوه، اگر بعدا دوباره تحولخواه شد حتما دوباره انتقاد خواهم کرد. \\n\\nهر کدام از سه مورد اول که درست باشد به این معنی است که چیزی که من در متن زیر درباره او نوشتم غلط است و باید تصحیح کنم. به ویژه که او فردی است که سالهای سال برای عقایدش هزینه داده و واقعا نمیتوانم به ویژه در حق چنین فردی بی انصافی کنم. البته که امیدوارم در حق هیچکسی بی انصافی نکنم ولی مورد ایشان خاصتر است چون شجاعتی داشته و دارد که من همیشه دوست داشته\\u200cام داشته باشم ولی نداشته\\u200cام.\\n\\nمتن نامه نرگس محمدی به نخست وزیر سوئد خوب است. پس از دریافت جایزه نوبل، هزینه برخورد با نرگس محمدی برای جمهوری اسلامی افزایش پیدا کرده و او دارد از این موضوع به نفع مردم ایران استفاده می\\u200cکند و به جمهوری اسلامی ضربه های نقطه زن می\\u200cزند. اشاره به دادگاه حمید نوری در این نامه بسیار بسیار عالی است. ترند کردن هشتگ حمید نوری توسط ارتش سایبری جمهوری اسلامی درست در روزی که نرگس محمدی این نامه را به نخست وزیر سوئد نوشت نشان میدهد که این ضربه چقدر برای جمهوری اسلامی دردناک بوده است.\\n\\nچنین تذکری از برنده جایزه صلح نوبل به نخست وزیر سوئد هزینه معامله احتمالی سوئد با جمهوری اسلامی بر سر حمید نوری را بسیار برای سوئد افزایش می\\u200cدهد. استفاده نرگس محمدی از جایگاه جدیدی که پیدا کرده برای وارد کردن چنین ضربه\\u200cای به جمهوری اسلامی آن هم از داخل زندانهای جمهوری اسلامی همان شجاعتی است که او داشته و من نداشته\\u200cام و دوست داشته\\u200cام که داشته باشم. با خیلی از عقایدش مخالف بوده\\u200cام ولی ایستادگیش پای عقایدش برایم محترم و تحسین انگیز است.\\n\\nچه بخواهیم چه نخواهیم، برای مقامات غربی در میان مخالفان جمهوری اسلامی مواضع سیاسی هیچکسی به اندازه نرگس محمدی معتبر نیست. اپوزیسیون خارج از کشور پس از افتضاح منشور دیگر هیچ جا جدی گرفته نمی\\u200cشود (حتی در اسرائیل) و بیش از هر چیز مایه خنده دولتهای غربی شده است (خودتان را جای مقامات امنیتی نظامی سیاسی غربی بگذارید که دیدند اپوزیسیون از هم پاشید چون شاهین نجفی را راه ندادند. خنده تان نمی\\u200cگیرد؟). مخالفتهای مجازی با نرگس محمدی نیز به حساب دشمنی جمهوری اسلامی با او گذاشته میشود و حتی باعث اعتبار بیشتر او میشود. حمله به او در فضای مجازی از جنس ترند شدن هشتگ حمید نوری فهمیده میشود. همکاری جمهوری اسلامی با روسیه و چین برای پروپاگاندا در فضای مجازی برای کشورهای غربی شناخته شده است. وقتی خود نرگس محمدی در نامه رسمی به نخست وزیر سوئد خواهان تغییر رژیم جمهوری اسلامی میشود حمله هایی که به او میشود و میگویند او اصلاح\\u200cطلب است پروپاگاندای جمهوری اسلامی فهمیده می\\u200cشود که این فهم تا حد زیادی درست است.\\n\\n(ادامه در توییت پایین) ⬇️',),\n",
              " ('این ترند دیروز توئیتره! میدونید چیو نشون میده؟ که این فضا در کنترل کامل جمهوری اسلامیه!\\nشاید امروز هم با دیدن تایملاین به همین نتیجه رسیده باشید، فقط خواستم مستندش کنم.\\nکودن نباشیم!\\n#نه_به_جمهوری\\u200c_اسلامی https://t.co/NZziGkGwhJ',),\n",
              " ('خطاب به صدا و سیما؛ بله ما پروژه داریم.\\n\\nخوشحالم به اینکه کارشناسان صدا و سیما این چنین حقیر مجبور شدند اعتراف کنند به موفقیت کمپین\\u200cهای ما زنان ایرانی علیه حجاب اجباری و جمهوری اسلامی. به قدرت ما زنان که رفتیم روی اعصاب خامنه\\u200cای و حکومتش. کارشناسان واپسگرای حکومت که در برابر قیام زنان علیه حجاب اجباری، دین اجباری و سبک زندگی تحمیلی عصبانی هستند هر از چند گاهی هم لگدی به من می\\u200cزنند. \\n\\nباید بگویم کل پروژه اتفاقات ده ساله اخیر دست مسیح علینژاد نیست بلکه دست تک تک ما زنان و مردان ایران است که فهمیدیم حجاب زوری پاشنه آشیل نظام پوسیده شماست. آنچه شما نفهمیدید این است که این یک پروژه فردی نیست بلکه کاری جمعی است و از زمان آغاز به کار کمپین آزادی\\u200cهای یواشکی تا چهارشنبه\\u200cهای سفید و دوربین ما اسلحه ما، این مردم ایران بودند که شانه به شانه هم ایستادند و کنار هم\\u200c مبارزه کردند. من تنها امتداد صدای این زنان و مردان آگاه بودم و خواهم بود تا روز سرنگونی جمهوری اسلامی.\\n\\nآری ما مردم \\u200cپروژه داریم، پروژه برچیدن طومار حکومتی ضدزن و کودک\\u200cکش. اما این پروژه دست هیچ فرد و جریانی نیست، بلکه دست تک تک پسران و دختران شجاع ایران، مردان و زنان و همه کسانی است که از چهار دهه حکومت\\u200cداری مسولانی ظالم و تبهکار خسته\\u200cاند و در پی شادی، آزادی و زندگی\\u200cای توام با کرامت\\u200c هستند و هیچ کدام از اینها در سایه جمهوری اسلامی امکان پذیر نیست. \\n\\nما مردم پروژه داریم و در پایان این پروژه بساط سپاه تروریست، بسیجی مزدور، شورای نگهبان، ولی فقیه\\u200c، بساط حجاب اجباری، حکم اعدام و همه قوانین ناعادلانه و غیر انسانی را برای همیشه از این سرزمین جمع می\\u200cکنیم. بچرخ تا بچرخیم.\\n\\n#زن_زندگى_آزادى',),\n",
              " ('نیروهای امنیتی محوطه داخل بهشت زهرا مسیرهای منتهی به قطعه ۳۲۰ را مسدود کرده  و مانع از برگزاری مراسم یادبود #روح_الله_زم شدند.\\n#نه_به_جمهوری\\u200c_اسلامی https://t.co/TSqkYs006a',),\n",
              " ('برای دادخواهی به مادر #محمدجواد_زاهدی، جوان ۲۰ ساله\\u200cای که در شهریور ۱۴۰۱ کشته شد حکم ۱۳ سال حبس دادند و از امروز، سه روز به او فرصت دارد تا خودش را به زندان تحویل دهد. \\nصدای رنج #مهسا_یزدانی باشیم.\\n#زن\\u200c_زندگی_آزادی https://t.co/tfDJqyolOV',),\n",
              " ('متن کامل نامه #سپیده_قلیان از زندان:\\nبا دستور وزارت اطلاعات جمهوری اسلامی، محکوم به نفی بلد هستم.\\xa0\\nسالهاست که در تبعید به سر می\\u200cبرم. طی این سال\\u200cها برای رفع این حکم دست به هر کاری زده\\u200cام؛ نامه نگاری، مذاکره، مناقشه، تحصن، اعتصاب. گفته\\u200cام جان و نان خانواده\\u200cام در خطر است، هر هفته طی کردن هزاران کیلومتر راه مصیبت است. اما هر بار با ادامه\\u200cی روند تبعید به من محرز شده است که حرف نماینده سازمان زندان\\u200cها در زندان بوشهر درست بود: جنازه\\u200cت به خوزستان بازخواهد گشت.\\xa0\\nعلی ایحال در این مصیبت\\u200cکده که ملتمان مرگ را نفس می\\u200cکشد صحبت از رنج نفی بلد برای من و خانواده\\u200cام شاید بی\\u200cجهت باشد. نفی بلد من در برابر اینکه جمهوری اسلامی در روز روشن می\\u200cتواند کودک ۱۶ ساله را سلاخی کند هیچ است. اما این نامه را ثبت کردم که بگویم اگر این کیلومترها روزی قاتل خانواده\\u200cام شد، یادمان باشد که به غیر از مذاکره و مناقشه با نامسئولین نامحترم جمهوری اسلامی و تحصن، اعتصاب و نامه\\u200cنگاری با آنها، به مردم نیز گفته\\u200cام: من سپیده قلیان پنج سال است که به دستور وزارت اطلاعات به نفی بلد محکوم شده\\u200cام!\\nسپیده قلیان\\xa0\\nآذر ۱۴۰۲ زندان اوین',),\n",
              " ('یادمه پارسال این موقع از ترس اینکه سر اذان صبح یکیمونو اعدام نکنن خوابم نمیبرد...صبح زود به خانواده\\u200c #مجیدرضا_رهنورد گفتند که اعدامش کردیم و خودمون هم خاکش کردیم... 💔\\nمجیدرضا جان ، تو قهرمان یک ایرانی و ما انتقامتو میگیریم، بهت قول میدم! https://t.co/KifwEh0EUg',),\n",
              " ('پدیده فروپاشیده\\u200cی #فرشگرد: امتداد سکوت یا حقیقت\\u200cپوشی مصلحتی بخشی از  #پادشاهیخواهان\\nنقد موردی نوشتاری از دکتر رضا تقی\\u200cزاده (تصویر)\\n\\n\"مرور تاریخی\" کوتاه جناب @Rtaghizade، به ویژه آنجا که به تاریخ نزدیک- از 2019 بدین سو-می\\u200cرسد، بیشتر نشان از عدم \"مرور\" پیشامد\\u200cهای \"تاریخی\" مربوط دارد. \\nاشکال بزرگ دیگر نوشتار ایشان، ناسازگاری آن نقادی با دسته\\u200cای دیگر از مواضع نقاد است- مواضعی که اتفاقا در همین روزها از سوی ایشان بازنشر شده\\u200cاند. \\n \\nمروری بر حقایق برشمرده در زیر باید روشنگر باشد:\\n\\n1- فرشگرد- که در سپتامبر 2018 با عضویت و امضای 40 تن بنیان گذارده شد- در کمتر از یک سال در پایان اوت 2019  دچار از هم گسستگی شد و سرانجام فروپاشید.\\n\\n2- از میان بنیان\\u200cگذاران فرشگرد، سه تن سابقه عضویت در \"دفتر تحکیم وحدت حوزه و دانشگاه\"، و \"سازمان ادوار تحکیم وحدت\" داشته اند: علیرضا کیانی، یوحنا (یوهان) نجدی، و امیرحسین اعتمادی. در کنار این سه، حامد شیبانی راد، با آنکه عضو رسمی تحکیم وحدت نبوده است، به عنوان حامی در دفتر تحکیم وحدت حضور می\\u200cیافته است (\"تحکیمیان سابق\"). \\n\\n3- به محض از هم گسستگی فرشگرد، امیرحسین اعتمادی کنترل وبسایت و حساب\\u200cهای فرشگرد در شبکه\\u200cهای اجتماعی را به دست گرفت.\\n\\n4- همزمان، امیر اعتمادی در گفتگو با @PahlaviReza ایشان را قانع کرد که همچنان حساب\\u200cهای زیر عنوان \"فرشگرد\" را دنبال کنند. این جریان تا به امروز ادامه داشته است.\\n\\n5- به رغم شکست تلاش\\u200cها برای انسجام دوباره فرشگرد و نجات آن از فروپاشی، امیر اعتمادی همچنان به کنترل وبسایت و حساب\\u200cهای فرشگرد ادامه داد؛ چنان\\u200cکه از سپتامبر 2019 بدین سو، \"تحکیمیان سابق\" به \"سردبیری\" و صلاحدید شخص اعتمادی همچنان به انتشار مطالب مورد نظر خود زیر عنوان \"فرشگرد\" ادامه دادند.\\n\\n6- \"تحکیمیان سابق\"، خودسرانه نام بیش از نیمی از بنیان\\u200cگذاران فرشگرد را از وبسایت آن شبکه (سابق) حذف کردند. \\n\\n7- در پی سه مورد پیش\\u200cگفته،  امیر اعتمادی در تماس با مدیریت رسانه\\u200cهای پارسی\\u200cزبان خواستار  قطع دعوت از برخی از بینان\\u200cگذاران فرشگرد شد. از نوامبر 2019 رسانه\\u200cهایی چون @IranIntl به این درخواست تمکین کردند.\\n\\n8- در بحبوبه خیزش\\u200cهای بزرگ مردمی در ایران،\"تحکیمیان سابق\" با ادعای هم\\u200cراستایی با نظرات شاهزاده، مبتکر انتشار شعارهایی با مضمون \"بسیجی هموطن ...\"، \"پاسداران میهن...\" و مانند آن بوده اند.\\n\\n9- با وجود حمایت گسترده مردمی (از جمله اکثریت قاطع هم\\u200cمیهنان پادشاهی\\u200cخواه)  از برخورد همه\\u200cجانبه با ارکان سرکوبگری رژیم و در صدرشان سپاه پاسداران انقلاب اسلامی،  \"تحکیمیان سابق\" با تمرکز بر حقله تصمیم\\u200cسازان اصلی طیف پادشاهی\\u200cخواه، نقش پررنگی در طرح ایده همراه کردن  #IRGCterrorists و مماشات با ایشان برای \"عبور از نظام\" و \"حفظ امنیت کشور در فردای براندازی\" داشته اند.\\n\\n10- آن\\u200cچه جناب @Rtaghizade \"ثبت موسسه ...ایران نوین\" می\\u200cنامد، عملا چیزی جز تغییر نام حساب\\u200cهای دزدیده، از \"فرشگرد\" به \"حزب ایران نوین\" نیست.\\n\\n#IranRevolution \\n#جاوید_ایران',),\n",
              " ('@kaveh_shirzad فقط نام بی شرف بر همچین آدمایی میشه گذاشت. حقوق کودکان و نوجوانان چیزی نیست که بشه آسانش گرفت!',),\n",
              " ('بله، من تمام قد در مقابل اصلاحات رژیم کثیف اسلامی ایستاده ام و بله، من تمام قد در کنار #نرگس_محمدى هم ایستاده ام! حالا اگر شما اینو فهمیدین معلومه این رژیم جاعل رو شناختید.\\nپ.ن: شش پرونده جدید نرگس برای همان بیانیه ها و ارتباطات از داخل زندان است که شما نگرانش بودید! https://t.co/F4OSiufJlP',),\n",
              " ('من اهل کشوری هستم که در آن مردمانی ازینکه جایزه نوبل صلح به زندانی زندان حکومت سرکوبگرش تعلق گرفته ناراحتند!\\nاگر از حمایت جامعه جهانی از طریق بیانیه و جایزه دادن به مخالفان حکومت خشمگینید و به جاش میخواهید جمهوری اسلامی را برایتان براندازی کنند، پس هنوز باید با همین حکومت بسازید! https://t.co/kWxhjz3MUf',),\n",
              " ('این توییت از یکی از اعضای سابق فرشگرد است که نشان میدهد چهار نفر از اعضا که قبلا هم در دفتر تحکیم وحدت جمهوری اسلامی عضو بودند،  عامل اصلی ارتباط و ایجاد تفکر همراهی و ریزش سپاه پاسداران در آقای پهلوی میباشند. اسامی معرفی شده در توییت  امیرحسین اعتمادی، علیرضا کیانی، یوحنا نجدی و حامد شیبانی راد است.',),\n",
              " ('در جمهوری اسلامی هر چه عشق است و زندگی و زیبایی و حقیقت ، پشت میله ها اسیر است!\\n#نیلوفر_حامدی\\n#زن\\u200c_زندگی_آزادی https://t.co/6WdIpowO26',),\n",
              " ('فکر کن چقد باید نفهم باشی که یکی مثل شاهین نجفی و یاسمین پهلوی بهت تذکر جدی و مهم بدن که رفتارت در شأن یک انسان نیست و عقب\\u200cمانده و زشته. https://t.co/yy8MRvvGUO',),\n",
              " ('در ایران فقط یک مرده می\\u200cتواند قهرمان شود، \\u200cوگرنه باقی حتی یک زندانی در زندان\\u200cهای همان مملکت که برنده جایزه نوبل صلح شده هم از تهمت و افترا و  تخریب  در امان نمی\\u200cماند. باشد که رستگار شوید!\\n\\n#نرگس_محمدى',),\n",
              " ('ما همه خانواده #ماشالله_كرمی هستیم و به بازداشت غیر قانونی او اعتراض داریم! \\n#محمدمهدی_کرمی https://t.co/fMsIbMefKx',),\n",
              " ('این سرزمین هیچ رهبری ندارد غیر از شما دختران شجاع ایران زمین!\\nشمایی که با هر تار مویی ته دل دیکتاتور را خالی میکنید و پایه های حکومتش را\\nمی لرزانید. به شما باور دارم، به مبارزه تان، رویاهایتان، خنده ها و پاپس نکشیدنهایتان!\\nدختران خوب سرزمینم! شما این نبرد را خواهید برد. برایم از روز روشنتر\\nاست که چگونه خشک مغزان ضدزن را به زیر خواهید کشید. \\nآری شما از جنس عشق و آزادی هستید.\\nتاهمیشه #زن_زندگی_آزادی\\n#مسیح_علینژاد',),\n",
              " ('پارسال همین موقع صبح به خانواده #مجیدرضا_رهنورد زنگ زدند خبر اعدامشو دادند و گفتند خودشون دفنش کردند! 💔\\nمجیدرضا جان! تو قهرمان یک ایرانی! انتقامتو میگیریم!\\n#نه_میبخشیم_و_نه_فراموش_میکنیم https://t.co/uvO9EXxks7',),\n",
              " ('دانش آموز ۱۹ ساله بلوچ،  #محمود_رخشانی اهل زابل که روز ۱۲ شهریور توسط اطلاعات سپاه بازداشت شده بود،بر اثر شکنجه و ضربه از ناحیه سر در بازداشتگاه بعد از ۳ ماه کما در تاریخ ۲۰ آذرماه ۱۴۰۲  در بيمارستان جان باخت.\\n#بلوچستان_تنها_نیست https://t.co/65om0t5k5C',),\n",
              " ('برای خوش\\u200cآمد #IRGCterrorists https://t.co/swCH7sCfOo',),\n",
              " ('@Mehrnoosh این همونه که انگشت کردن رو تایید میکرد؟ 🫣',),\n",
              " ('#فوری: حکم اعدام #سمیرا_سبزیان قرار است چهارشنبه صبح (حدود ۳۰ ساعت دیگر) اجرا شود! او به قرنطینه منتقل شده است. در حال حاضر فقط واکنش شدید جامعه\\u200cجهانی و مردم ایران می\\u200cتواند جان سمیرا را نجات دهد! هرکجا هستید از هر طریقی که میتوانید تلاش کنید تا جلوی اجرای حکم سمیرا را بگیریم! #نه_به_اعدام',),\n",
              " ('چت یکی از اعضای سابق فرشگرد با امیر اعتمادی در مورد نیروی بسیج!\\nحالا میتونید ببینید منشا فکر ریزش سپاه پاسداران و یکی کردن اون با دیگر نیروهای انتظامی در آقای پهلوی از کجا میاد!\\n#IRGCterrorists',),\n",
              " ('من……\\nو سرانجام شبی مست و مدهوش و کمی ژولیده با بدن های به خون غلتیده \\nبر مزار نجس و نحس شما میرقصیم….!\\n#مهسا_امینی\\n #مجیدرضا_رهنورد\\n#زن_زندگی_آزادی \\n#صادق_بوقی https://t.co/rrhPpuYJHs',),\n",
              " ('@Ghazalam23 @ElhamOmidvari به نظرم در خصوص خانواده هاى دادخواه بايد كمى با صبر و تامل حركت كنيم!\\nدر خصوص اكانت ١٥٠٠ تصوير هم همينطور!\\nهمين چند وقت پيش از سمت سايبرى ها و سلطنت طلب ها بهش حمله شده بود كه چرا صداى فلان طيف هست و فلان طيف نيست..\\nبهتر نيست باهاشون وارد گفتمان شيم و حرفهاشون رو بشنويم؟',),\n",
              " ('فکرش را بکنید مامورها یکباره میریختن و ۲۵۰ نفر بیگناه تهرانی یا رشتی را با خشونت دستگیر میکردند.\\nبنظر خودتان بازهم رسانه اینگونه لال میشدن؟\\nاین تخم نفاق و دلسردی را خودتان میپاشید.\\nوقتی در دردها یارمان نباشید چگونه از ما انتظار همراهی خواهید داشت؟\\n#بلوچستان',),\n",
              " ('#سمیرا_سبزیان \\nجهت اجرای حکم قصاص به انفرادی منتقل شد ،حکم وِی چهارشنبه صبح اجرا میشود،سمیرای ۱۹ ساله به همراه خواهر ۱۴ ساله ی خود در سال ۹۳ دستگیر میشوند\\n مشکل ما قوانین اسلامی است و باید جلوی هرگونه اع*دام را بگیریم\\nنام او را باهم تکرار کنیم\\n#نه_به_اعدام\\n#IRGCterrorists',),\n",
              " ('چرا #نرگس_محمدى رژ لب قرمز میزند؟ 😉\\nاز زبان خودش بشنوید:\\n\"برای من مبارزه، مقاومت همه\\u200cی اینها توی زندگی معنا پیدا میکنه \\nمن درعین مبارزه ،در عین مقاومت زندگی میکنم و اهل تظاهر هم نیستم\"\\n#زن\\u200c_زندگی_آزادی https://t.co/tVN37cJYdt',),\n",
              " ('مادر جاویدنام #عرفان_ساریخانی، با نزدیک شدن شب یلدا نوشت:\\n«عرفانم، مامانی امسال دومین یلدایی هست که نداریمت، دلم برای شیطنت\\u200cهات تنگ شده دلم برای خنده هات تنگ شده. پاشو بازم ما رو بترسون. پاشو بازم سر به سرمون بذار، یادته بهت می\\u200cگفتم عرفان یکم جدی باش میگفتی سخته نمی\\u200cتونم. پاشو هر کاری دوست داری بکن، اصلا هر چی تو بگی همونه، فقط پاشو مامان خسته شدم انقدر ادای ادمای قوی رو درآوردم، اتقدر الکی لبخند زدم که اطرافیانم غصه نخورن، پاشو ببین مردم چجوری امسالم مثل پارسال یلدا دارن جشن میگیرن، شادی میکنن، پاشو ببین شاید خودتم پشیمون بشی از این داغی که به دل من و غزل گذاشتی داغی که داییت رو از پا دراورد داغی که مادربزرگتو زمین گیر کرد پاشو ببین هیچی ارزش اینا رو نداشت، راحت بزرگ نشده بودی که راحت بگیرنت ازم، هم پدری کردم هم مادری ،الان وقت خزونت نبود وقت لذت بردن من بود از وجودت»',),\n",
              " ('این چرا منو بلاک کرده؟ سخنگوی کی بودی تو 😂 https://t.co/dJ1R5VQar4',),\n",
              " ('وظیفه همه\\u200c ماست که در کنار عزیزانی باشیم\\u200cکه برای آزادی وطن\\u200c\\u200c هزینه داده اند.\\nلطفا در کنار #الهام_مدرسی عزیزمان باشیم\\u200c که هنوز به کمکمون نیاز داره تا مراحل درمانش کامل بشه. لینک\\u200c کمک مالی در توییت کوت شده هست. لطفا اونو در همه شبکه های اجتماعی نشر دهیم.',),\n",
              " ('@Zrp_a من گفتم بکشننشون؟! مگه سال پنجاه و هفته که همه رو اعدام کنن؟ نمیبخشبمشون و دادگاهی میشن.\\nمنتظر ریزش سپاه بودن و اینکه فک کنی اینا مثل نیروی انتظامی از مردمن فکر غلطیه! سپاه خود جمهوری اسلامیه! وگرنه که تو داری با چی میجنگی؟!!',)]"
            ]
          },
          "execution_count": 142,
          "metadata": {},
          "output_type": "execute_result"
        }
      ],
      "source": [
        "recommended_tweets = parsed_rdd.flatMap(lambda x: tweet_parser(sample_tweets,x))\n",
        "recommended_tweets.collect()"
      ]
    }
  ],
  "metadata": {
    "kernelspec": {
      "display_name": "bigdataKernel",
      "language": "python",
      "name": "bigdatakernel"
    },
    "language_info": {
      "codemirror_mode": {
        "name": "ipython",
        "version": 3
      },
      "file_extension": ".py",
      "mimetype": "text/x-python",
      "name": "python",
      "nbconvert_exporter": "python",
      "pygments_lexer": "ipython3",
      "version": "3.12.0"
    },
    "colab": {
      "provenance": []
    }
  },
  "nbformat": 4,
  "nbformat_minor": 5
}